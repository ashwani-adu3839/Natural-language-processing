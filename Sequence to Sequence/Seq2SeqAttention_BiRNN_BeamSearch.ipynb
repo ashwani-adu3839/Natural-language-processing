{
  "nbformat": 4,
  "nbformat_minor": 0,
  "metadata": {
    "accelerator": "GPU",
    "colab": {
      "name": "Seq2SeqAttention_BiRNN_BeamSearch.ipynb",
      "provenance": [],
      "collapsed_sections": [],
      "machine_shape": "hm"
    },
    "kernelspec": {
      "display_name": "Python 3",
      "language": "python",
      "name": "python3"
    },
    "language_info": {
      "codemirror_mode": {
        "name": "ipython",
        "version": 3
      },
      "file_extension": ".py",
      "mimetype": "text/x-python",
      "name": "python",
      "nbconvert_exporter": "python",
      "pygments_lexer": "ipython3",
      "version": "3.6.9"
    }
  },
  "cells": [
    {
      "cell_type": "code",
      "metadata": {
        "id": "H7QNNXX5xrCB"
      },
      "source": [
        "import os\n",
        "os.environ['TF_CPP_MIN_LOG_LEVEL'] = '2'\n",
        "from tensorflow.keras.layers import Bidirectional, Concatenate, Permute, Dot, Input, LSTM, Multiply\n",
        "from tensorflow.keras.layers import RepeatVector, Dense, Activation, Lambda, Embedding, GRU, Bidirectional\n",
        "from tensorflow.keras.optimizers import Adam\n",
        "from tensorflow.keras.utils import to_categorical\n",
        "from tensorflow.keras.models import load_model, Model\n",
        "from sklearn.model_selection import train_test_split\n",
        "import tensorflow.keras.backend as K\n",
        "import numpy as np\n",
        "import pydot\n",
        "import tensorflow as tf\n",
        "import pickle\n",
        "import string\n",
        "import time\n",
        "import re\n",
        "import matplotlib.pyplot as plt\n",
        "import matplotlib.ticker as ticker\n",
        "from pickle import dump\n",
        "from unicodedata import normalize\n",
        "from numpy import array\n",
        "DATASET_PATH = \"path/file\""
      ],
      "execution_count": null,
      "outputs": []
    },
    {
      "cell_type": "code",
      "metadata": {
        "id": "NLRbDHWexrCU"
      },
      "source": [
        "# load doc into memory\n",
        "def load_doc(filename, n):\n",
        "    # open the file as read only\n",
        "    file = open(filename, mode= 'rt' , encoding= 'utf-8')\n",
        "    # read all text\n",
        "    text = file.read().strip().split('\\n')\n",
        "    text = [line.split('\\t') for line in text]\n",
        "    text = [[line[0],line[1]] for line in text] # first language and second language/Question and Answer/Text and summary\n",
        "    text = text[:n]\n",
        "    # close the file\n",
        "    file.close()\n",
        "    return text"
      ],
      "execution_count": null,
      "outputs": []
    },
    {
      "cell_type": "code",
      "metadata": {
        "id": "-wrIahkUxrCV"
      },
      "source": [
        "# Process the data file\n",
        "def process_pairs(line):\n",
        "#    line = ' '.join(line)\n",
        "    line = line.lower().strip()\n",
        "    line = normalize('NFD' , line).encode('ascii' , 'ignore')\n",
        "    line = line.decode('UTF-8')\n",
        "    line = re.sub(r\"([?.!,¿])\", r\" \\1 \", line)\n",
        "    line = re.sub(r'[\" \"]+', \" \", line)\n",
        "    line = re.sub(r\"[^a-zA-Z?.!,¿]+\", \" \",line)\n",
        "    line = line.strip()\n",
        "    line = '<start> ' + line + ' <end>'\n",
        "    return line"
      ],
      "execution_count": null,
      "outputs": []
    },
    {
      "cell_type": "code",
      "metadata": {
        "id": "V4eUHlPLxrCW"
      },
      "source": [
        "def tokenize(lang):\n",
        "    lang_tokenizer = tf.keras.preprocessing.text.Tokenizer(filters='')\n",
        "    lang_tokenizer.fit_on_texts(lang)\n",
        "    tensor = lang_tokenizer.texts_to_sequences(lang)\n",
        "    padded = tf.keras.preprocessing.sequence.pad_sequences(tensor, padding='post')\n",
        "    return padded, lang_tokenizer"
      ],
      "execution_count": null,
      "outputs": []
    },
    {
      "cell_type": "code",
      "metadata": {
        "colab": {
          "base_uri": "https://localhost:8080/"
        },
        "id": "lobGM4tvxrCX",
        "outputId": "2bdbd679-d66b-4243-d7c5-b55dee898f36"
      },
      "source": [
        "Numb = 30000 # number of data lines\n",
        "doc = load_doc(DATASET_PATH, Numb)\n",
        "first_language = []\n",
        "second_language = []\n",
        "for text in doc:\n",
        "    first_language.append(process_pairs(text[1]))\n",
        "    second_language.append(process_pairs(text[0]))\n",
        "len(doc)"
      ],
      "execution_count": null,
      "outputs": [
        {
          "output_type": "execute_result",
          "data": {
            "text/plain": [
              "30000"
            ]
          },
          "metadata": {
            "tags": []
          },
          "execution_count": 476
        }
      ]
    },
    {
      "cell_type": "code",
      "metadata": {
        "colab": {
          "base_uri": "https://localhost:8080/",
          "height": 35
        },
        "id": "W317oCfexrCX",
        "outputId": "5e5b7007-2319-4c4d-b2de-dbef8226ef72"
      },
      "source": [
        "first_language[-10]"
      ],
      "execution_count": null,
      "outputs": [
        {
          "output_type": "execute_result",
          "data": {
            "application/vnd.google.colaboratory.intrinsic+json": {
              "type": "string"
            },
            "text/plain": [
              "'<start> vamos a divertirnos mucho . <end>'"
            ]
          },
          "metadata": {
            "tags": []
          },
          "execution_count": 477
        }
      ]
    },
    {
      "cell_type": "code",
      "metadata": {
        "colab": {
          "base_uri": "https://localhost:8080/"
        },
        "id": "uy9Wx8dcxrCY",
        "outputId": "5bcc57be-88e9-4759-fdea-6c810981ee8d"
      },
      "source": [
        "input_padded, inp_tokenizer = tokenize(first_language)\n",
        "target_padded, targ_tokenizer = tokenize(second_language)\n",
        "max_length_targ, max_length_inp = target_padded.shape[1], input_padded.shape[1]\n",
        "max_length_targ, max_length_inp"
      ],
      "execution_count": null,
      "outputs": [
        {
          "output_type": "execute_result",
          "data": {
            "text/plain": [
              "(11, 16)"
            ]
          },
          "metadata": {
            "tags": []
          },
          "execution_count": 478
        }
      ]
    },
    {
      "cell_type": "code",
      "metadata": {
        "id": "PzaIA0018omF"
      },
      "source": [
        "start_tk = targ_tokenizer.word_index['<start>']\n",
        "end_tk = targ_tokenizer.word_index['<end>']\n",
        "start_tk,end_tk"
      ],
      "execution_count": null,
      "outputs": []
    },
    {
      "cell_type": "code",
      "metadata": {
        "colab": {
          "base_uri": "https://localhost:8080/"
        },
        "id": "Km65oV1l8omG",
        "outputId": "49cc3a04-8192-461c-8d19-800c592496ea"
      },
      "source": [
        "input_tensor_train, input_tensor_val, target_tensor_train, target_tensor_val = train_test_split(input_padded, target_padded, test_size=0.1)\n",
        "print(len(input_tensor_train), len(target_tensor_train), len(input_tensor_val), len(target_tensor_val))"
      ],
      "execution_count": null,
      "outputs": [
        {
          "output_type": "stream",
          "text": [
            "27000 27000 3000 3000\n"
          ],
          "name": "stdout"
        }
      ]
    },
    {
      "cell_type": "code",
      "metadata": {
        "colab": {
          "base_uri": "https://localhost:8080/"
        },
        "id": "aeN-um9SxrCZ",
        "outputId": "eef1c68d-6e19-4079-b835-7a00b1b646e7"
      },
      "source": [
        "BUFFER_SIZE = len(first_language)\n",
        "BATCH_SIZE = 64\n",
        "steps_per_epoch = len(first_language)//BATCH_SIZE\n",
        "embedding_dim = 256\n",
        "units = 1024\n",
        "dropout=0.0\n",
        "beam_widt = 3\n",
        "vocab_inp_size = len(inp_tokenizer.word_index)+1\n",
        "vocab_tar_size = len(targ_tokenizer.word_index)+1\n",
        "\n",
        "dataset = tf.data.Dataset.from_tensor_slices((input_tensor_train, target_tensor_train)).shuffle(BUFFER_SIZE)\n",
        "dataset = dataset.batch(BATCH_SIZE, drop_remainder=True)\n",
        "\n",
        "input_padded.shape"
      ],
      "execution_count": null,
      "outputs": [
        {
          "output_type": "execute_result",
          "data": {
            "text/plain": [
              "(30000, 16)"
            ]
          },
          "metadata": {
            "tags": []
          },
          "execution_count": 481
        }
      ]
    },
    {
      "cell_type": "code",
      "metadata": {
        "id": "O-pJbnYj8omH"
      },
      "source": [
        "BUFFER_SIZE_TEST = len(input_tensor_val)\n",
        "dataset_test = tf.data.Dataset.from_tensor_slices((input_tensor_val, target_tensor_val)).shuffle(BUFFER_SIZE_TEST)\n",
        "dataset_test = dataset_test.batch(1)\n",
        "asd=[]\n",
        "for i,j in dataset_test:\n",
        "    asd.append(i)\n",
        "len(asd)"
      ],
      "execution_count": null,
      "outputs": []
    },
    {
      "cell_type": "markdown",
      "metadata": {
        "id": "uLpRvct39koH"
      },
      "source": [
        "## Encoder"
      ]
    },
    {
      "cell_type": "code",
      "metadata": {
        "id": "McQHxhWsxrCa"
      },
      "source": [
        "class encoder(tf.keras.Model):\n",
        "    def __init__(self, units, BATCH_SIZE, vocab_size, embedding_dim, dropout):\n",
        "        super(encoder, self).__init__()\n",
        "        self.BATCH_SIZE = BATCH_SIZE\n",
        "        self.units = units\n",
        "        self.vocab_size = vocab_size\n",
        "        self.embedding_dim = embedding_dim\n",
        "        self.dropout = dropout\n",
        "        self.pre_GRU = Bidirectional(GRU(self.units, return_sequences=True, return_state = True, recurrent_initializer='glorot_uniform',\n",
        "                                   dropout = self.dropout), merge_mode='concat')\n",
        "        self.embedding = Embedding(self.vocab_size, self.embedding_dim)\n",
        "        self.relu = Dense(self.units, activation='relu')\n",
        "\n",
        "    def call(self, X, s_state):\n",
        "        X = self.embedding(X)\n",
        "        enc_output, forward_, backward_ = self.pre_GRU(X, initial_state=s_state)\n",
        "        hidden_states = tf.concat([forward_, backward_], axis=1)\n",
        "        s_state = self.relu(hidden_states)\n",
        "        return enc_output, s_state\n",
        "\n",
        "    def initialize_hidden_state(self):\n",
        "        return [tf.zeros((self.BATCH_SIZE, self.units)) for i in range(2)]"
      ],
      "execution_count": null,
      "outputs": []
    },
    {
      "cell_type": "code",
      "metadata": {
        "id": "DtbbLZ7pxrCb"
      },
      "source": [
        "encoder = encoder(units, BATCH_SIZE, vocab_inp_size, embedding_dim, dropout)"
      ],
      "execution_count": null,
      "outputs": []
    },
    {
      "cell_type": "markdown",
      "metadata": {
        "id": "9Qxd5SWf9f0a"
      },
      "source": [
        "## Attention Decorder"
      ]
    },
    {
      "cell_type": "code",
      "metadata": {
        "id": "FDp8iCLu8omM"
      },
      "source": [
        "class SeqAttentionDecoder(tf.keras.Model):\n",
        "    def __init__(self, vocab_out, units, embedding_dim, dropout):\n",
        "        super(SeqAttentionDecoder, self).__init__()\n",
        "        self.units = units\n",
        "        self.max_length_inp = max_length_inp\n",
        "        self.vocab_out = vocab_out\n",
        "        self.embedding_dim = embedding_dim\n",
        "        self.dropout = dropout\n",
        "        self.post_activation_GRU_cell = GRU(self.units, return_state = True, return_sequences=True, recurrent_initializer='glorot_uniform',dropout = self.dropout)\n",
        "        self.output_layer = Dense(self.vocab_out, activation='softmax')\n",
        "        self.embedding = Embedding(vocab_out, embedding_dim)\n",
        "        self.W1 = Dense(self.units)\n",
        "        self.W2 = Dense(self.units)\n",
        "        self.V = Dense(1)\n",
        "    def call(self,x, enc_output, s_state):\n",
        "        \n",
        "        query = s_state \n",
        "        values = enc_output\n",
        "\n",
        "        query_with_time_axis = tf.expand_dims(query, 1)\n",
        "\n",
        "        # score shape == (batch_size, max_length, 1)\n",
        "        score = self.V(tf.nn.tanh(\n",
        "            self.W1(query_with_time_axis) + self.W2(values)))\n",
        "\n",
        "        # attention_weights shape == (batch_size, max_length, 1)\n",
        "        attention_weights = tf.nn.softmax(score, axis=1)\n",
        "        context_vector = attention_weights * values\n",
        "        context_vector = tf.reduce_sum(context_vector, axis=1) \n",
        "        \n",
        "        x = self.embedding(x)\n",
        "        x = tf.concat([tf.expand_dims(context_vector, 1), x], axis=-1)\n",
        "        dec_output, s_state = self.post_activation_GRU_cell(x, initial_state = s_state)\n",
        "        dec_output = tf.reshape(dec_output, (-1, dec_output.shape[2]))\n",
        "        out = self.output_layer(dec_output)\n",
        "        return out,s_state, attention_weights"
      ],
      "execution_count": null,
      "outputs": []
    },
    {
      "cell_type": "code",
      "metadata": {
        "id": "n4iBuMhQxrCc"
      },
      "source": [
        "decoder = SeqAttentionDecoder(vocab_tar_size, units, embedding_dim, dropout)"
      ],
      "execution_count": null,
      "outputs": []
    },
    {
      "cell_type": "code",
      "metadata": {
        "id": "OIgirs5ZxrCf"
      },
      "source": [
        "EPOCHS = 10\n",
        "\n",
        "optimizer = tf.keras.optimizers.Adam()\n",
        "loss_object = tf.keras.losses.SparseCategoricalCrossentropy(from_logits=True, reduction='none')\n",
        "\n",
        "def loss_fn(real, pred):\n",
        "  mask = tf.math.logical_not(tf.math.equal(real, 0))\n",
        "  loss_ = loss_object(real, pred)\n",
        "\n",
        "  mask = tf.cast(mask, dtype=loss_.dtype)\n",
        "  loss_ *= mask\n",
        "\n",
        "  return tf.reduce_mean(loss_)"
      ],
      "execution_count": null,
      "outputs": []
    },
    {
      "cell_type": "code",
      "metadata": {
        "id": "8s6dSnjexrCf"
      },
      "source": [
        "@tf.function\n",
        "def train_step(x_batch_train, y_batch_train, s_state):\n",
        "    loss = 0\n",
        "    with tf.GradientTape() as tape:\n",
        "        enc_output, s_state = encoder(x_batch_train, s_state)\n",
        "        dec_input = tf.expand_dims([start_tk]*BATCH_SIZE, 1)\n",
        "        for t in range(1,y_batch_train.shape[1]):\n",
        "            \n",
        "            predictions, s_state , attention_weights = decoder(dec_input, enc_output, s_state)   \n",
        "            loss+= loss_fn(y_batch_train[:,t], predictions)\n",
        "            dec_input = tf.expand_dims(y_batch_train[:, t], 1)\n",
        "            \n",
        "    batch_loss = (loss / y_batch_train.shape[1])\n",
        "    variables = encoder.trainable_variables + decoder.trainable_variables\n",
        "    gradients = tape.gradient(loss, variables)\n",
        "    optimizer.apply_gradients(zip(gradients, variables))\n",
        "\n",
        "    return batch_loss"
      ],
      "execution_count": null,
      "outputs": []
    },
    {
      "cell_type": "code",
      "metadata": {
        "colab": {
          "base_uri": "https://localhost:8080/"
        },
        "id": "Vwb2GPE8xrCg",
        "outputId": "587898ad-7a9d-4be2-bf17-86ef1b3db20c"
      },
      "source": [
        "for epoch in range(EPOCHS):\n",
        "    start = time.time()\n",
        "    s0 = encoder.initialize_hidden_state()\n",
        "    total_loss = 0\n",
        "    for step, (x_batch_train, y_batch_train) in enumerate(dataset):\n",
        "            batch_loss = train_step(x_batch_train, y_batch_train, s0)\n",
        "            total_loss += batch_loss\n",
        "    print(f'Epoch {epoch+1} Loss {total_loss/steps_per_epoch:.4f}')\n",
        "    print(f'Time taken for 1 epoch {time.time()-start:.2f} sec\\n')"
      ],
      "execution_count": null,
      "outputs": [
        {
          "output_type": "stream",
          "text": [
            "Epoch 1 Loss 1.7872\n",
            "Time taken for 1 epoch 48.62 sec\n",
            "\n",
            "Epoch 2 Loss 1.0327\n",
            "Time taken for 1 epoch 37.42 sec\n",
            "\n",
            "Epoch 3 Loss 0.6401\n",
            "Time taken for 1 epoch 37.52 sec\n",
            "\n",
            "Epoch 4 Loss 0.3914\n",
            "Time taken for 1 epoch 37.47 sec\n",
            "\n",
            "Epoch 5 Loss 0.2427\n",
            "Time taken for 1 epoch 37.43 sec\n",
            "\n",
            "Epoch 6 Loss 0.1557\n",
            "Time taken for 1 epoch 37.40 sec\n",
            "\n",
            "Epoch 7 Loss 0.1088\n",
            "Time taken for 1 epoch 37.44 sec\n",
            "\n",
            "Epoch 8 Loss 0.0822\n",
            "Time taken for 1 epoch 37.36 sec\n",
            "\n",
            "Epoch 9 Loss 0.0694\n",
            "Time taken for 1 epoch 37.34 sec\n",
            "\n",
            "Epoch 10 Loss 0.0626\n",
            "Time taken for 1 epoch 37.35 sec\n",
            "\n"
          ],
          "name": "stdout"
        }
      ]
    },
    {
      "cell_type": "markdown",
      "metadata": {
        "id": "YGL9vW_i9cCL"
      },
      "source": [
        "## Beam Search"
      ]
    },
    {
      "cell_type": "code",
      "metadata": {
        "id": "KrSzEQdg5eX7"
      },
      "source": [
        "# Beam search implementation\n",
        "import operator\n",
        "def beam_search(sentence, beam_width = beam_widt,  verbose=True):\n",
        "    attention_plot = np.zeros((max_length_targ, max_length_inp))\n",
        "\n",
        "    inputs = sentence\n",
        "\n",
        "    summary = ''\n",
        "\n",
        "    s_state = [tf.zeros((1, units)) for i in range(2)] #BiRNN\n",
        "\n",
        "    enc_output, s_state = encoder(inputs, s_state)\n",
        "\n",
        "    dec_hidden = s_state\n",
        "    dec_input = tf.expand_dims([start_tk], 0)\n",
        "    \n",
        "    # initial beam with (tokens, last hidden state, attn, score)\n",
        "    start_pt = [([start_tk], dec_hidden, attention_plot, 0.0)]  # initial beam \n",
        "    \n",
        "    for t in range(max_length_targ):\n",
        "        options = list() # empty list to store candidates\n",
        "        for row in start_pt:\n",
        "            # handle beams emitting end signal\n",
        "            allend = True\n",
        "            dec_input = row[0][-1]\n",
        "            if dec_input != end_tk:\n",
        "                dec_input = tf.expand_dims([dec_input], 0)  # last token\n",
        "    \n",
        "                dec_hidden = row[1]  # second item is hidden states\n",
        "                attention_plot = np.zeros((max_length_targ, max_length_inp)) +\\\n",
        "                           row[2] # new attn vector\n",
        "                predictions, dec_hidden , attention_weights = decoder(dec_input, enc_output, dec_hidden)\n",
        "          \n",
        "                # storing the attention weights to plot later on\n",
        "                attention_weights = tf.reshape(attention_weights, (-1, ))\n",
        "                attention_plot[t] = attention_weights.numpy() \n",
        "                \n",
        "                # take top-K in this beam\n",
        "                values, indices = tf.math.top_k(predictions[0], k=beam_width)\n",
        "                for tokid, scre in zip(indices.numpy(), values.numpy()):\n",
        "                    score = row[3] - np.log(scre)\n",
        "                    options.append((row[0]+[tokid], dec_hidden, attention_plot, score))\n",
        "                allend=False\n",
        "            else:\n",
        "                options.append(row)  # add ended beams back in\n",
        "        if allend:\n",
        "            break # end for loop as all sequences have ended\n",
        "        start_pt = sorted(options, key=operator.itemgetter(3))[:beam_width]\n",
        "    for x in start_pt[0][0][1:]:\n",
        "        summary += targ_tokenizer.index_word[x] + ' '\n",
        "        if x == end_tk:\n",
        "            break\n",
        "    attention_plot = start_pt[0][2]  # third item in tuple\n",
        "    return summary, attention_plot"
      ],
      "execution_count": null,
      "outputs": []
    },
    {
      "cell_type": "markdown",
      "metadata": {
        "id": "yZ4_ycsK9XnH"
      },
      "source": [
        "## Greedy Search"
      ]
    },
    {
      "cell_type": "code",
      "metadata": {
        "id": "kfOYG9c7xrCh"
      },
      "source": [
        "def greedy_search(sentence):\n",
        "    attention_plot = np.zeros((max_length_targ, max_length_inp))\n",
        "    inputs = sentence\n",
        "\n",
        "    result = ''\n",
        "    \n",
        "    \n",
        "    s_state = [tf.zeros((1, units)) for i in range(2)] #BiRNN\n",
        "\n",
        "    enc_output, s_state = encoder(inputs, s_state)\n",
        "\n",
        "    dec_input = tf.expand_dims([start_tk], 0)\n",
        "\n",
        "    for t in range(max_length_targ):\n",
        "\n",
        "        predictions, s_state , attention_weights = decoder(dec_input, enc_output, s_state)\n",
        "\n",
        "    # storing the attention weights to plot later on\n",
        "        attention_weights = tf.reshape(attention_weights, (-1, ))\n",
        "        attention_plot[t] = attention_weights.numpy()\n",
        "\n",
        "        predicted_id = tf.argmax(predictions[0]).numpy()\n",
        "        result += targ_tokenizer.index_word[predicted_id] + ' '\n",
        "        if predicted_id == end_tk:\n",
        "            return result, attention_plot\n",
        "    # the predicted ID is fed back into the model\n",
        "        dec_input = tf.expand_dims([predicted_id], 0)\n",
        "\n",
        "    return result, attention_plot"
      ],
      "execution_count": null,
      "outputs": []
    },
    {
      "cell_type": "code",
      "metadata": {
        "id": "EbcwQn3c8omR"
      },
      "source": [
        "# function for plotting the attention weights\n",
        "def plot_attention(attention, sentence, predicted_sentence):\n",
        "    fig = plt.figure(figsize=(10, 10))\n",
        "    ax = fig.add_subplot(1, 1, 1)\n",
        "    ax.matshow(attention, cmap='viridis')\n",
        "\n",
        "    fontdict = {'fontsize': 14}\n",
        "\n",
        "    ax.set_xticklabels([''] + sentence, fontdict=fontdict, rotation=90)\n",
        "    ax.set_yticklabels([''] + predicted_sentence, fontdict=fontdict)\n",
        "\n",
        "    ax.xaxis.set_major_locator(ticker.MultipleLocator(1))\n",
        "    ax.yaxis.set_major_locator(ticker.MultipleLocator(1))\n",
        "\n",
        "    plt.show()"
      ],
      "execution_count": null,
      "outputs": []
    },
    {
      "cell_type": "code",
      "metadata": {
        "id": "DIadmvBz8omR"
      },
      "source": [
        "def translate_sentence(sentenceX, greedy=True, beam_widt =beam_widt):\n",
        "\n",
        "    sentence = process_pairs(sentenceX)\n",
        "    inputs = [inp_tokenizer.word_index[i] for i in sentence.split(' ')]\n",
        "    inputs = tf.keras.preprocessing.sequence.pad_sequences([inputs], maxlen=max_length_inp, padding='post')\n",
        "    inputs = tf.convert_to_tensor(inputs)\n",
        "    if greedy == True:\n",
        "        result, attention_plot = greedy_search(inputs)\n",
        "    else :\n",
        "        result, attention_plot = beam_search(inputs, beam_width=beam_widt)\n",
        "\n",
        "\n",
        "    print('Input:', sentence)\n",
        "    print('Predicted translation:', result)\n",
        "    attention_plot = attention_plot[:len(result.split(' ')),    :len(sentence.split(' '))]\n",
        "\n",
        "    plot_attention(attention_plot, sentence.split(' '), result.split(' '))"
      ],
      "execution_count": null,
      "outputs": []
    },
    {
      "cell_type": "code",
      "metadata": {
        "colab": {
          "base_uri": "https://localhost:8080/",
          "height": 677
        },
        "id": "nFl6Rmss8omS",
        "outputId": "985ae0ca-416d-4091-eb70-a3ebb83dadef"
      },
      "source": [
        "translate_sentence(u'hace mucho frio aqui.', greedy = False)"
      ],
      "execution_count": null,
      "outputs": [
        {
          "output_type": "stream",
          "text": [
            "Input: <start> hace mucho frio aqui . <end>\n",
            "Predicted translation: it s very cold here . <end> \n"
          ],
          "name": "stdout"
        },
        {
          "output_type": "display_data",
          "data": {
            "image/png": "[encoded data removed]",
            "text/plain": [
              "<Figure size 720x720 with 1 Axes>"
            ]
          },
          "metadata": {
            "tags": [],
            "needs_background": "light"
          }
        }
      ]
    },
    {
      "cell_type": "code",
      "metadata": {
        "id": "2Jnd-B3FK5CD",
        "colab": {
          "base_uri": "https://localhost:8080/",
          "height": 677
        },
        "outputId": "cc73b9da-f2e6-4c0b-e03d-d22b5f0dd737"
      },
      "source": [
        "translate_sentence(u'hace mucho frio aqui .', greedy = True)"
      ],
      "execution_count": null,
      "outputs": [
        {
          "output_type": "stream",
          "text": [
            "Input: <start> hace mucho frio aqui . <end>\n",
            "Predicted translation: it s very cold here . <end> \n"
          ],
          "name": "stdout"
        },
        {
          "output_type": "display_data",
          "data": {
            "image/png": "[encoded data removed]",
            "text/plain": [
              "<Figure size 720x720 with 1 Axes>"
            ]
          },
          "metadata": {
            "tags": [],
            "needs_background": "light"
          }
        }
      ]
    },
    {
      "cell_type": "markdown",
      "metadata": {
        "id": "nzLdo52k9SWv"
      },
      "source": [
        "##  Bleu Score"
      ]
    },
    {
      "cell_type": "code",
      "metadata": {
        "id": "HvefLSkK8omS"
      },
      "source": [
        "from nltk.translate.bleu_score import sentence_bleu, SmoothingFunction\n",
        "import pandas as pd\n",
        "def evaluate_bleu_score(dataset_test, greedy =True):\n",
        "    bleu_scores = {\n",
        "        \"score\": [],\n",
        "        \"length\": [],\n",
        "    }\n",
        "    smooth_fn = SmoothingFunction()\n",
        "\n",
        "    for num, (encoder_in, decoder_out) in enumerate(dataset_test):\n",
        "\n",
        "        length = len([i for i in encoder_in[0].numpy() if i > 0])-2 # remove start and end value\n",
        "        # Greedy search and Beam search\n",
        "        if  greedy == True:\n",
        "          decoder_pred, _ = greedy_search(encoder_in)\n",
        "        else :\n",
        "          decoder_pred, _ = beam_search(encoder_in)\n",
        "\n",
        "        ref_sent = [targ_tokenizer.index_word[i] for i in decoder_out.numpy()[0] if i > 0]\n",
        "        hyp_sent  = [i for i in decoder_pred.split()]\n",
        "\n",
        "\n",
        "        hyp_sent = hyp_sent[:-1] \n",
        "\n",
        "        ref_sent = ref_sent[1:-1]\n",
        "\n",
        "        bleu_scorex = sentence_bleu([ref_sent], hyp_sent, smoothing_function=smooth_fn.method1)\n",
        "\n",
        "        bleu_scores[\"score\"].append(bleu_scorex)\n",
        "        bleu_scores[\"length\"].append(length)\n",
        "\n",
        "    asd = pd.DataFrame(data=bleu_scores)\n",
        "    asd = asd.groupby(['length']).mean()\n",
        "\n",
        "    return asd"
      ],
      "execution_count": null,
      "outputs": []
    },
    {
      "cell_type": "code",
      "metadata": {
        "id": "DPv_Cgpy8omT"
      },
      "source": [
        "# data_greedy = evaluate_bleu_score(dataset_test)\n",
        "# data_greedy = data_greedy.reset_index()"
      ],
      "execution_count": null,
      "outputs": []
    },
    {
      "cell_type": "code",
      "metadata": {
        "id": "5AdAOH3E8omT"
      },
      "source": [
        "# data_beam = evaluate_bleu_score(dataset_test, greedy = False)\n",
        "# data_beam = data_beam.reset_index()"
      ],
      "execution_count": null,
      "outputs": []
    },
    {
      "cell_type": "code",
      "metadata": {
        "id": "sOPk1Qbq8omT"
      },
      "source": [
        "# ax = plt.gca()\n",
        "# data_greedy.plot(x ='length', y='score', ax=ax, label = 'greedy')\n",
        "# data_beam.plot(x ='length', y='score', ax =ax, label = 'beam')\n",
        "# plt.show()"
      ],
      "execution_count": null,
      "outputs": []
    },
    {
      "cell_type": "code",
      "metadata": {
        "id": "YdMpEpYEucn_"
      },
      "source": [
        ""
      ],
      "execution_count": null,
      "outputs": []
    }
  ]
}