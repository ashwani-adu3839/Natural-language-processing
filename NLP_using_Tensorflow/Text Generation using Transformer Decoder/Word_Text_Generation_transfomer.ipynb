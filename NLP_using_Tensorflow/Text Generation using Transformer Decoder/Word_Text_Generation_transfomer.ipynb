{
  "nbformat": 4,
  "nbformat_minor": 0,
  "metadata": {
    "colab": {
      "name": "Word_Text_Generation_transfomer.ipynb",
      "provenance": [],
      "collapsed_sections": [],
      "machine_shape": "hm"
    },
    "kernelspec": {
      "name": "python3",
      "display_name": "Python 3"
    },
    "language_info": {
      "name": "python"
    },
    "accelerator": "GPU"
  },
  "cells": [
    {
      "cell_type": "code",
      "metadata": {
        "id": "_L7YlUh-d3SL"
      },
      "source": [
        "import tensorflow as tf\n",
        "import numpy as np\n",
        "import pandas as pd\n",
        "import csv\n",
        "import os\n",
        "import datetime\n",
        "import time\n",
        "import matplotlib.pyplot as plt\n",
        "import re\n",
        "from unicodedata import normalize\n",
        "import string"
      ],
      "execution_count": null,
      "outputs": []
    },
    {
      "cell_type": "code",
      "metadata": {
        "id": "9mqykJEakzmp"
      },
      "source": [
        "path = '/news-headlines.tsv'"
      ],
      "execution_count": null,
      "outputs": []
    },
    {
      "cell_type": "code",
      "metadata": {
        "id": "21Fin1kx-C_k"
      },
      "source": [
        "def load_data(path, numbers):\n",
        "    data = []\n",
        "    with open(path, \"r\") as file:\n",
        "      lines = csv.reader(file, delimiter='\\t')\n",
        "      for line in lines:\n",
        "        hdln = line[1]\n",
        "        data.append(hdln)\n",
        "    return data[:numbers]"
      ],
      "execution_count": null,
      "outputs": []
    },
    {
      "cell_type": "code",
      "metadata": {
        "id": "PFT8wVps-aQF"
      },
      "source": [
        "numbers = 20000\n",
        "data = load_data(path, numbers)"
      ],
      "execution_count": null,
      "outputs": []
    },
    {
      "cell_type": "code",
      "metadata": {
        "id": "N9oJdY1sO7zt"
      },
      "source": [
        "def process_pairs(line):\n",
        "    line = line.lower().strip()\n",
        "    line = normalize('NFD' , line).encode('ascii' , 'ignore')\n",
        "    line = line.decode('UTF-8')\n",
        "    line = re.sub(r\"([?.!,¿])\", r\" \\1 \", line)\n",
        "    line = re.sub(r'[\" \"]+', \" \", line)\n",
        "    line = re.sub(r\"[^a-zA-Z?.!,¿]+\", \" \",line)\n",
        "    line = line.strip()\n",
        "    return line"
      ],
      "execution_count": null,
      "outputs": []
    },
    {
      "cell_type": "code",
      "metadata": {
        "id": "Pgoo0MuVPEIi"
      },
      "source": [
        "data_processed = []\n",
        "for text in data:\n",
        "    data_processed.append(process_pairs(text))"
      ],
      "execution_count": null,
      "outputs": []
    },
    {
      "cell_type": "code",
      "metadata": {
        "colab": {
          "base_uri": "https://localhost:8080/"
        },
        "id": "sCE_oGw_bMwD",
        "outputId": "6607fbd1-2577-4d07-e82f-9b3b16008b23"
      },
      "source": [
        "np.mean([len(s.split()) for s in data_processed])"
      ],
      "execution_count": null,
      "outputs": [
        {
          "output_type": "execute_result",
          "data": {
            "text/plain": [
              "11.3212"
            ]
          },
          "metadata": {},
          "execution_count": 8
        }
      ]
    },
    {
      "cell_type": "code",
      "metadata": {
        "colab": {
          "base_uri": "https://localhost:8080/",
          "height": 265
        },
        "id": "yW3FnRGRSHld",
        "outputId": "9d3ae555-5928-45be-a497-64c7d79ef73b"
      },
      "source": [
        "plt.hist([len(s.split()) for s in data_processed], bins=50)\n",
        "plt.show()"
      ],
      "execution_count": null,
      "outputs": [
        {
          "output_type": "display_data",
          "data": {
            "image/png": "[encoded data removed]",
            "text/plain": [
              "<Figure size 432x288 with 1 Axes>"
            ]
          },
          "metadata": {
            "needs_background": "light"
          }
        }
      ]
    },
    {
      "cell_type": "code",
      "metadata": {
        "id": "SFPCqKl0NnVg"
      },
      "source": [
        "max_len = 16 \n",
        "def tokenize(lang):\n",
        "    lang_tokenizer = tf.keras.preprocessing.text.Tokenizer(filters='')\n",
        "    lang_tokenizer.fit_on_texts(lang)\n",
        "    tensor = lang_tokenizer.texts_to_sequences(lang)\n",
        "    padded = tf.keras.preprocessing.sequence.pad_sequences(tensor, maxlen=max_len, padding='post')\n",
        "    return padded, lang_tokenizer"
      ],
      "execution_count": null,
      "outputs": []
    },
    {
      "cell_type": "code",
      "metadata": {
        "id": "5zUdrEy1OByv"
      },
      "source": [
        "input_padded, inp_tokenizer = tokenize(data_processed)"
      ],
      "execution_count": null,
      "outputs": []
    },
    {
      "cell_type": "code",
      "metadata": {
        "colab": {
          "base_uri": "https://localhost:8080/"
        },
        "id": "rUTHrRHGft2T",
        "outputId": "b91d51d2-fefa-4dd4-f99d-1496d653a27b"
      },
      "source": [
        "input_padded.shape"
      ],
      "execution_count": null,
      "outputs": [
        {
          "output_type": "execute_result",
          "data": {
            "text/plain": [
              "(20000, 16)"
            ]
          },
          "metadata": {},
          "execution_count": 12
        }
      ]
    },
    {
      "cell_type": "code",
      "metadata": {
        "id": "fUnE8GSilvea"
      },
      "source": [
        "# now convert to numpy array\n",
        "np_data = np.array(input_padded)\n",
        "# for training, we use one character shifted data\n",
        "np_data_in = np_data[:, :-1]\n",
        "np_data_out = np_data[:, 1:]\n",
        "\n",
        "# Create TF dataset\n",
        "\n",
        "##################\n",
        "#### MODELING ####\n",
        "##################\n",
        "\n",
        "# Length of the vocabulary in chars\n",
        "vocab_size = len(inp_tokenizer.word_index)+1\n",
        "\n",
        "#batch size\n",
        "BATCH_SIZE=256\n",
        "\n",
        "# create tf.DataSet\n",
        "BUFFER_SIZE = len(np_data_in)\n",
        "\n",
        "dataset = tf.data.Dataset.from_tensor_slices((np_data_in, np_data_out)).shuffle(BUFFER_SIZE)\n",
        "dataset = dataset.batch(BATCH_SIZE, drop_remainder=True)"
      ],
      "execution_count": null,
      "outputs": []
    },
    {
      "cell_type": "code",
      "metadata": {
        "colab": {
          "base_uri": "https://localhost:8080/"
        },
        "id": "kbytkGQ2v-Si",
        "outputId": "08ef71f6-d991-44d8-e0ec-208a30dae2cd"
      },
      "source": [
        "for x, y in dataset:\n",
        "    print(x[0],'\\n',y[0])\n",
        "    break"
      ],
      "execution_count": null,
      "outputs": [
        {
          "output_type": "stream",
          "name": "stdout",
          "text": [
            "tf.Tensor(\n",
            "[  172   814     4  3092   351     4   318   118     6  1918 10549   516\n",
            "    39    79  2981], shape=(15,), dtype=int32) \n",
            " tf.Tensor(\n",
            "[  814     4  3092   351     4   318   118     6  1918 10549   516    39\n",
            "    79  2981     0], shape=(15,), dtype=int32)\n"
          ]
        }
      ]
    },
    {
      "cell_type": "code",
      "metadata": {
        "id": "IWr3ZSLUwGJ0"
      },
      "source": [
        "stop = inp_tokenizer.word_index['.']"
      ],
      "execution_count": null,
      "outputs": []
    },
    {
      "cell_type": "code",
      "metadata": {
        "id": "RuJdTb-oqqXj"
      },
      "source": [
        "#########################\n",
        "# Positional Encoder\n",
        "#########################\n",
        "\n",
        "def get_angles(pos, i, d_model):\n",
        "    angle_rates = 1 / np.power(10000, (2 * (i // 2)) / np.float32(d_model))\n",
        "    return pos * angle_rates\n",
        "\n",
        "\n",
        "def positional_encoding(position, d_model):\n",
        "    angle_rads = get_angles(np.arange(position)[:, np.newaxis],\n",
        "                            np.arange(d_model)[np.newaxis, :],\n",
        "                            d_model)\n",
        "\n",
        "    # apply sin to even indices in the array; 2i\n",
        "    angle_rads[:, 0::2] = np.sin(angle_rads[:, 0::2])\n",
        "\n",
        "    # apply cos to odd indices in the array; 2i+1\n",
        "    angle_rads[:, 1::2] = np.cos(angle_rads[:, 1::2])\n",
        "\n",
        "\n",
        "    pos_encoding = angle_rads[np.newaxis, ...]\n",
        "\n",
        "    return tf.cast(pos_encoding, dtype=tf.float32)\n",
        "\n",
        "#########################\n",
        "# Mask Calculations\n",
        "#########################\n",
        "def create_look_ahead_mask(size):\n",
        "    mask = 1 - tf.linalg.band_part(tf.ones((size, size)), -1, 0)\n",
        "    return mask\n",
        "def create_padding_mask(seq):\n",
        "    seq = tf.cast(tf.math.equal(seq, 0), tf.float32)\n",
        "    return seq[:, tf.newaxis, tf.newaxis, :]  # (batch_size, 1, 1, x)"
      ],
      "execution_count": null,
      "outputs": []
    },
    {
      "cell_type": "code",
      "metadata": {
        "id": "8PYmcYDCIZV3"
      },
      "source": [
        "#########################\n",
        "# Attention\n",
        "#########################\n",
        "class MultiHeadAttention(tf.keras.layers.Layer):\n",
        "    def __init__(self, embed_size, heads):\n",
        "        super(MultiHeadAttention, self).__init__()\n",
        "        self.embed_size = embed_size\n",
        "        self.heads = heads\n",
        "        self.head_dim = embed_size // heads\n",
        "\n",
        "        assert (\n",
        "            self.head_dim * heads == embed_size\n",
        "        ), \"Embedding size needs to be divisible by heads\"\n",
        "\n",
        "        self.wq = tf.keras.layers.Dense(self.head_dim)\n",
        "        self.wk = tf.keras.layers.Dense(self.head_dim)\n",
        "        self.wv = tf.keras.layers.Dense(self.head_dim)\n",
        "        self.dense = tf.keras.layers.Dense(self.embed_size)\n",
        "\n",
        "\n",
        "    def call(self, v, k, q, mask):\n",
        "        # Get number of training examples\n",
        "        batch_size = q.shape[0]\n",
        "\n",
        "        seq_len_v, seq_len_k, seq_len_q = v.shape[1], k.shape[1], q.shape[1]\n",
        "\n",
        "\n",
        "        # Split the embedding into self.heads different pieces\n",
        "        v = tf.reshape(v,(batch_size,seq_len_v, self.heads, self.head_dim))\n",
        "        k = tf.reshape(k,(batch_size,seq_len_k, self.heads, self.head_dim))\n",
        "        q = tf.reshape(q,(batch_size,seq_len_q, self.heads, self.head_dim))\n",
        "\n",
        "\n",
        "        values = self.wv(v)  # (batch_size, value_len, heads, head_dim)\n",
        "        keys = self.wk(k)  # (batch_size, key_len, heads, head_dim)\n",
        "        queries = self.wq(q)  # (batch_size, query_len, heads, heads_dim)\n",
        "\n",
        "        # Einsum does matrix mult. for query*keys for each training example\n",
        "\n",
        "        attention = tf.einsum(\"nqhd,nkhd->nhqk\", queries, keys)\n",
        "        # queries shape: (batch_size, seq_len_q, heads, heads_dim),\n",
        "        # keys shape: (batch_size, seq_len_k, heads, heads_dim)\n",
        "        # attention: (batch_size, heads, seq_len_q, seq_len_k)\n",
        "\n",
        "         # scale matmul_qk\n",
        "        dk = tf.cast(tf.shape(keys)[1], tf.float32)\n",
        "        scaled_attention_logits = attention / tf.math.sqrt(dk)\n",
        "\n",
        "        # Mask padded indices so their weights become 0\n",
        "\n",
        "        if mask is not None:\n",
        "            scaled_attention_logits += (mask * -1e9)\n",
        "\n",
        "        # Normalize energy values similarly to seq2seq + attention\n",
        "        # so that they sum to 1. Also divide by scaling factor for\n",
        "        # better stability\n",
        "        attention_weights = tf.nn.softmax(scaled_attention_logits, axis=-1)\n",
        "        # attention shape: (batch_size, heads, seq_len_q, seq_len_k)\n",
        "\n",
        "\n",
        "\n",
        "        out = tf.einsum(\"nhql,nlhd->nqhd\", attention_weights, values)\n",
        "        out = tf.reshape(out, (batch_size, seq_len_q, -1))\n",
        "        # attention shape: (batch_size, heads, seq_len_q, key_len)\n",
        "        # values shape: (batch_size, seq_len_v, heads, heads_dim)\n",
        "        # out after matrix multiply: (batch_size, seq_len_q, heads, head_dim), then\n",
        "        # we reshape and flatten the last two dimensions.\n",
        "\n",
        "        out = self.dense(out)\n",
        "        # Linear layer doesn't modify the shape, final shape will be\n",
        "        # (N, query_len, embed_size)\n",
        "\n",
        "        return out, attention_weights\n",
        "\n",
        "#########################\n",
        "# Feed Forward Layer\n",
        "#########################\n",
        "def point_wise_feed_forward_network(embed_size, feed_forward):\n",
        "    return tf.keras.Sequential([\n",
        "        # (batch_size, seq_len, feed_forward)\n",
        "        tf.keras.layers.Dense(feed_forward, activation='relu'),\n",
        "        tf.keras.layers.Dense(embed_size)  # (batch_size, seq_len, embed_size)\n",
        "    ])\n"
      ],
      "execution_count": null,
      "outputs": []
    },
    {
      "cell_type": "code",
      "metadata": {
        "id": "iRwe-lCVIgjE"
      },
      "source": [
        "#########################\n",
        "# Decoder\n",
        "#########################\n",
        "class DecoderLayer(tf.keras.layers.Layer):\n",
        "    def __init__(self, embed_size, heads, feed_forward, rate=0.1):\n",
        "        super(DecoderLayer, self).__init__()\n",
        "\n",
        "        self.mha = MultiHeadAttention(embed_size, heads)\n",
        "\n",
        "        self.ffn = point_wise_feed_forward_network(embed_size, feed_forward)\n",
        "\n",
        "        self.layernorm1 = tf.keras.layers.LayerNormalization(epsilon=1e-6)\n",
        "        self.layernorm2 = tf.keras.layers.LayerNormalization(epsilon=1e-6)\n",
        "\n",
        "        self.dropout1 = tf.keras.layers.Dropout(rate)\n",
        "        self.dropout2 = tf.keras.layers.Dropout(rate)\n",
        "\n",
        "    def call(self, x, training,look_ahead_mask):\n",
        "        # enc_output.shape == (batch_size, input_seq_len, embed_size)\n",
        "        attn, attn_weights_block = self.mha(x, x, x, look_ahead_mask)  # (batch_size, target_seq_len, embed_size)\n",
        "        attn = self.dropout1(attn, training=training)\n",
        "        out = self.layernorm1(attn + x) # residual\n",
        "\n",
        "        ffn_output = self.ffn(out)  # (batch_size, target_seq_len, embed_size)\n",
        "        ffn_output = self.dropout2(ffn_output, training=training)\n",
        "        # (batch_size, target_seq_len, embed_size)\n",
        "        out = self.layernorm2(ffn_output + out)\n",
        "\n",
        "        return out, attn_weights_block\n",
        "class Decoder(tf.keras.layers.Layer):\n",
        "  def __init__(self, num_layers, embed_size, input_vocab_size, heads, feed_forward,    pe_input, rate=0.1):\n",
        "    super(Decoder, self).__init__()\n",
        "\n",
        "    self.embed_size = embed_size\n",
        "    self.num_layers = num_layers\n",
        "    self.rate = rate\n",
        "\n",
        "    self.embedding = tf.keras.layers.Embedding(input_vocab_size, embed_size)    \n",
        "    self.pos_encoding = positional_encoding(pe_input, embed_size)\n",
        "\n",
        "    self.dec_layers = [DecoderLayer(embed_size, heads, feed_forward, rate)\n",
        "                       for _ in range(num_layers)]\n",
        "    self.dropout = tf.keras.layers.Dropout(rate)\n",
        "\n",
        "  def call(self, x, training,look_ahead_mask):\n",
        "\n",
        "    seq_len = tf.shape(x)[1]\n",
        "    attention_weights = {}\n",
        "\n",
        "    x = self.embedding(x)  # (batch_size, target_seq_len, d_model)\n",
        "    x *= tf.math.sqrt(tf.cast(self.embed_size, tf.float32))\n",
        "    x += self.pos_encoding[:, :seq_len, :]\n",
        "\n",
        "    x = self.dropout(x, training=training)\n",
        "\n",
        "    for i in range(self.num_layers):\n",
        "\n",
        "      x, block = self.dec_layers[i](x, training, look_ahead_mask)\n",
        "\n",
        "      attention_weights[f'decoder_layer{i+1}_block'] = block\n",
        "    # x.shape == (batch_size, target_seq_len, embed_size)\n",
        "    return x, attention_weights"
      ],
      "execution_count": null,
      "outputs": []
    },
    {
      "cell_type": "code",
      "metadata": {
        "id": "5saFlGp1JbAU"
      },
      "source": [
        "##################################################\n",
        "# Transformer\n",
        "##################################################\n",
        "class Transformer(tf.keras.Model):\n",
        "  def __init__(self, num_layers, embed_size, heads, feed_forward, input_vocab_size, pe_input, rate=0.1):\n",
        "    super(Transformer, self).__init__()\n",
        "\n",
        "    self.decoder = Decoder(num_layers, embed_size, input_vocab_size, heads, feed_forward, pe_input, rate)\n",
        "\n",
        "    self.Final_layer = tf.keras.layers.Dense(input_vocab_size, name='Final_layer')\n",
        "\n",
        "  def call(self, inp, training):\n",
        "\n",
        "    look_ahead_mask = create_look_ahead_mask(tf.shape(inp)[1])\n",
        "    target_padding_mask = create_padding_mask(inp)\n",
        "    look_ahead_mask = tf.maximum(target_padding_mask, look_ahead_mask)\n",
        "\n",
        "    output, attention_weights = self.decoder(inp, training, look_ahead_mask)  # (batch_size, inp_seq_len, embed_size)\n",
        "    out = self.Final_layer(output)\n",
        "\n",
        "    return out, attention_weights"
      ],
      "execution_count": null,
      "outputs": []
    },
    {
      "cell_type": "code",
      "metadata": {
        "id": "ZZTq2HvEL_v8"
      },
      "source": [
        "num_layers = 4\n",
        "embed_size = 128\n",
        "feed_forward = embed_size*2\n",
        "heads = 4\n",
        "rate = 0.1\n",
        "input_vocab_size = vocab_size\n",
        "pe_input = 10000 #10000"
      ],
      "execution_count": null,
      "outputs": []
    },
    {
      "cell_type": "code",
      "metadata": {
        "id": "fg3bCF28Mq7z"
      },
      "source": [
        "model = Transformer(num_layers, embed_size, heads, feed_forward, input_vocab_size, pe_input, rate=rate)"
      ],
      "execution_count": null,
      "outputs": []
    },
    {
      "cell_type": "code",
      "metadata": {
        "id": "8U-LNiA_Mko_"
      },
      "source": [
        "loss_object = tf.keras.losses.SparseCategoricalCrossentropy(from_logits=True)\n",
        "train_accuracy = tf.keras.metrics.SparseCategoricalAccuracy(name='train_accuracy')\n",
        "optimizer = tf.keras.optimizers.Adam(learning_rate=0.0001, beta_1=0.9, beta_2=0.999,\n",
        "                                     epsilon=1e-9)"
      ],
      "execution_count": null,
      "outputs": []
    },
    {
      "cell_type": "code",
      "metadata": {
        "id": "zS3p0BgnjpHH"
      },
      "source": [
        "optimizer = tf.keras.optimizers.Adam(learning_rate=0.000001, beta_1=0.9, beta_2=0.98, epsilon=1e-9)"
      ],
      "execution_count": null,
      "outputs": []
    },
    {
      "cell_type": "code",
      "metadata": {
        "id": "l0QXxgoqM4Vb"
      },
      "source": [
        "@tf.function\n",
        "def train_step(inp, tar):\n",
        "  with tf.GradientTape() as tape:\n",
        "    output, _ = model(inp, True)\n",
        "    loss = loss_object(tar, output)\n",
        "  gradients = tape.gradient(loss, model.trainable_variables)\n",
        "  optimizer.apply_gradients(zip(gradients, model.trainable_variables))\n",
        "  train_accuracy.update_state(tar, output)\n",
        "  return loss"
      ],
      "execution_count": null,
      "outputs": []
    },
    {
      "cell_type": "code",
      "metadata": {
        "colab": {
          "base_uri": "https://localhost:8080/"
        },
        "id": "uQHVCTCyNUqT",
        "outputId": "1c9f90ed-6cec-46c8-ccb4-594eab14ec8a"
      },
      "source": [
        "EPOCHS = 10\n",
        "history = {\n",
        "  \"epoch\": [],\n",
        "  \"loss\": [],\n",
        "  \"Accuracy\": []\n",
        "}\n",
        "for epoch in range(EPOCHS):\n",
        "  start = time.time()\n",
        "  total_loss = 0\n",
        "#  train_loss.reset_states()\n",
        "  for (batch, (inp, tar)) in enumerate(dataset):\n",
        "    batch_loss = train_step(inp, tar)\n",
        "    total_loss = total_loss+batch_loss\n",
        "  history['epoch'].append(epoch)\n",
        "  history['loss'].append(total_loss/(batch+1))\n",
        "  history['Accuracy'].append(train_accuracy.result())\n",
        "\n",
        "  if (epoch+1) % 500 == 0:\n",
        "      ckpt_save_path = ckpt_manager.save()\n",
        "  if (epoch+1) % 10 == 0:    \n",
        "    print(f'Epoch {epoch + 1} Loss {total_loss/(batch+1):.4f}, Accuracy: {train_accuracy.result():.4f}')\n",
        "    print(f'Time taken for 1 epoch: {time.time() - start:.2f} secs\\n')"
      ],
      "execution_count": null,
      "outputs": [
        {
          "output_type": "stream",
          "name": "stdout",
          "text": [
            "Epoch 10 Loss 0.2841, Accuracy: 0.9220\n",
            "Time taken for 1 epoch: 5.54 secs\n",
            "\n"
          ]
        }
      ]
    },
    {
      "cell_type": "code",
      "metadata": {
        "id": "g6lPVKEyguJ7",
        "colab": {
          "base_uri": "https://localhost:8080/",
          "height": 295
        },
        "outputId": "04bbb27d-9247-462e-d44f-c790e68522a3"
      },
      "source": [
        "# Plot accuracies\n",
        "plt.plot(history['loss'])\n",
        "plt.title('model loss')\n",
        "plt.xlabel('epoch')\n",
        "plt.ylabel('loss')\n",
        "#plt.xlim([1500, 4800])\n",
        "plt.ylim([0, 1])\n",
        "plt.show()"
      ],
      "execution_count": null,
      "outputs": [
        {
          "output_type": "display_data",
          "data": {
            "image/png": "[encoded data removed]",
            "text/plain": [
              "<Figure size 432x288 with 1 Axes>"
            ]
          },
          "metadata": {
            "needs_background": "light"
          }
        }
      ]
    },
    {
      "cell_type": "code",
      "metadata": {
        "id": "AucCWJ7PGObI",
        "colab": {
          "base_uri": "https://localhost:8080/",
          "height": 295
        },
        "outputId": "e727a2be-8ddb-4952-ef8d-df68b6924d7c"
      },
      "source": [
        "plt.plot(history['Accuracy'])\n",
        "plt.title('model Accuracy')\n",
        "plt.xlabel('epoch')\n",
        "plt.ylabel('Accuracy')\n",
        "plt.show()"
      ],
      "execution_count": null,
      "outputs": [
        {
          "output_type": "display_data",
          "data": {
            "image/png": "[encoded data removed]",
            "text/plain": [
              "<Figure size 432x288 with 1 Axes>"
            ]
          },
          "metadata": {
            "needs_background": "light"
          }
        }
      ]
    },
    {
      "cell_type": "code",
      "metadata": {
        "id": "7OzdtvnirWFj"
      },
      "source": [
        "def generate_text(model, start_string, temperature=0.2, num_generate=15):\n",
        "  # Low temperatures results in more predictable text.\n",
        "  # Higher temperatures results in more surprising text.\n",
        "  # Experiment to find the best setting.\n",
        "  start_string = process_pairs(start_string)\n",
        "  # Converting our start string to numbers (vectorizing)\n",
        "  input_eval = [inp_tokenizer.word_index[i]  for i in start_string.split(' ')]\n",
        "  input_eval = tf.expand_dims(input_eval, 0)\n",
        "\n",
        "  # Empty string to store our results\n",
        "  text_generated = ' '\n",
        "\n",
        "  # Here batch size == 1\n",
        "  for i in range(num_generate):\n",
        "      predictions, _ = model(input_eval, False)\n",
        "      # remove the batch dimension\n",
        "      predictions = predictions[:, -1:, :]  # (batch_size, 1, vocab_size)\n",
        "      predictions = tf.squeeze(predictions, 0)\n",
        "      # using a categorical distribution to predict the word returned by the model\n",
        "      predictions = predictions / temperature\n",
        "\n",
        "      predicted_id = tf.random.categorical(predictions, num_samples=1)[-1,0].numpy()\n",
        "\n",
        "      if predicted_id == 0:\n",
        "         predicted_id = stop\n",
        "      input_eval = tf.concat([input_eval, [[predicted_id]]], axis=-1)\n",
        "      text_generated += inp_tokenizer.index_word[predicted_id] + ' '\n",
        "\n",
        "  return (start_string + ''.join(text_generated))"
      ],
      "execution_count": null,
      "outputs": []
    },
    {
      "cell_type": "code",
      "metadata": {
        "id": "tYCpQ4OwmE9h",
        "colab": {
          "base_uri": "https://localhost:8080/"
        },
        "outputId": "1bf3c01d-e97b-433b-fa83-5ae6bc5bc6ad"
      },
      "source": [
        "print(generate_text(model, start_string=u\"outlook\"))"
      ],
      "execution_count": null,
      "outputs": [
        {
          "output_type": "stream",
          "name": "stdout",
          "text": [
            "outlook should be trying to make common common . you re trying to be missed . \n"
          ]
        }
      ]
    }
  ]
}