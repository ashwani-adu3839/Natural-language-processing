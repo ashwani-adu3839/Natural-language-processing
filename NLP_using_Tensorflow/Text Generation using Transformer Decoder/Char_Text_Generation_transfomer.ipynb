{
  "nbformat": 4,
  "nbformat_minor": 0,
  "metadata": {
    "accelerator": "GPU",
    "colab": {
      "name": "Char_Text_Generation_transfomer.ipynb",
      "provenance": [],
      "collapsed_sections": [],
      "machine_shape": "hm"
    },
    "kernelspec": {
      "display_name": "Python 3",
      "name": "python3"
    },
    "language_info": {
      "name": "python"
    }
  },
  "cells": [
    {
      "cell_type": "code",
      "metadata": {
        "id": "_L7YlUh-d3SL"
      },
      "source": [
        "import tensorflow as tf\n",
        "import numpy as np\n",
        "import pandas as pd\n",
        "import csv\n",
        "import os\n",
        "import datetime\n",
        "import time\n",
        "import matplotlib.pyplot as plt"
      ],
      "execution_count": null,
      "outputs": []
    },
    {
      "cell_type": "code",
      "metadata": {
        "id": "9mqykJEakzmp"
      },
      "source": [
        "path = '/news-headlines.tsv'"
      ],
      "execution_count": null,
      "outputs": []
    },
    {
      "cell_type": "code",
      "metadata": {
        "id": "21Fin1kx-C_k"
      },
      "source": [
        "def load_data(path):\n",
        "    data = []\n",
        "    with open(path, \"r\") as file:\n",
        "      lines = csv.reader(file, delimiter='\\t')\n",
        "      for line in lines:\n",
        "        hdln = line[0]\n",
        "        data.append(hdln)\n",
        "    return data"
      ],
      "execution_count": null,
      "outputs": []
    },
    {
      "cell_type": "code",
      "metadata": {
        "id": "PFT8wVps-aQF"
      },
      "source": [
        "data = load_data(path)"
      ],
      "execution_count": null,
      "outputs": []
    },
    {
      "cell_type": "code",
      "metadata": {
        "colab": {
          "base_uri": "https://localhost:8080/",
          "height": 265
        },
        "id": "0EqMBLvVC-1M",
        "outputId": "c8ff2cb6-0c4b-4ce0-a9e8-ce72d15d4a7a"
      },
      "source": [
        "plt.hist([len(s) for s in data[:100000]], bins=100)\n",
        "plt.show()"
      ],
      "execution_count": null,
      "outputs": [
        {
          "output_type": "display_data",
          "data": {
            "image/png": "[encoded data removed]",
            "text/plain": [
              "<Figure size 432x288 with 1 Axes>"
            ]
          },
          "metadata": {
            "needs_background": "light"
          }
        }
      ]
    },
    {
      "cell_type": "code",
      "metadata": {
        "id": "40jSBOpwlZuF"
      },
      "source": [
        "chars = sorted(set(\"abcdefghijklmnopqrstuvwxyz0123456789 -,;.!?:’’’/\\|_@#$%ˆ&*˜‘+-=()[]{}' ABCDEFGHIJKLMNOPQRSTUVWXYZ\"))\n",
        "chars = list(chars)\n",
        "EOS = '<EOS>'\n",
        "UNK = \"<UNK>\"\n",
        "PAD = \"<PAD>\"  # need to move mask to '0'index for Embedding layer\n",
        "chars.append(UNK)\n",
        "chars.append(EOS)  #end of sentence\n",
        "chars.insert(0, PAD)  # now padding should get index of 0\n",
        "\n",
        "# Creating a mapping from unique characters to indices\n",
        "char2idx = {u:i for i, u in enumerate(chars)}\n",
        "idx2char = np.array(chars)\n",
        "\n",
        "def char_idx(c):\n",
        "  # takes a character and returns an index\n",
        "  # if character is not in list, returns the unknown token\n",
        "  if c in chars:\n",
        "      return char2idx[c]\n",
        "  \n",
        "  return char2idx[UNK]"
      ],
      "execution_count": null,
      "outputs": []
    },
    {
      "cell_type": "code",
      "metadata": {
        "id": "oTygN49lAJly"
      },
      "source": [
        "def tokenize(data, x, numbers):\n",
        "    padded_data = []\n",
        "    MAX_LEN = 75  #maximum length of a headline \n",
        "    for line in data[x:numbers+x]:\n",
        "#        print(line)\n",
        "        cnvrtd = [char_idx(c) for c in line[:-1]]  # convert to number\n",
        "        if len(cnvrtd) >= MAX_LEN:\n",
        "            cnvrtd = cnvrtd[0:MAX_LEN-1]\n",
        "            cnvrtd.append(char2idx[EOS])\n",
        "        else:\n",
        "            cnvrtd.append(char2idx[EOS])\n",
        "            # add padding tokens\n",
        "            remain = MAX_LEN - len(cnvrtd)\n",
        "            if remain > 0:\n",
        "                for i in range(remain):\n",
        "                    cnvrtd.append(char2idx[PAD])\n",
        "        padded_data.append(cnvrtd)\n",
        "    return padded_data\n",
        "        "
      ],
      "execution_count": null,
      "outputs": []
    },
    {
      "cell_type": "code",
      "metadata": {
        "id": "PaWGKG-kCIoa"
      },
      "source": [
        "numbers = 20000\n",
        "x= 0\n",
        "padded_data= tokenize(data, x,numbers)"
      ],
      "execution_count": null,
      "outputs": []
    },
    {
      "cell_type": "code",
      "metadata": {
        "colab": {
          "base_uri": "https://localhost:8080/",
          "height": 35
        },
        "id": "lGeXFmN-tFq4",
        "outputId": "2ba6aaad-0927-4122-9bef-c32b372e9181"
      },
      "source": [
        "data[200]"
      ],
      "execution_count": null,
      "outputs": [
        {
          "output_type": "execute_result",
          "data": {
            "application/vnd.google.colaboratory.intrinsic+json": {
              "type": "string"
            },
            "text/plain": [
              "'Arizona GOP Congressional Candidate Compares Abortion To Holocaust'"
            ]
          },
          "metadata": {},
          "execution_count": 10
        }
      ]
    },
    {
      "cell_type": "code",
      "metadata": {
        "colab": {
          "base_uri": "https://localhost:8080/"
        },
        "id": "wmM2NI_2q2yU",
        "outputId": "fe3dc3dd-59ce-484a-9c0b-7447adf25166"
      },
      "source": [
        "len(padded_data)"
      ],
      "execution_count": null,
      "outputs": [
        {
          "output_type": "execute_result",
          "data": {
            "text/plain": [
              "20000"
            ]
          },
          "metadata": {},
          "execution_count": 11
        }
      ]
    },
    {
      "cell_type": "code",
      "metadata": {
        "id": "fUnE8GSilvea"
      },
      "source": [
        "# now convert to numpy array\n",
        "np_data = np.array(padded_data)\n",
        "# for training, we use one character shifted data\n",
        "np_data_in = np_data[:, :-1]\n",
        "np_data_out = np_data[:, 1:]\n",
        "\n",
        "# Create TF dataset\n",
        "x = tf.data.Dataset.from_tensor_slices((np_data_in, np_data_out))\n",
        "\n",
        "##################\n",
        "#### MODELING ####\n",
        "##################\n",
        "\n",
        "# Length of the vocabulary in chars\n",
        "vocab_size = len(chars)\n",
        "\n",
        "#batch size\n",
        "BATCH_SIZE=1024\n",
        "\n",
        "BUFF_SIZE = np_data_in.shape[0]\n",
        "# create tf.DataSet\n",
        "x_train = x.shuffle(BUFF_SIZE, reshuffle_each_iteration=True\n",
        "                   ).batch(BATCH_SIZE, drop_remainder=True)\n"
      ],
      "execution_count": null,
      "outputs": []
    },
    {
      "cell_type": "code",
      "metadata": {
        "colab": {
          "base_uri": "https://localhost:8080/"
        },
        "id": "kbytkGQ2v-Si",
        "outputId": "399f9efc-3dca-4cca-e1be-a86bb6a5d1a5"
      },
      "source": [
        "for x, y in x_train:\n",
        "    print(x[0],'\\n',y[0])\n",
        "    break"
      ],
      "execution_count": null,
      "outputs": [
        {
          "output_type": "stream",
          "name": "stdout",
          "text": [
            "tf.Tensor(\n",
            "[49 80 75 76  1 50 68 65  1 32 69 67  1 32 61 63 71 79 72 69 64 95  0  0\n",
            "  0  0  0  0  0  0  0  0  0  0  0  0  0  0  0  0  0  0  0  0  0  0  0  0\n",
            "  0  0  0  0  0  0  0  0  0  0  0  0  0  0  0  0  0  0  0  0  0  0  0  0\n",
            "  0  0], shape=(74,), dtype=int64) \n",
            " tf.Tensor(\n",
            "[80 75 76  1 50 68 65  1 32 69 67  1 32 61 63 71 79 72 69 64 95  0  0  0\n",
            "  0  0  0  0  0  0  0  0  0  0  0  0  0  0  0  0  0  0  0  0  0  0  0  0\n",
            "  0  0  0  0  0  0  0  0  0  0  0  0  0  0  0  0  0  0  0  0  0  0  0  0\n",
            "  0  0], shape=(74,), dtype=int64)\n"
          ]
        }
      ]
    },
    {
      "cell_type": "code",
      "metadata": {
        "id": "RuJdTb-oqqXj"
      },
      "source": [
        "#########################\n",
        "# Positional Encoder\n",
        "#########################\n",
        "\n",
        "def get_angles(pos, i, d_model):\n",
        "    angle_rates = 1 / np.power(10000, (2 * (i // 2)) / np.float32(d_model))\n",
        "    return pos * angle_rates\n",
        "\n",
        "\n",
        "def positional_encoding(position, d_model):\n",
        "    angle_rads = get_angles(np.arange(position)[:, np.newaxis],\n",
        "                            np.arange(d_model)[np.newaxis, :],\n",
        "                            d_model)\n",
        "\n",
        "    # apply sin to even indices in the array; 2i\n",
        "    angle_rads[:, 0::2] = np.sin(angle_rads[:, 0::2])\n",
        "\n",
        "    # apply cos to odd indices in the array; 2i+1\n",
        "    angle_rads[:, 1::2] = np.cos(angle_rads[:, 1::2])\n",
        "\n",
        "\n",
        "    pos_encoding = angle_rads[np.newaxis, ...]\n",
        "\n",
        "    return tf.cast(pos_encoding, dtype=tf.float32)\n",
        "\n",
        "#########################\n",
        "# Mask Calculations\n",
        "#########################\n",
        "def create_look_ahead_mask(size):\n",
        "    mask = 1 - tf.linalg.band_part(tf.ones((size, size)), -1, 0)\n",
        "    return mask\n",
        "def create_padding_mask(seq):\n",
        "    seq = tf.cast(tf.math.equal(seq, 0), tf.float32)\n",
        "    return seq[:, tf.newaxis, tf.newaxis, :]  # (batch_size, 1, 1, x)"
      ],
      "execution_count": null,
      "outputs": []
    },
    {
      "cell_type": "code",
      "metadata": {
        "id": "8PYmcYDCIZV3"
      },
      "source": [
        "#########################\n",
        "# Attention\n",
        "#########################\n",
        "class MultiHeadAttention(tf.keras.layers.Layer):\n",
        "    def __init__(self, embed_size, heads):\n",
        "        super(MultiHeadAttention, self).__init__()\n",
        "        self.embed_size = embed_size\n",
        "        self.heads = heads\n",
        "        self.head_dim = embed_size // heads\n",
        "\n",
        "        assert (\n",
        "            self.head_dim * heads == embed_size\n",
        "        ), \"Embedding size needs to be divisible by heads\"\n",
        "\n",
        "        self.wq = tf.keras.layers.Dense(self.head_dim)\n",
        "        self.wk = tf.keras.layers.Dense(self.head_dim)\n",
        "        self.wv = tf.keras.layers.Dense(self.head_dim)\n",
        "        self.dense = tf.keras.layers.Dense(self.embed_size)\n",
        "\n",
        "\n",
        "    def call(self, v, k, q, mask):\n",
        "        # Get number of training examples\n",
        "        batch_size = q.shape[0]\n",
        "\n",
        "        seq_len_v, seq_len_k, seq_len_q = v.shape[1], k.shape[1], q.shape[1]\n",
        "\n",
        "\n",
        "        # Split the embedding into self.heads different pieces\n",
        "        v = tf.reshape(v,(batch_size,seq_len_v, self.heads, self.head_dim))\n",
        "        k = tf.reshape(k,(batch_size,seq_len_k, self.heads, self.head_dim))\n",
        "        q = tf.reshape(q,(batch_size,seq_len_q, self.heads, self.head_dim))\n",
        "\n",
        "\n",
        "        values = self.wv(v)  # (batch_size, value_len, heads, head_dim)\n",
        "        keys = self.wk(k)  # (batch_size, key_len, heads, head_dim)\n",
        "        queries = self.wq(q)  # (batch_size, query_len, heads, heads_dim)\n",
        "\n",
        "        # Einsum does matrix mult. for query*keys for each training example\n",
        "\n",
        "        attention = tf.einsum(\"nqhd,nkhd->nhqk\", queries, keys)\n",
        "        # queries shape: (batch_size, seq_len_q, heads, heads_dim),\n",
        "        # keys shape: (batch_size, seq_len_k, heads, heads_dim)\n",
        "        # attention: (batch_size, heads, seq_len_q, seq_len_k)\n",
        "\n",
        "         # scale matmul_qk\n",
        "        dk = tf.cast(tf.shape(keys)[1], tf.float32)\n",
        "        scaled_attention_logits = attention / tf.math.sqrt(dk)\n",
        "\n",
        "        # Mask padded indices so their weights become 0\n",
        "\n",
        "        if mask is not None:\n",
        "            scaled_attention_logits += (mask * -1e9)\n",
        "\n",
        "        # Normalize energy values similarly to seq2seq + attention\n",
        "        # so that they sum to 1. Also divide by scaling factor for\n",
        "        # better stability\n",
        "        attention_weights = tf.nn.softmax(scaled_attention_logits, axis=-1)\n",
        "        # attention shape: (batch_size, heads, seq_len_q, seq_len_k)\n",
        "\n",
        "\n",
        "\n",
        "        out = tf.einsum(\"nhql,nlhd->nqhd\", attention_weights, values)\n",
        "        out = tf.reshape(out, (batch_size, seq_len_q, -1))\n",
        "        # attention shape: (batch_size, heads, seq_len_q, key_len)\n",
        "        # values shape: (batch_size, seq_len_v, heads, heads_dim)\n",
        "        # out after matrix multiply: (batch_size, seq_len_q, heads, head_dim), then\n",
        "        # we reshape and flatten the last two dimensions.\n",
        "\n",
        "        out = self.dense(out)\n",
        "        # Linear layer doesn't modify the shape, final shape will be\n",
        "        # (N, query_len, embed_size)\n",
        "\n",
        "        return out, attention_weights\n",
        "\n",
        "#########################\n",
        "# Feed Forward Layer\n",
        "#########################\n",
        "def point_wise_feed_forward_network(embed_size, feed_forward):\n",
        "    return tf.keras.Sequential([\n",
        "        # (batch_size, seq_len, feed_forward)\n",
        "        tf.keras.layers.Dense(feed_forward, activation='relu'),\n",
        "        tf.keras.layers.Dense(embed_size)  # (batch_size, seq_len, embed_size)\n",
        "    ])\n"
      ],
      "execution_count": null,
      "outputs": []
    },
    {
      "cell_type": "code",
      "metadata": {
        "id": "iRwe-lCVIgjE"
      },
      "source": [
        "#########################\n",
        "# Decoder\n",
        "#########################\n",
        "class DecoderLayer(tf.keras.layers.Layer):\n",
        "    def __init__(self, embed_size, heads, feed_forward, rate=0.1):\n",
        "        super(DecoderLayer, self).__init__()\n",
        "\n",
        "        self.mha = MultiHeadAttention(embed_size, heads)\n",
        "\n",
        "        self.ffn = point_wise_feed_forward_network(embed_size, feed_forward)\n",
        "\n",
        "        self.layernorm1 = tf.keras.layers.LayerNormalization(epsilon=1e-6)\n",
        "        self.layernorm2 = tf.keras.layers.LayerNormalization(epsilon=1e-6)\n",
        "\n",
        "        self.dropout1 = tf.keras.layers.Dropout(rate)\n",
        "        self.dropout2 = tf.keras.layers.Dropout(rate)\n",
        "\n",
        "    def call(self, x, training,look_ahead_mask):\n",
        "        # enc_output.shape == (batch_size, input_seq_len, embed_size)\n",
        "        attn, attn_weights_block = self.mha(x, x, x, look_ahead_mask)  # (batch_size, target_seq_len, embed_size)\n",
        "        attn = self.dropout1(attn, training=training)\n",
        "        out = self.layernorm1(attn + x) # residual\n",
        "\n",
        "        ffn_output = self.ffn(out)  # (batch_size, target_seq_len, embed_size)\n",
        "        ffn_output = self.dropout2(ffn_output, training=training)\n",
        "        # (batch_size, target_seq_len, embed_size)\n",
        "        out = self.layernorm2(ffn_output + out)\n",
        "\n",
        "        return out, attn_weights_block\n",
        "class Decoder(tf.keras.layers.Layer):\n",
        "  def __init__(self, num_layers, embed_size, input_vocab_size, heads, feed_forward,    pe_input, rate=0.1):\n",
        "    super(Decoder, self).__init__()\n",
        "\n",
        "    self.embed_size = embed_size\n",
        "    self.num_layers = num_layers\n",
        "    self.rate = rate\n",
        "\n",
        "    self.embedding = tf.keras.layers.Embedding(input_vocab_size, embed_size)    \n",
        "    self.pos_encoding = positional_encoding(pe_input, embed_size)\n",
        "\n",
        "    self.dec_layers = [DecoderLayer(embed_size, heads, feed_forward, rate)\n",
        "                       for _ in range(num_layers)]\n",
        "    self.dropout = tf.keras.layers.Dropout(rate)\n",
        "\n",
        "  def call(self, x, training,look_ahead_mask):\n",
        "\n",
        "    seq_len = tf.shape(x)[1]\n",
        "    attention_weights = {}\n",
        "\n",
        "    x = self.embedding(x)  # (batch_size, target_seq_len, d_model)\n",
        "    x *= tf.math.sqrt(tf.cast(self.embed_size, tf.float32))\n",
        "    x += self.pos_encoding[:, :seq_len, :]\n",
        "\n",
        "    x = self.dropout(x, training=training)\n",
        "\n",
        "    for i in range(self.num_layers):\n",
        "\n",
        "      x, block = self.dec_layers[i](x, training, look_ahead_mask)\n",
        "\n",
        "      attention_weights[f'decoder_layer{i+1}_block'] = block\n",
        "    # x.shape == (batch_size, target_seq_len, embed_size)\n",
        "    return x, attention_weights"
      ],
      "execution_count": null,
      "outputs": []
    },
    {
      "cell_type": "code",
      "metadata": {
        "id": "5saFlGp1JbAU"
      },
      "source": [
        "##################################################\n",
        "# Transformer\n",
        "##################################################\n",
        "class Transformer(tf.keras.Model):\n",
        "  def __init__(self, num_layers, embed_size, heads, feed_forward, input_vocab_size, pe_input, rate=0.1):\n",
        "    super(Transformer, self).__init__()\n",
        "\n",
        "    self.decoder = Decoder(num_layers, embed_size, input_vocab_size, heads, feed_forward, pe_input, rate)\n",
        "\n",
        "    self.Final_layer = tf.keras.layers.Dense(input_vocab_size, name='Final_layer')\n",
        "\n",
        "  def call(self, inp, training):\n",
        "\n",
        "    look_ahead_mask = create_look_ahead_mask(tf.shape(inp)[1])\n",
        "    target_padding_mask = create_padding_mask(inp)\n",
        "    look_ahead_mask = tf.maximum(target_padding_mask, look_ahead_mask)\n",
        "\n",
        "    output, attention_weights = self.decoder(inp, training, look_ahead_mask)  # (batch_size, inp_seq_len, embed_size)\n",
        "    out = self.Final_layer(output)\n",
        "\n",
        "    return out, attention_weights"
      ],
      "execution_count": null,
      "outputs": []
    },
    {
      "cell_type": "code",
      "metadata": {
        "id": "uBE2lXdNeMgl"
      },
      "source": [
        "num_layers = 4\n",
        "embed_size = 1024\n",
        "feed_forward = embed_size\n",
        "heads = 4\n",
        "rate = 0.1\n",
        "input_vocab_size = vocab_size\n",
        "pe_input = 10000   "
      ],
      "execution_count": null,
      "outputs": []
    },
    {
      "cell_type": "code",
      "metadata": {
        "id": "fg3bCF28Mq7z"
      },
      "source": [
        "model = Transformer(num_layers, embed_size, heads, feed_forward, input_vocab_size, pe_input, rate=rate)"
      ],
      "execution_count": null,
      "outputs": []
    },
    {
      "cell_type": "code",
      "metadata": {
        "id": "8U-LNiA_Mko_"
      },
      "source": [
        "loss_object = tf.keras.losses.SparseCategoricalCrossentropy(from_logits=True)\n",
        "train_accuracy = tf.keras.metrics.SparseCategoricalAccuracy(name='train_accuracy')\n",
        "optimizer = tf.keras.optimizers.Adam(learning_rate=0.000005, beta_1=0.9, beta_2=0.98,\n",
        "                                     epsilon=1e-9)"
      ],
      "execution_count": null,
      "outputs": []
    },
    {
      "cell_type": "code",
      "metadata": {
        "id": "zS3p0BgnjpHH"
      },
      "source": [
        "optimizer = tf.keras.optimizers.Adam(learning_rate=0.00001, beta_1=0.9, beta_2=0.98, epsilon=1e-9)"
      ],
      "execution_count": null,
      "outputs": []
    },
    {
      "cell_type": "code",
      "metadata": {
        "id": "l0QXxgoqM4Vb"
      },
      "source": [
        "@tf.function\n",
        "def train_step(inp, tar):\n",
        "  with tf.GradientTape() as tape:\n",
        "    output, _ = model(inp, True)\n",
        "    loss = loss_object(tar, output)\n",
        "  gradients = tape.gradient(loss, model.trainable_variables)\n",
        "  optimizer.apply_gradients(zip(gradients, model.trainable_variables))\n",
        "  train_accuracy.update_state(tar, output)\n",
        "  return loss"
      ],
      "execution_count": null,
      "outputs": []
    },
    {
      "cell_type": "code",
      "metadata": {
        "id": "TNNYJs4NXKVu"
      },
      "source": [
        "history = {\n",
        "  \"epoch\": [],\n",
        "  \"loss\": [],\n",
        "  \"Accuracy\": []\n",
        "}"
      ],
      "execution_count": null,
      "outputs": []
    },
    {
      "cell_type": "code",
      "metadata": {
        "id": "uQHVCTCyNUqT"
      },
      "source": [
        "EPOCHS = 5\n",
        "for epoch in range(EPOCHS):\n",
        "  start = time.time()\n",
        "  total_loss = 0\n",
        "#  train_loss.reset_states()\n",
        "  for (batch, (inp, tar)) in enumerate(x_train):\n",
        "    batch_loss = train_step(inp, tar)\n",
        "    total_loss = total_loss+batch_loss\n",
        "  history['epoch'].append(epoch)\n",
        "  history['loss'].append(total_loss/(batch+1))\n",
        "  history['Accuracy'].append(train_accuracy.result())\n",
        "\n",
        "  if (epoch+1) % 50 == 0:\n",
        "      ckpt_save_path = ckpt_manager.save()\n",
        "  if (epoch+1) % 1 == 0:    \n",
        "    print(f'Epoch {epoch + 1} Loss {total_loss/(batch+1):.4f}, Accuracy: {train_accuracy.result():.4f}')\n",
        "    print(f'Time taken for 1 epoch: {time.time() - start:.2f} secs\\n')"
      ],
      "execution_count": null,
      "outputs": []
    },
    {
      "cell_type": "code",
      "metadata": {
        "id": "g6lPVKEyguJ7",
        "colab": {
          "base_uri": "https://localhost:8080/",
          "height": 295
        },
        "outputId": "535b8795-c2dd-4dea-a784-d9cdbd1dffc4"
      },
      "source": [
        "# Plot \n",
        "plt.plot(history['loss'])\n",
        "plt.title('model loss')\n",
        "plt.xlabel('epoch')\n",
        "plt.ylabel('loss')\n",
        "plt.show()"
      ],
      "execution_count": null,
      "outputs": [
        {
          "output_type": "display_data",
          "data": {
            "image/png": "[encoded data removed]",
            "text/plain": [
              "<Figure size 432x288 with 1 Axes>"
            ]
          },
          "metadata": {
            "needs_background": "light"
          }
        }
      ]
    },
    {
      "cell_type": "code",
      "metadata": {
        "id": "AucCWJ7PGObI",
        "colab": {
          "base_uri": "https://localhost:8080/",
          "height": 295
        },
        "outputId": "9d1e42a7-fea6-47f4-d9ad-7def868d3d6c"
      },
      "source": [
        "plt.plot(history['Accuracy'])\n",
        "plt.title('model Accuracy')\n",
        "plt.xlabel('epoch')\n",
        "plt.ylabel('Accuracy')\n",
        "plt.show()"
      ],
      "execution_count": null,
      "outputs": [
        {
          "output_type": "display_data",
          "data": {
            "image/png": "[encoded data removed]",
            "text/plain": [
              "<Figure size 432x288 with 1 Axes>"
            ]
          },
          "metadata": {
            "needs_background": "light"
          }
        }
      ]
    },
    {
      "cell_type": "code",
      "metadata": {
        "id": "7OzdtvnirWFj"
      },
      "source": [
        "def generate_text(model, start_string, temperature=0.7, num_generate=35):\n",
        "  # Low temperatures results in more predictable text.\n",
        "  # Higher temperatures results in more surprising text.\n",
        "  # Experiment to find the best setting.\n",
        "\n",
        "  input_eval = [char2idx[s] for s in start_string]\n",
        "  input_eval = tf.expand_dims(input_eval, 0)\n",
        "\n",
        "  # Empty string to store our results\n",
        "  text_generated = []\n",
        "\n",
        "  # Here batch size == 1\n",
        "  for i in range(num_generate):\n",
        "      predictions, _ = model(input_eval, False)\n",
        "      # remove the batch dimension\n",
        "      predictions = predictions[:, -1:, :]  # (batch_size, 1, vocab_size)\n",
        "\n",
        "      predictions = tf.squeeze(predictions, 0)\n",
        "      # using a categorical distribution to predict the word returned by the model\n",
        "      predictions = predictions / temperature\n",
        "      predicted_id = tf.random.categorical(predictions, num_samples=1)[-1,0].numpy()\n",
        "\n",
        "      # We pass the predicted word as the next input to the model\n",
        "      # along with the previous hidden state\n",
        "      input_eval = tf.concat([input_eval, [[predicted_id]]], axis=-1)\n",
        "        \n",
        "      text_generated.append(idx2char[predicted_id])\n",
        "      # lets break is <EOS> token is generated\n",
        "      #if idx2char[predicted_id] == EOS:\n",
        "      #  break #end of a sentence reached, lets stop\n",
        "\n",
        "  return (start_string + ''.join(text_generated))"
      ],
      "execution_count": null,
      "outputs": []
    },
    {
      "cell_type": "code",
      "metadata": {
        "id": "tYCpQ4OwmE9h",
        "colab": {
          "base_uri": "https://localhost:8080/"
        },
        "outputId": "3313d182-372e-48bc-eafd-93d74ce9bf77"
      },
      "source": [
        "print(generate_text(model, start_string=u\"Arizona\"))"
      ],
      "execution_count": null,
      "outputs": [
        {
          "output_type": "stream",
          "name": "stdout",
          "text": [
            "Arizonatts ltcreOtr io <PAD><PAD><PAD>e ees S eero  <PAD><PAD>\n"
          ]
        }
      ]
    },
    {
      "cell_type": "code",
      "metadata": {
        "id": "J0tMMnW1SzIm"
      },
      "source": [
        ""
      ],
      "execution_count": null,
      "outputs": []
    }
  ]
}