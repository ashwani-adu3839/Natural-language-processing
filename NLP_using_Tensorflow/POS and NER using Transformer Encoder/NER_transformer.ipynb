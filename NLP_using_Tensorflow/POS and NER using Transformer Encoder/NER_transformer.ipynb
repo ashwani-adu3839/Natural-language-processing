{
  "nbformat": 4,
  "nbformat_minor": 0,
  "metadata": {
    "accelerator": "GPU",
    "colab": {
      "name": "NER_transformer.ipynb",
      "provenance": [],
      "collapsed_sections": []
    },
    "kernelspec": {
      "display_name": "Python 3",
      "language": "python",
      "name": "python3"
    },
    "language_info": {
      "codemirror_mode": {
        "name": "ipython",
        "version": 3
      },
      "file_extension": ".py",
      "mimetype": "text/x-python",
      "name": "python",
      "nbconvert_exporter": "python",
      "pygments_lexer": "ipython3",
      "version": "3.6.8"
    }
  },
  "cells": [
    {
      "cell_type": "code",
      "metadata": {
        "id": "oLK7Y1jiNXDa"
      },
      "source": [
        "import tensorflow as tf\n",
        "import matplotlib.pyplot as plt\n",
        "import pandas as pd\n",
        "import numpy as np"
      ],
      "execution_count": null,
      "outputs": []
    },
    {
      "cell_type": "markdown",
      "metadata": {
        "id": "ebR6hT3zUORd"
      },
      "source": [
        "Load the NER and POS Dataset"
      ]
    },
    {
      "cell_type": "code",
      "metadata": {
        "id": "wE1AUu7ZJhRm"
      },
      "source": [
        "path = '/ner_dataset.csv'"
      ],
      "execution_count": null,
      "outputs": []
    },
    {
      "cell_type": "code",
      "metadata": {
        "colab": {
          "base_uri": "https://localhost:8080/",
          "height": 669
        },
        "id": "mCKmz4SAbI_m",
        "outputId": "760f56c3-f6ba-4dec-b805-5377502256b7"
      },
      "source": [
        "data = pd.read_csv(path, encoding=\"latin1\")\n",
        "data = data.fillna(method=\"ffill\")\n",
        "data.head(20)"
      ],
      "execution_count": null,
      "outputs": [
        {
          "output_type": "execute_result",
          "data": {
            "text/html": [
              "<div>\n",
              "<style scoped>\n",
              "    .dataframe tbody tr th:only-of-type {\n",
              "        vertical-align: middle;\n",
              "    }\n",
              "\n",
              "    .dataframe tbody tr th {\n",
              "        vertical-align: top;\n",
              "    }\n",
              "\n",
              "    .dataframe thead th {\n",
              "        text-align: right;\n",
              "    }\n",
              "</style>\n",
              "<table border=\"1\" class=\"dataframe\">\n",
              "  <thead>\n",
              "    <tr style=\"text-align: right;\">\n",
              "      <th></th>\n",
              "      <th>Sentence #</th>\n",
              "      <th>Word</th>\n",
              "      <th>POS</th>\n",
              "      <th>Tag</th>\n",
              "    </tr>\n",
              "  </thead>\n",
              "  <tbody>\n",
              "    <tr>\n",
              "      <th>0</th>\n",
              "      <td>Sentence: 1</td>\n",
              "      <td>Thousands</td>\n",
              "      <td>NNS</td>\n",
              "      <td>O</td>\n",
              "    </tr>\n",
              "    <tr>\n",
              "      <th>1</th>\n",
              "      <td>Sentence: 1</td>\n",
              "      <td>of</td>\n",
              "      <td>IN</td>\n",
              "      <td>O</td>\n",
              "    </tr>\n",
              "    <tr>\n",
              "      <th>2</th>\n",
              "      <td>Sentence: 1</td>\n",
              "      <td>demonstrators</td>\n",
              "      <td>NNS</td>\n",
              "      <td>O</td>\n",
              "    </tr>\n",
              "    <tr>\n",
              "      <th>3</th>\n",
              "      <td>Sentence: 1</td>\n",
              "      <td>have</td>\n",
              "      <td>VBP</td>\n",
              "      <td>O</td>\n",
              "    </tr>\n",
              "    <tr>\n",
              "      <th>4</th>\n",
              "      <td>Sentence: 1</td>\n",
              "      <td>marched</td>\n",
              "      <td>VBN</td>\n",
              "      <td>O</td>\n",
              "    </tr>\n",
              "    <tr>\n",
              "      <th>5</th>\n",
              "      <td>Sentence: 1</td>\n",
              "      <td>through</td>\n",
              "      <td>IN</td>\n",
              "      <td>O</td>\n",
              "    </tr>\n",
              "    <tr>\n",
              "      <th>6</th>\n",
              "      <td>Sentence: 1</td>\n",
              "      <td>London</td>\n",
              "      <td>NNP</td>\n",
              "      <td>B-geo</td>\n",
              "    </tr>\n",
              "    <tr>\n",
              "      <th>7</th>\n",
              "      <td>Sentence: 1</td>\n",
              "      <td>to</td>\n",
              "      <td>TO</td>\n",
              "      <td>O</td>\n",
              "    </tr>\n",
              "    <tr>\n",
              "      <th>8</th>\n",
              "      <td>Sentence: 1</td>\n",
              "      <td>protest</td>\n",
              "      <td>VB</td>\n",
              "      <td>O</td>\n",
              "    </tr>\n",
              "    <tr>\n",
              "      <th>9</th>\n",
              "      <td>Sentence: 1</td>\n",
              "      <td>the</td>\n",
              "      <td>DT</td>\n",
              "      <td>O</td>\n",
              "    </tr>\n",
              "    <tr>\n",
              "      <th>10</th>\n",
              "      <td>Sentence: 1</td>\n",
              "      <td>war</td>\n",
              "      <td>NN</td>\n",
              "      <td>O</td>\n",
              "    </tr>\n",
              "    <tr>\n",
              "      <th>11</th>\n",
              "      <td>Sentence: 1</td>\n",
              "      <td>in</td>\n",
              "      <td>IN</td>\n",
              "      <td>O</td>\n",
              "    </tr>\n",
              "    <tr>\n",
              "      <th>12</th>\n",
              "      <td>Sentence: 1</td>\n",
              "      <td>Iraq</td>\n",
              "      <td>NNP</td>\n",
              "      <td>B-geo</td>\n",
              "    </tr>\n",
              "    <tr>\n",
              "      <th>13</th>\n",
              "      <td>Sentence: 1</td>\n",
              "      <td>and</td>\n",
              "      <td>CC</td>\n",
              "      <td>O</td>\n",
              "    </tr>\n",
              "    <tr>\n",
              "      <th>14</th>\n",
              "      <td>Sentence: 1</td>\n",
              "      <td>demand</td>\n",
              "      <td>VB</td>\n",
              "      <td>O</td>\n",
              "    </tr>\n",
              "    <tr>\n",
              "      <th>15</th>\n",
              "      <td>Sentence: 1</td>\n",
              "      <td>the</td>\n",
              "      <td>DT</td>\n",
              "      <td>O</td>\n",
              "    </tr>\n",
              "    <tr>\n",
              "      <th>16</th>\n",
              "      <td>Sentence: 1</td>\n",
              "      <td>withdrawal</td>\n",
              "      <td>NN</td>\n",
              "      <td>O</td>\n",
              "    </tr>\n",
              "    <tr>\n",
              "      <th>17</th>\n",
              "      <td>Sentence: 1</td>\n",
              "      <td>of</td>\n",
              "      <td>IN</td>\n",
              "      <td>O</td>\n",
              "    </tr>\n",
              "    <tr>\n",
              "      <th>18</th>\n",
              "      <td>Sentence: 1</td>\n",
              "      <td>British</td>\n",
              "      <td>JJ</td>\n",
              "      <td>B-gpe</td>\n",
              "    </tr>\n",
              "    <tr>\n",
              "      <th>19</th>\n",
              "      <td>Sentence: 1</td>\n",
              "      <td>troops</td>\n",
              "      <td>NNS</td>\n",
              "      <td>O</td>\n",
              "    </tr>\n",
              "  </tbody>\n",
              "</table>\n",
              "</div>"
            ],
            "text/plain": [
              "     Sentence #           Word  POS    Tag\n",
              "0   Sentence: 1      Thousands  NNS      O\n",
              "1   Sentence: 1             of   IN      O\n",
              "2   Sentence: 1  demonstrators  NNS      O\n",
              "3   Sentence: 1           have  VBP      O\n",
              "4   Sentence: 1        marched  VBN      O\n",
              "5   Sentence: 1        through   IN      O\n",
              "6   Sentence: 1         London  NNP  B-geo\n",
              "7   Sentence: 1             to   TO      O\n",
              "8   Sentence: 1        protest   VB      O\n",
              "9   Sentence: 1            the   DT      O\n",
              "10  Sentence: 1            war   NN      O\n",
              "11  Sentence: 1             in   IN      O\n",
              "12  Sentence: 1           Iraq  NNP  B-geo\n",
              "13  Sentence: 1            and   CC      O\n",
              "14  Sentence: 1         demand   VB      O\n",
              "15  Sentence: 1            the   DT      O\n",
              "16  Sentence: 1     withdrawal   NN      O\n",
              "17  Sentence: 1             of   IN      O\n",
              "18  Sentence: 1        British   JJ  B-gpe\n",
              "19  Sentence: 1         troops  NNS      O"
            ]
          },
          "metadata": {},
          "execution_count": 116
        }
      ]
    },
    {
      "cell_type": "code",
      "metadata": {
        "colab": {
          "base_uri": "https://localhost:8080/"
        },
        "id": "riOztP-8NXHT",
        "outputId": "da5d397c-355a-4e93-d13c-38cf53e4597f"
      },
      "source": [
        "print(\"Unique words in corpus:\", data['Word'].nunique())\n",
        "print(\"Unique tags in corpus:\", data['Tag'].nunique())"
      ],
      "execution_count": null,
      "outputs": [
        {
          "output_type": "stream",
          "name": "stdout",
          "text": [
            "Unique words in corpus: 35178\n",
            "Unique tags in corpus: 17\n"
          ]
        }
      ]
    },
    {
      "cell_type": "code",
      "metadata": {
        "colab": {
          "base_uri": "https://localhost:8080/"
        },
        "id": "UN5PoJMfJFH-",
        "outputId": "daa6eb3d-a32f-46b7-b71a-a6189fb3faff"
      },
      "source": [
        "words = list(set(data[\"Word\"].values))\n",
        "words.append(\"ENDPAD\")\n",
        "num_words = len(words)\n",
        "num_words"
      ],
      "execution_count": null,
      "outputs": [
        {
          "output_type": "execute_result",
          "data": {
            "text/plain": [
              "35179"
            ]
          },
          "metadata": {},
          "execution_count": 118
        }
      ]
    },
    {
      "cell_type": "code",
      "metadata": {
        "colab": {
          "base_uri": "https://localhost:8080/"
        },
        "id": "1SRWHM0MJFH_",
        "outputId": "52f101ad-1035-420c-b937-47fb4d1ca093"
      },
      "source": [
        "tags = list(set(data[\"Tag\"].values))\n",
        "num_tags = len(tags)\n",
        "num_tags"
      ],
      "execution_count": null,
      "outputs": [
        {
          "output_type": "execute_result",
          "data": {
            "text/plain": [
              "17"
            ]
          },
          "metadata": {},
          "execution_count": 119
        }
      ]
    },
    {
      "cell_type": "markdown",
      "metadata": {
        "id": "M9D9JEzUbdnS"
      },
      "source": [
        "### Task 3: Retrieve Sentences and Corresponsing Tags"
      ]
    },
    {
      "cell_type": "code",
      "metadata": {
        "id": "VdJst_g5NYY_"
      },
      "source": [
        "class SentenceGetter(object):\n",
        "    def __init__(self, data):\n",
        "        self.n_sent = 1\n",
        "        self.data = data\n",
        "        self.empty = False\n",
        "        agg_func = lambda s: [(w, p, t) for w, p, t in zip(s[\"Word\"].values.tolist(),\n",
        "                                                           s[\"POS\"].values.tolist(),\n",
        "                                                           s[\"Tag\"].values.tolist())]\n",
        "        self.grouped = self.data.groupby(\"Sentence #\").apply(agg_func)\n",
        "        self.sentences = [s for s in self.grouped]\n",
        "    \n",
        "    def get_next(self):\n",
        "        try:\n",
        "            s = self.grouped[\"Sentence: {}\".format(self.n_sent)]\n",
        "            self.n_sent += 1\n",
        "            return s\n",
        "        except:\n",
        "            return None"
      ],
      "execution_count": null,
      "outputs": []
    },
    {
      "cell_type": "code",
      "metadata": {
        "id": "nMUQLppspkPj"
      },
      "source": [
        "getter = SentenceGetter(data)\n",
        "sentences = getter.sentences"
      ],
      "execution_count": null,
      "outputs": []
    },
    {
      "cell_type": "code",
      "metadata": {
        "colab": {
          "base_uri": "https://localhost:8080/"
        },
        "id": "GhiSTt2UdzYC",
        "outputId": "92d29f32-8a16-4a7b-b320-4bad5969944b"
      },
      "source": [
        "sentences[0], sentences[1]"
      ],
      "execution_count": null,
      "outputs": [
        {
          "output_type": "execute_result",
          "data": {
            "text/plain": [
              "([('Thousands', 'NNS', 'O'),\n",
              "  ('of', 'IN', 'O'),\n",
              "  ('demonstrators', 'NNS', 'O'),\n",
              "  ('have', 'VBP', 'O'),\n",
              "  ('marched', 'VBN', 'O'),\n",
              "  ('through', 'IN', 'O'),\n",
              "  ('London', 'NNP', 'B-geo'),\n",
              "  ('to', 'TO', 'O'),\n",
              "  ('protest', 'VB', 'O'),\n",
              "  ('the', 'DT', 'O'),\n",
              "  ('war', 'NN', 'O'),\n",
              "  ('in', 'IN', 'O'),\n",
              "  ('Iraq', 'NNP', 'B-geo'),\n",
              "  ('and', 'CC', 'O'),\n",
              "  ('demand', 'VB', 'O'),\n",
              "  ('the', 'DT', 'O'),\n",
              "  ('withdrawal', 'NN', 'O'),\n",
              "  ('of', 'IN', 'O'),\n",
              "  ('British', 'JJ', 'B-gpe'),\n",
              "  ('troops', 'NNS', 'O'),\n",
              "  ('from', 'IN', 'O'),\n",
              "  ('that', 'DT', 'O'),\n",
              "  ('country', 'NN', 'O'),\n",
              "  ('.', '.', 'O')],\n",
              " [('Iranian', 'JJ', 'B-gpe'),\n",
              "  ('officials', 'NNS', 'O'),\n",
              "  ('say', 'VBP', 'O'),\n",
              "  ('they', 'PRP', 'O'),\n",
              "  ('expect', 'VBP', 'O'),\n",
              "  ('to', 'TO', 'O'),\n",
              "  ('get', 'VB', 'O'),\n",
              "  ('access', 'NN', 'O'),\n",
              "  ('to', 'TO', 'O'),\n",
              "  ('sealed', 'JJ', 'O'),\n",
              "  ('sensitive', 'JJ', 'O'),\n",
              "  ('parts', 'NNS', 'O'),\n",
              "  ('of', 'IN', 'O'),\n",
              "  ('the', 'DT', 'O'),\n",
              "  ('plant', 'NN', 'O'),\n",
              "  ('Wednesday', 'NNP', 'B-tim'),\n",
              "  (',', ',', 'O'),\n",
              "  ('after', 'IN', 'O'),\n",
              "  ('an', 'DT', 'O'),\n",
              "  ('IAEA', 'NNP', 'B-org'),\n",
              "  ('surveillance', 'NN', 'O'),\n",
              "  ('system', 'NN', 'O'),\n",
              "  ('begins', 'VBZ', 'O'),\n",
              "  ('functioning', 'VBG', 'O'),\n",
              "  ('.', '.', 'O')])"
            ]
          },
          "metadata": {},
          "execution_count": 122
        }
      ]
    },
    {
      "cell_type": "markdown",
      "metadata": {
        "id": "ldhuogX4eHE4"
      },
      "source": [
        "### Task 4: Define Mappings between Sentences and Tags"
      ]
    },
    {
      "cell_type": "code",
      "metadata": {
        "id": "SvENHO18pkaQ"
      },
      "source": [
        "word2idx = {w: i + 1 for i, w in enumerate(words)}\n",
        "tag2idx = {t: i for i, t in enumerate(tags)}"
      ],
      "execution_count": null,
      "outputs": []
    },
    {
      "cell_type": "code",
      "metadata": {
        "id": "KK0qdEUAJFIH"
      },
      "source": [
        "word2idx;"
      ],
      "execution_count": null,
      "outputs": []
    },
    {
      "cell_type": "markdown",
      "metadata": {
        "id": "zXzE0MdsemCH"
      },
      "source": [
        "### Task 5: Padding Input Sentences and Creating Train/Test Splits"
      ]
    },
    {
      "cell_type": "code",
      "metadata": {
        "colab": {
          "base_uri": "https://localhost:8080/",
          "height": 265
        },
        "id": "R44g5T7NYp_H",
        "outputId": "a48fa875-246c-4a44-ca3f-af01210a8ba6"
      },
      "source": [
        "plt.hist([len(s) for s in sentences], bins=100)\n",
        "plt.show()"
      ],
      "execution_count": null,
      "outputs": [
        {
          "output_type": "display_data",
          "data": {
            "image/png": "[encoded data removed]",
            "text/plain": [
              "<Figure size 432x288 with 1 Axes>"
            ]
          },
          "metadata": {
            "needs_background": "light"
          }
        }
      ]
    },
    {
      "cell_type": "code",
      "metadata": {
        "id": "FS4u3CRkpkc1"
      },
      "source": [
        "from tensorflow.keras.preprocessing.sequence import pad_sequences\n",
        "\n",
        "max_len = 50\n",
        "\n",
        "X = [[word2idx[w[0]] for w in s] for s in sentences]\n",
        "X = pad_sequences(maxlen=max_len, sequences=X, padding=\"post\", value=num_words-1)\n",
        "\n",
        "y = [[tag2idx[w[2]] for w in s] for s in sentences]\n",
        "y = pad_sequences(maxlen=max_len, sequences=y, padding=\"post\", value=tag2idx[\"O\"])"
      ],
      "execution_count": null,
      "outputs": []
    },
    {
      "cell_type": "code",
      "metadata": {
        "id": "q7VfnnkXpkfS"
      },
      "source": [
        "from sklearn.model_selection import train_test_split\n",
        "x_train, x_test, y_train, y_test = train_test_split(X, y, test_size=0.2, random_state=1)"
      ],
      "execution_count": null,
      "outputs": []
    },
    {
      "cell_type": "code",
      "metadata": {
        "id": "KsUM2R0CSBfe"
      },
      "source": [
        "class SelfAttention(tf.keras.layers.Layer):\n",
        "    def __init__(self, embed_size, heads):\n",
        "        super(SelfAttention, self).__init__()\n",
        "        self.embed_size = embed_size\n",
        "        self.heads = heads\n",
        "        self.head_dim = embed_size // heads\n",
        "\n",
        "        assert (\n",
        "            self.head_dim * heads == embed_size\n",
        "        ), \"Embedding size needs to be divisible by heads\"\n",
        "\n",
        "        self.wq = tf.keras.layers.Dense(self.head_dim)\n",
        "        self.wk = tf.keras.layers.Dense(self.head_dim)\n",
        "        self.wv = tf.keras.layers.Dense(self.head_dim)\n",
        "        self.dense = tf.keras.layers.Dense(self.embed_size)\n",
        "\n",
        "\n",
        "    def call(self, v, k, q, mask):\n",
        "        # Get number of training examples\n",
        "        batch_size = q.shape[0]\n",
        "\n",
        "        seq_len_v, seq_len_k, seq_len_q = v.shape[1], k.shape[1], q.shape[1]\n",
        "\n",
        "\n",
        "        # Split the embedding into self.heads different pieces\n",
        "        v = tf.reshape(v,(batch_size,seq_len_v, self.heads, self.head_dim))\n",
        "        k = tf.reshape(k,(batch_size,seq_len_k, self.heads, self.head_dim))\n",
        "        q = tf.reshape(q,(batch_size,seq_len_q, self.heads, self.head_dim))\n",
        "\n",
        "\n",
        "        values = self.wv(v)  # (batch_size, value_len, heads, head_dim)\n",
        "        keys = self.wk(k)  # (batch_size, key_len, heads, head_dim)\n",
        "        queries = self.wq(q)  # (batch_size, query_len, heads, heads_dim)\n",
        "\n",
        "        # Einsum does matrix mult. for query*keys for each training example\n",
        "\n",
        "        attention = tf.einsum(\"nqhd,nkhd->nhqk\", queries, keys)\n",
        "        # queries shape: (batch_size, seq_len_q, heads, heads_dim),\n",
        "        # keys shape: (batch_size, seq_len_k, heads, heads_dim)\n",
        "        # attention: (batch_size, heads, seq_len_q, seq_len_k)\n",
        "\n",
        "         # scale matmul_qk\n",
        "        dk = tf.cast(tf.shape(keys)[1], tf.float32)\n",
        "        scaled_attention_logits = attention / tf.math.sqrt(dk)\n",
        "\n",
        "        # Mask padded indices so their weights become 0\n",
        "\n",
        "        if mask is not None:\n",
        "            scaled_attention_logits += (mask * -1e9)\n",
        "\n",
        "        # Normalize energy values similarly to seq2seq + attention\n",
        "        # so that they sum to 1. Also divide by scaling factor for\n",
        "        # better stability\n",
        "        attention_weights = tf.nn.softmax(scaled_attention_logits, axis=-1)\n",
        "        # attention shape: (batch_size, heads, seq_len_q, seq_len_k)\n",
        "\n",
        "\n",
        "\n",
        "        out = tf.einsum(\"nhql,nlhd->nqhd\", attention_weights, values)\n",
        "        out = tf.reshape(out, (batch_size, seq_len_q, -1))\n",
        "        # attention shape: (batch_size, heads, seq_len_q, key_len)\n",
        "        # values shape: (batch_size, seq_len_v, heads, heads_dim)\n",
        "        # out after matrix multiply: (batch_size, seq_len_q, heads, head_dim), then\n",
        "        # we reshape and flatten the last two dimensions.\n",
        "\n",
        "        out = self.dense(out)\n",
        "        # Linear layer doesn't modify the shape, final shape will be\n",
        "        # (N, query_len, embed_size)\n",
        "\n",
        "        return out, attention_weights\n",
        "\n",
        "class EncoderLayer(tf.keras.layers.Layer):\n",
        "  def __init__(self, embed_size, heads, forward_expansion, rate=0.1):\n",
        "    super(EncoderLayer, self).__init__()\n",
        "\n",
        "    self.self_attens= SelfAttention(embed_size, heads)\n",
        "    self.ffn = tf.keras.Sequential([\n",
        "      tf.keras.layers.Dense(forward_expansion, activation='relu'),  # (batch_size, seq_len, forward_expansion)\n",
        "      tf.keras.layers.Dense(embed_size)  # (batch_size, seq_len, d_model)\n",
        "       ])\n",
        "\n",
        "    self.layernorm1 = tf.keras.layers.LayerNormalization(epsilon=1e-6)\n",
        "    self.layernorm2 = tf.keras.layers.LayerNormalization(epsilon=1e-6)\n",
        "\n",
        "    self.dropout1 = tf.keras.layers.Dropout(rate)\n",
        "    self.dropout2 = tf.keras.layers.Dropout(rate)\n",
        "\n",
        "  def call(self, x, training, mask):\n",
        "\n",
        "    attn_output, _ = self.self_attens(x, x, x, mask)  # (batch_size, input_seq_len, d_model)\n",
        "    attn_output = self.dropout1(attn_output, training=training)\n",
        "    out1 = self.layernorm1(x + attn_output)  # (batch_size, input_seq_len, d_model)\n",
        "\n",
        "    ffn_output = self.ffn(out1)  # (batch_size, input_seq_len, d_model)\n",
        "    ffn_output = self.dropout2(ffn_output, training=training)\n",
        "    out2 = self.layernorm2(out1 + ffn_output)  # (batch_size, input_seq_len, d_model)\n",
        "\n",
        "    return out2\n",
        "\n",
        "class Encoder(tf.keras.layers.Layer):\n",
        "    def __init__(self, num_layers, embed_size,  heads, forward_expansion, input_vocab_size, max_length, rate=0.1):\n",
        "        super(Encoder, self).__init__()\n",
        "        self.embed_size = embed_size\n",
        "        self.num_layers = num_layers\n",
        "        self.max_length = max_length\n",
        "        self.embedding = tf.keras.layers.Embedding(input_vocab_size, embed_size)\n",
        "\n",
        "        self.Layerss =[EncoderLayer(embed_size, heads, forward_expansion, rate)\n",
        "                       for _ in range(self.num_layers)]\n",
        "                      \n",
        "\n",
        "        self.dropout = tf.keras.layers.Dropout(rate)\n",
        "\n",
        "    def positional_encoding(self):\n",
        "\n",
        "        pos = np.arange(self.max_length)[:, np.newaxis]\n",
        "        i = np.arange(self.embed_size)[np.newaxis, :]\n",
        "        angle_rates = 1 / np.power(10000, (2 * (i//2)) / np.float32(self.embed_size))\n",
        "\n",
        "        angle_rads = pos * angle_rates\n",
        "\n",
        "        # apply sin to even indices in the array; 2i\n",
        "        angle_rads[:, 0::2] = np.sin(angle_rads[:, 0::2])\n",
        "\n",
        "        # apply cos to odd indices in the array; 2i+1\n",
        "        angle_rads[:, 1::2] = np.cos(angle_rads[:, 1::2])\n",
        "\n",
        "        pos_encoding = angle_rads[np.newaxis, ...]\n",
        "\n",
        "        return tf.cast(pos_encoding, dtype=tf.float32)\n",
        "\n",
        "    def call(self, x, training, mask):\n",
        "\n",
        "        seq_len = tf.shape(x)[1]\n",
        "                                                         \n",
        "        x = self.embedding(x)  # (batch_size, input_seq_len, d_model)\n",
        "        x *= tf.math.sqrt(tf.cast(self.embed_size, tf.float32))\n",
        "        x += self.positional_encoding()[:, :seq_len, :]\n",
        "\n",
        "\n",
        "        x = self.dropout(x, training=training)\n",
        "        for i in range(self.num_layers):\n",
        "           x = self.Layerss[i](x, training, mask)\n",
        "\n",
        "        return x  # (batch_size, input_seq_len, d_model)"
      ],
      "execution_count": null,
      "outputs": []
    },
    {
      "cell_type": "code",
      "metadata": {
        "id": "snKL3eTLkl9A"
      },
      "source": [
        "def create_padding_mask(seq):\n",
        "  seq = tf.cast(tf.math.equal(seq, 0), tf.float32)\n",
        "\n",
        "  # add extra dimensions to add the padding\n",
        "  # to the attention logits.\n",
        "  return seq[:, tf.newaxis, tf.newaxis, :]  # (batch_size, 1, 1, seq_len)"
      ],
      "execution_count": null,
      "outputs": []
    },
    {
      "cell_type": "code",
      "metadata": {
        "id": "HIbpvklvh5rf"
      },
      "source": [
        "class NER(tf.keras.Model):\n",
        "    def __init__(self, num_layers, embed_size, heads, forward_expansion, input_vocab_size, target_vocab_size, max_length, rate):\n",
        "        super(NER, self).__init__()\n",
        "        self.encoder = Encoder(num_layers, embed_size, heads, forward_expansion,input_vocab_size, max_length, rate)\n",
        "        self.decode = TimeDistributed(Dense(target_vocab_size))\n",
        "    def create_masks(self, inp):\n",
        "      # Encoder padding mask\n",
        "        return create_padding_mask(inp)\n",
        "\n",
        "    def call(self, x, training):\n",
        "        enc_padding_mask = self.create_masks(x)\n",
        "        enc_output = self.encoder(x, training, enc_padding_mask) \n",
        "        output = self.decode(enc_output)\n",
        "\n",
        "        return output\n"
      ],
      "execution_count": null,
      "outputs": []
    },
    {
      "cell_type": "code",
      "metadata": {
        "id": "EQFwMFgBlFla"
      },
      "source": [
        "num_layers = 8\n",
        "embed_size = 64\n",
        "heads = 4\n",
        "forward_expansion  = embed_size*4\n",
        "input_vocab_size = num_words\n",
        "target_vocab_size = num_tags\n",
        "max_length = 1000 \n",
        "rate = 0.1"
      ],
      "execution_count": null,
      "outputs": []
    },
    {
      "cell_type": "code",
      "metadata": {
        "colab": {
          "base_uri": "https://localhost:8080/"
        },
        "id": "-Dken-28k_xy",
        "outputId": "2f7438a7-b7ca-4bae-ccb7-587488509dda"
      },
      "source": [
        "model=NER(num_layers, embed_size, heads, forward_expansion, input_vocab_size, target_vocab_size, max_length, rate)\n",
        "outputx = model(x_train, training=False)\n",
        "outputx.shape, x_train.shape"
      ],
      "execution_count": null,
      "outputs": [
        {
          "output_type": "execute_result",
          "data": {
            "text/plain": [
              "(TensorShape([38367, 50, 17]), (38367, 50))"
            ]
          },
          "metadata": {},
          "execution_count": 134
        }
      ]
    },
    {
      "cell_type": "code",
      "metadata": {
        "id": "RortfR2roB2n"
      },
      "source": [
        "BUFFER_SIZE = x_train.shape[0]\n",
        "BATCH_SIZE = 64\n",
        "steps_per_epoch = x_train.shape[0]//BATCH_SIZE\n",
        "dataset = tf.data.Dataset.from_tensor_slices((x_train, y_train)).shuffle(BUFFER_SIZE)\n",
        "dataset = dataset.batch(BATCH_SIZE, drop_remainder=False)\n",
        "\n",
        "BUFFER_SIZE_TEST = x_test.shape[0]\n",
        "dataset_test = tf.data.Dataset.from_tensor_slices((x_test, y_test)).shuffle(BUFFER_SIZE_TEST)\n",
        "dataset_test = dataset_test.batch(BATCH_SIZE, drop_remainder=False)"
      ],
      "execution_count": null,
      "outputs": []
    },
    {
      "cell_type": "code",
      "metadata": {
        "id": "baGtahLMoHpG"
      },
      "source": [
        "loss_object = tf.keras.losses.SparseCategoricalCrossentropy(from_logits=True)\n",
        "optimizer = tf.keras.optimizers.Adam(learning_rate=0.00001)\n",
        "train_accuracy = tf.keras.metrics.SparseCategoricalAccuracy(name='train_accuracy')\n",
        "test_accuracy = tf.keras.metrics.SparseCategoricalAccuracy(name='test_accuracy')"
      ],
      "execution_count": null,
      "outputs": []
    },
    {
      "cell_type": "code",
      "metadata": {
        "id": "OBZ5fxlKPix4"
      },
      "source": [
        "@tf.function\n",
        "def train_step(inp, tar):\n",
        "  with tf.GradientTape() as tape:\n",
        "    logits = model(inp, True)\n",
        "    loss = loss_object(tar, logits)\n",
        "  gradients = tape.gradient(loss, model.trainable_variables)\n",
        "  optimizer.apply_gradients(zip(gradients, model.trainable_variables))\n",
        "  train_accuracy.update_state(tar, logits)\n",
        "  return loss"
      ],
      "execution_count": null,
      "outputs": []
    },
    {
      "cell_type": "code",
      "metadata": {
        "colab": {
          "base_uri": "https://localhost:8080/"
        },
        "id": "jYgGs1mxodMn",
        "outputId": "91d78546-2679-4937-f6e2-1128300ba277"
      },
      "source": [
        "import time\n",
        "EPOCHS = 100\n",
        "history = {\n",
        "  \"epoch\": [],\n",
        "  \"loss\": [],\n",
        "  \"Accuracy\" :[]\n",
        "}\n",
        "for epoch in range(EPOCHS):\n",
        "  start = time.time()\n",
        "  total_loss = 0\n",
        "  # TRAIN LOOP\n",
        "  for (batch, (inp, tar)) in enumerate(dataset):\n",
        "      batch_loss = train_step(inp,tar)\n",
        "      total_loss = total_loss + batch_loss\n",
        "\n",
        "  if (epoch+1) % 1 == 0: \n",
        "        history['epoch'].append(epoch)\n",
        "        history['loss'].append(total_loss/(batch+1))\n",
        "        history['Accuracy'].append(train_accuracy.result())\n",
        "        print(f'Epoch {epoch+1}, Loss: {total_loss/(batch+1):.4f}, Accuracy: {train_accuracy.result():.4f}') \n",
        "        print(f'Time taken for 1 epoch: {time.time() - start:.2f} secs\\n')\n",
        "  train_accuracy.reset_states()"
      ],
      "execution_count": null,
      "outputs": [
        {
          "output_type": "stream",
          "name": "stdout",
          "text": [
            "Epoch 1, Loss: 0.7004, Accuracy: 0.8537\n",
            "Time taken for 1 epoch: 18.63 secs\n",
            "\n",
            "Epoch 2, Loss: 0.3951, Accuracy: 0.9329\n",
            "Time taken for 1 epoch: 11.14 secs\n",
            "\n",
            "Epoch 3, Loss: 0.3635, Accuracy: 0.9329\n",
            "Time taken for 1 epoch: 11.04 secs\n",
            "\n",
            "Epoch 4, Loss: 0.3255, Accuracy: 0.9329\n",
            "Time taken for 1 epoch: 11.18 secs\n",
            "\n",
            "Epoch 5, Loss: 0.2838, Accuracy: 0.9344\n",
            "Time taken for 1 epoch: 11.03 secs\n",
            "\n",
            "Epoch 6, Loss: 0.2526, Accuracy: 0.9371\n",
            "Time taken for 1 epoch: 11.20 secs\n",
            "\n",
            "Epoch 7, Loss: 0.2336, Accuracy: 0.9394\n",
            "Time taken for 1 epoch: 11.12 secs\n",
            "\n",
            "Epoch 8, Loss: 0.2192, Accuracy: 0.9418\n",
            "Time taken for 1 epoch: 11.16 secs\n",
            "\n",
            "Epoch 9, Loss: 0.2070, Accuracy: 0.9442\n",
            "Time taken for 1 epoch: 11.14 secs\n",
            "\n",
            "Epoch 10, Loss: 0.1940, Accuracy: 0.9476\n",
            "Time taken for 1 epoch: 11.15 secs\n",
            "\n",
            "Epoch 11, Loss: 0.1823, Accuracy: 0.9510\n",
            "Time taken for 1 epoch: 11.24 secs\n",
            "\n",
            "Epoch 12, Loss: 0.1711, Accuracy: 0.9537\n",
            "Time taken for 1 epoch: 11.17 secs\n",
            "\n",
            "Epoch 13, Loss: 0.1621, Accuracy: 0.9561\n",
            "Time taken for 1 epoch: 11.18 secs\n",
            "\n",
            "Epoch 14, Loss: 0.1546, Accuracy: 0.9580\n",
            "Time taken for 1 epoch: 11.07 secs\n",
            "\n",
            "Epoch 15, Loss: 0.1475, Accuracy: 0.9599\n",
            "Time taken for 1 epoch: 11.13 secs\n",
            "\n",
            "Epoch 16, Loss: 0.1418, Accuracy: 0.9613\n",
            "Time taken for 1 epoch: 11.18 secs\n",
            "\n",
            "Epoch 17, Loss: 0.1364, Accuracy: 0.9626\n",
            "Time taken for 1 epoch: 11.19 secs\n",
            "\n",
            "Epoch 18, Loss: 0.1319, Accuracy: 0.9637\n",
            "Time taken for 1 epoch: 11.17 secs\n",
            "\n",
            "Epoch 19, Loss: 0.1273, Accuracy: 0.9649\n",
            "Time taken for 1 epoch: 11.12 secs\n",
            "\n",
            "Epoch 20, Loss: 0.1237, Accuracy: 0.9659\n",
            "Time taken for 1 epoch: 11.22 secs\n",
            "\n",
            "Epoch 21, Loss: 0.1198, Accuracy: 0.9668\n",
            "Time taken for 1 epoch: 11.15 secs\n",
            "\n",
            "Epoch 22, Loss: 0.1167, Accuracy: 0.9675\n",
            "Time taken for 1 epoch: 11.17 secs\n",
            "\n",
            "Epoch 23, Loss: 0.1134, Accuracy: 0.9683\n",
            "Time taken for 1 epoch: 11.13 secs\n",
            "\n",
            "Epoch 24, Loss: 0.1110, Accuracy: 0.9689\n",
            "Time taken for 1 epoch: 11.17 secs\n",
            "\n",
            "Epoch 25, Loss: 0.1081, Accuracy: 0.9696\n",
            "Time taken for 1 epoch: 11.16 secs\n",
            "\n",
            "Epoch 26, Loss: 0.1055, Accuracy: 0.9702\n",
            "Time taken for 1 epoch: 11.21 secs\n",
            "\n",
            "Epoch 27, Loss: 0.1034, Accuracy: 0.9707\n",
            "Time taken for 1 epoch: 11.21 secs\n",
            "\n",
            "Epoch 28, Loss: 0.1014, Accuracy: 0.9712\n",
            "Time taken for 1 epoch: 11.20 secs\n",
            "\n",
            "Epoch 29, Loss: 0.0994, Accuracy: 0.9717\n",
            "Time taken for 1 epoch: 11.19 secs\n",
            "\n",
            "Epoch 30, Loss: 0.0973, Accuracy: 0.9722\n",
            "Time taken for 1 epoch: 11.11 secs\n",
            "\n",
            "Epoch 31, Loss: 0.0957, Accuracy: 0.9725\n",
            "Time taken for 1 epoch: 11.16 secs\n",
            "\n",
            "Epoch 32, Loss: 0.0940, Accuracy: 0.9729\n",
            "Time taken for 1 epoch: 11.23 secs\n",
            "\n",
            "Epoch 33, Loss: 0.0923, Accuracy: 0.9734\n",
            "Time taken for 1 epoch: 11.18 secs\n",
            "\n",
            "Epoch 34, Loss: 0.0907, Accuracy: 0.9737\n",
            "Time taken for 1 epoch: 11.19 secs\n",
            "\n",
            "Epoch 35, Loss: 0.0894, Accuracy: 0.9739\n",
            "Time taken for 1 epoch: 11.20 secs\n",
            "\n",
            "Epoch 36, Loss: 0.0881, Accuracy: 0.9743\n",
            "Time taken for 1 epoch: 11.15 secs\n",
            "\n",
            "Epoch 37, Loss: 0.0868, Accuracy: 0.9746\n",
            "Time taken for 1 epoch: 11.18 secs\n",
            "\n",
            "Epoch 38, Loss: 0.0856, Accuracy: 0.9749\n",
            "Time taken for 1 epoch: 11.21 secs\n",
            "\n",
            "Epoch 39, Loss: 0.0844, Accuracy: 0.9752\n",
            "Time taken for 1 epoch: 11.14 secs\n",
            "\n",
            "Epoch 40, Loss: 0.0833, Accuracy: 0.9754\n",
            "Time taken for 1 epoch: 11.16 secs\n",
            "\n",
            "Epoch 41, Loss: 0.0823, Accuracy: 0.9757\n",
            "Time taken for 1 epoch: 11.18 secs\n",
            "\n",
            "Epoch 42, Loss: 0.0813, Accuracy: 0.9760\n",
            "Time taken for 1 epoch: 11.22 secs\n",
            "\n",
            "Epoch 43, Loss: 0.0802, Accuracy: 0.9763\n",
            "Time taken for 1 epoch: 11.17 secs\n",
            "\n",
            "Epoch 44, Loss: 0.0795, Accuracy: 0.9764\n",
            "Time taken for 1 epoch: 11.17 secs\n",
            "\n",
            "Epoch 45, Loss: 0.0787, Accuracy: 0.9766\n",
            "Time taken for 1 epoch: 11.13 secs\n",
            "\n",
            "Epoch 46, Loss: 0.0778, Accuracy: 0.9768\n",
            "Time taken for 1 epoch: 11.22 secs\n",
            "\n",
            "Epoch 47, Loss: 0.0769, Accuracy: 0.9771\n",
            "Time taken for 1 epoch: 11.24 secs\n",
            "\n",
            "Epoch 48, Loss: 0.0760, Accuracy: 0.9773\n",
            "Time taken for 1 epoch: 11.22 secs\n",
            "\n",
            "Epoch 49, Loss: 0.0749, Accuracy: 0.9776\n",
            "Time taken for 1 epoch: 11.18 secs\n",
            "\n",
            "Epoch 50, Loss: 0.0746, Accuracy: 0.9777\n",
            "Time taken for 1 epoch: 11.23 secs\n",
            "\n",
            "Epoch 51, Loss: 0.0738, Accuracy: 0.9778\n",
            "Time taken for 1 epoch: 11.14 secs\n",
            "\n",
            "Epoch 52, Loss: 0.0732, Accuracy: 0.9780\n",
            "Time taken for 1 epoch: 11.22 secs\n",
            "\n",
            "Epoch 53, Loss: 0.0723, Accuracy: 0.9782\n",
            "Time taken for 1 epoch: 11.14 secs\n",
            "\n",
            "Epoch 54, Loss: 0.0718, Accuracy: 0.9783\n",
            "Time taken for 1 epoch: 11.23 secs\n",
            "\n",
            "Epoch 55, Loss: 0.0711, Accuracy: 0.9786\n",
            "Time taken for 1 epoch: 11.16 secs\n",
            "\n",
            "Epoch 56, Loss: 0.0705, Accuracy: 0.9788\n",
            "Time taken for 1 epoch: 11.19 secs\n",
            "\n",
            "Epoch 57, Loss: 0.0699, Accuracy: 0.9789\n",
            "Time taken for 1 epoch: 11.19 secs\n",
            "\n",
            "Epoch 58, Loss: 0.0694, Accuracy: 0.9791\n",
            "Time taken for 1 epoch: 11.20 secs\n",
            "\n",
            "Epoch 59, Loss: 0.0691, Accuracy: 0.9791\n",
            "Time taken for 1 epoch: 11.22 secs\n",
            "\n",
            "Epoch 60, Loss: 0.0680, Accuracy: 0.9794\n",
            "Time taken for 1 epoch: 11.21 secs\n",
            "\n",
            "Epoch 61, Loss: 0.0677, Accuracy: 0.9794\n",
            "Time taken for 1 epoch: 11.20 secs\n",
            "\n",
            "Epoch 62, Loss: 0.0669, Accuracy: 0.9795\n",
            "Time taken for 1 epoch: 11.12 secs\n",
            "\n",
            "Epoch 63, Loss: 0.0667, Accuracy: 0.9797\n",
            "Time taken for 1 epoch: 11.19 secs\n",
            "\n",
            "Epoch 64, Loss: 0.0661, Accuracy: 0.9799\n",
            "Time taken for 1 epoch: 11.17 secs\n",
            "\n",
            "Epoch 65, Loss: 0.0657, Accuracy: 0.9800\n",
            "Time taken for 1 epoch: 11.22 secs\n",
            "\n",
            "Epoch 66, Loss: 0.0654, Accuracy: 0.9801\n",
            "Time taken for 1 epoch: 11.18 secs\n",
            "\n",
            "Epoch 67, Loss: 0.0648, Accuracy: 0.9802\n",
            "Time taken for 1 epoch: 11.22 secs\n",
            "\n",
            "Epoch 68, Loss: 0.0642, Accuracy: 0.9803\n",
            "Time taken for 1 epoch: 11.15 secs\n",
            "\n",
            "Epoch 69, Loss: 0.0639, Accuracy: 0.9804\n",
            "Time taken for 1 epoch: 11.23 secs\n",
            "\n",
            "Epoch 70, Loss: 0.0634, Accuracy: 0.9806\n",
            "Time taken for 1 epoch: 11.21 secs\n",
            "\n",
            "Epoch 71, Loss: 0.0632, Accuracy: 0.9806\n",
            "Time taken for 1 epoch: 11.21 secs\n",
            "\n",
            "Epoch 72, Loss: 0.0625, Accuracy: 0.9809\n",
            "Time taken for 1 epoch: 11.21 secs\n",
            "\n",
            "Epoch 73, Loss: 0.0620, Accuracy: 0.9809\n",
            "Time taken for 1 epoch: 11.17 secs\n",
            "\n",
            "Epoch 74, Loss: 0.0616, Accuracy: 0.9811\n",
            "Time taken for 1 epoch: 11.15 secs\n",
            "\n",
            "Epoch 75, Loss: 0.0615, Accuracy: 0.9811\n",
            "Time taken for 1 epoch: 11.19 secs\n",
            "\n",
            "Epoch 76, Loss: 0.0611, Accuracy: 0.9812\n",
            "Time taken for 1 epoch: 11.21 secs\n",
            "\n",
            "Epoch 77, Loss: 0.0608, Accuracy: 0.9813\n",
            "Time taken for 1 epoch: 11.23 secs\n",
            "\n",
            "Epoch 78, Loss: 0.0602, Accuracy: 0.9814\n",
            "Time taken for 1 epoch: 11.24 secs\n",
            "\n",
            "Epoch 79, Loss: 0.0599, Accuracy: 0.9815\n",
            "Time taken for 1 epoch: 11.20 secs\n",
            "\n",
            "Epoch 80, Loss: 0.0594, Accuracy: 0.9816\n",
            "Time taken for 1 epoch: 11.14 secs\n",
            "\n",
            "Epoch 81, Loss: 0.0590, Accuracy: 0.9817\n",
            "Time taken for 1 epoch: 11.20 secs\n",
            "\n",
            "Epoch 82, Loss: 0.0588, Accuracy: 0.9819\n",
            "Time taken for 1 epoch: 11.24 secs\n",
            "\n",
            "Epoch 83, Loss: 0.0582, Accuracy: 0.9820\n",
            "Time taken for 1 epoch: 11.16 secs\n",
            "\n",
            "Epoch 84, Loss: 0.0581, Accuracy: 0.9820\n",
            "Time taken for 1 epoch: 11.22 secs\n",
            "\n",
            "Epoch 85, Loss: 0.0577, Accuracy: 0.9820\n",
            "Time taken for 1 epoch: 11.24 secs\n",
            "\n",
            "Epoch 86, Loss: 0.0575, Accuracy: 0.9822\n",
            "Time taken for 1 epoch: 11.19 secs\n",
            "\n",
            "Epoch 87, Loss: 0.0572, Accuracy: 0.9822\n",
            "Time taken for 1 epoch: 11.23 secs\n",
            "\n",
            "Epoch 88, Loss: 0.0568, Accuracy: 0.9823\n",
            "Time taken for 1 epoch: 11.24 secs\n",
            "\n",
            "Epoch 89, Loss: 0.0563, Accuracy: 0.9824\n",
            "Time taken for 1 epoch: 11.24 secs\n",
            "\n",
            "Epoch 90, Loss: 0.0560, Accuracy: 0.9825\n",
            "Time taken for 1 epoch: 11.20 secs\n",
            "\n",
            "Epoch 91, Loss: 0.0559, Accuracy: 0.9825\n",
            "Time taken for 1 epoch: 11.17 secs\n",
            "\n",
            "Epoch 92, Loss: 0.0556, Accuracy: 0.9827\n",
            "Time taken for 1 epoch: 11.24 secs\n",
            "\n",
            "Epoch 93, Loss: 0.0553, Accuracy: 0.9827\n",
            "Time taken for 1 epoch: 11.21 secs\n",
            "\n",
            "Epoch 94, Loss: 0.0550, Accuracy: 0.9827\n",
            "Time taken for 1 epoch: 11.22 secs\n",
            "\n",
            "Epoch 95, Loss: 0.0546, Accuracy: 0.9829\n",
            "Time taken for 1 epoch: 11.24 secs\n",
            "\n",
            "Epoch 96, Loss: 0.0545, Accuracy: 0.9830\n",
            "Time taken for 1 epoch: 11.24 secs\n",
            "\n",
            "Epoch 97, Loss: 0.0540, Accuracy: 0.9831\n",
            "Time taken for 1 epoch: 11.23 secs\n",
            "\n",
            "Epoch 98, Loss: 0.0536, Accuracy: 0.9833\n",
            "Time taken for 1 epoch: 11.22 secs\n",
            "\n",
            "Epoch 99, Loss: 0.0535, Accuracy: 0.9833\n",
            "Time taken for 1 epoch: 11.23 secs\n",
            "\n",
            "Epoch 100, Loss: 0.0531, Accuracy: 0.9834\n",
            "Time taken for 1 epoch: 11.24 secs\n",
            "\n"
          ]
        }
      ]
    },
    {
      "cell_type": "code",
      "metadata": {
        "id": "6euqX7UHplG7",
        "colab": {
          "base_uri": "https://localhost:8080/",
          "height": 336
        },
        "outputId": "cc5f8e1e-7c09-4af7-f204-f9555ec58e8d"
      },
      "source": [
        "plt.figure(figsize=(8,5))\n",
        "plt.plot(history[\"epoch\"],history[\"loss\"], label='loss')\n",
        "plt.title('Training loss')\n",
        "plt.legend(loc='best')\n",
        "plt.show()"
      ],
      "execution_count": null,
      "outputs": [
        {
          "output_type": "display_data",
          "data": {
            "image/png": "[encoded data removed]",
            "text/plain": [
              "<Figure size 576x360 with 1 Axes>"
            ]
          },
          "metadata": {
            "needs_background": "light"
          }
        }
      ]
    },
    {
      "cell_type": "code",
      "metadata": {
        "colab": {
          "base_uri": "https://localhost:8080/",
          "height": 336
        },
        "id": "7cDuY0z5otax",
        "outputId": "0a574cfe-4a95-449b-cacd-9d89840e7a58"
      },
      "source": [
        "plt.figure(figsize=(8,5))\n",
        "plt.plot(history[\"epoch\"],history[\"Accuracy\"], label='Accuracy')\n",
        "plt.title('Training Accuracy')\n",
        "plt.legend(loc='best')\n",
        "plt.show()"
      ],
      "execution_count": null,
      "outputs": [
        {
          "output_type": "display_data",
          "data": {
            "image/png": "[encoded data removed]",
            "text/plain": [
              "<Figure size 576x360 with 1 Axes>"
            ]
          },
          "metadata": {
            "needs_background": "light"
          }
        }
      ]
    },
    {
      "cell_type": "code",
      "metadata": {
        "id": "kk2TlnVlpJvp"
      },
      "source": [
        "def evaluate(inp):\n",
        "    logits = model(inp, False)\n",
        "    predicted_id = tf.argmax(logits, axis=-1)\n",
        "    return logits, predicted_id"
      ],
      "execution_count": null,
      "outputs": []
    },
    {
      "cell_type": "code",
      "metadata": {
        "colab": {
          "base_uri": "https://localhost:8080/"
        },
        "id": "jU85S21spL63",
        "outputId": "a84bab48-17ca-4c08-d526-2ea7d233b04d"
      },
      "source": [
        "start = time.time()\n",
        "for (batch, (inp, tar)) in enumerate(dataset_test):\n",
        "    logits,_ = evaluate(inp)\n",
        "    test_accuracy.update_state(tar, logits)\n",
        "print('Accuracy of model on Test : ', test_accuracy.result().numpy())\n",
        "print(f'Time taken for 1 epoch: {time.time() - start:.2f} secs\\n')"
      ],
      "execution_count": null,
      "outputs": [
        {
          "output_type": "stream",
          "name": "stdout",
          "text": [
            "Accuracy of model on Test :  0.9787594\n",
            "Time taken for 1 epoch: 11.27 secs\n",
            "\n"
          ]
        }
      ]
    },
    {
      "cell_type": "code",
      "metadata": {
        "id": "yKwGTfUXuf6L"
      },
      "source": [
        "def evaluate(inp):\n",
        "    logits = model(inp, False)\n",
        "    predicted_id = tf.argmax(logits, axis=-1)\n",
        "    return logits, predicted_id\n",
        "for (batch, (inp, tar)) in enumerate(dataset_test.take(1)):\n",
        "    x_test = inp\n",
        "    y_test = tar\n",
        "    _,prob = evaluate(inp)"
      ],
      "execution_count": null,
      "outputs": []
    },
    {
      "cell_type": "code",
      "metadata": {
        "id": "Tyg4mKOVplJ-",
        "colab": {
          "base_uri": "https://localhost:8080/"
        },
        "outputId": "64851317-a064-4fb9-b343-2a15bb9a909c"
      },
      "source": [
        "i = np.random.randint(0, x_test.shape[0]) #659\n",
        "p = prob[i]\n",
        "y_true = y_test[i]\n",
        "print(\"{:15}{:5}\\t {}\\n\".format(\"Word\", \"True\", \"Pred\"))\n",
        "print(\"-\" *30)\n",
        "for w, true, pred in zip(x_test[i], y_true, p):\n",
        "    print(\"{:15}{}\\t{}\".format(words[w-1], tags[true], tags[pred]))\n",
        "    if w == 35178:\n",
        "      break"
      ],
      "execution_count": null,
      "outputs": [
        {
          "output_type": "stream",
          "name": "stdout",
          "text": [
            "Word           True \t Pred\n",
            "\n",
            "------------------------------\n",
            "In             O\tO\n",
            "late           O\tO\n",
            "March          B-tim\tB-tim\n",
            ",              O\tO\n",
            "at             O\tO\n",
            "least          O\tO\n",
            "42             O\tO\n",
            "people         O\tO\n",
            "were           O\tO\n",
            "killed         O\tO\n",
            "in             O\tO\n",
            "twin           O\tO\n",
            "bombings       O\tO\n",
            "near           O\tO\n",
            "a              O\tO\n",
            "restaurant     O\tO\n",
            "in             O\tO\n",
            "Khalis         B-org\tB-org\n",
            ".              O\tO\n",
            "Chiao          O\tO\n"
          ]
        }
      ]
    },
    {
      "cell_type": "code",
      "metadata": {
        "id": "eCsYsSE-xeXD"
      },
      "source": [
        ""
      ],
      "execution_count": null,
      "outputs": []
    }
  ]
}