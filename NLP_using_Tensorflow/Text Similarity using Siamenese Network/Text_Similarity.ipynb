{
  "nbformat": 4,
  "nbformat_minor": 0,
  "metadata": {
    "colab": {
      "name": "Text_Similarity.ipynb",
      "provenance": [],
      "collapsed_sections": [],
      "machine_shape": "hm"
    },
    "kernelspec": {
      "name": "python3",
      "display_name": "Python 3"
    },
    "language_info": {
      "name": "python"
    },
    "accelerator": "GPU"
  },
  "cells": [
    {
      "cell_type": "code",
      "metadata": {
        "id": "SetcU9BTDvVH"
      },
      "source": [
        "import matplotlib.pyplot as plt\n",
        "import pandas as pd\n",
        "import numpy as np\n",
        "import tensorflow as tf\n",
        "from unicodedata import normalize\n",
        "from sklearn.model_selection import train_test_split\n",
        "import string\n",
        "import time\n",
        "import re"
      ],
      "execution_count": null,
      "outputs": []
    },
    {
      "cell_type": "code",
      "metadata": {
        "id": "Qbc2LJuNE2TI"
      },
      "source": [
        "path = '/train.csv.zip'"
      ],
      "execution_count": null,
      "outputs": []
    },
    {
      "cell_type": "code",
      "metadata": {
        "colab": {
          "base_uri": "https://localhost:8080/",
          "height": 204
        },
        "id": "Xt9Cp9XgExu5",
        "outputId": "ca5f91a1-9f00-4e04-eb8a-372908dc3215"
      },
      "source": [
        "df = pd.read_csv(path)\n",
        "df.head()"
      ],
      "execution_count": null,
      "outputs": [
        {
          "output_type": "execute_result",
          "data": {
            "text/html": [
              "<div>\n",
              "<style scoped>\n",
              "    .dataframe tbody tr th:only-of-type {\n",
              "        vertical-align: middle;\n",
              "    }\n",
              "\n",
              "    .dataframe tbody tr th {\n",
              "        vertical-align: top;\n",
              "    }\n",
              "\n",
              "    .dataframe thead th {\n",
              "        text-align: right;\n",
              "    }\n",
              "</style>\n",
              "<table border=\"1\" class=\"dataframe\">\n",
              "  <thead>\n",
              "    <tr style=\"text-align: right;\">\n",
              "      <th></th>\n",
              "      <th>id</th>\n",
              "      <th>qid1</th>\n",
              "      <th>qid2</th>\n",
              "      <th>question1</th>\n",
              "      <th>question2</th>\n",
              "      <th>is_duplicate</th>\n",
              "    </tr>\n",
              "  </thead>\n",
              "  <tbody>\n",
              "    <tr>\n",
              "      <th>0</th>\n",
              "      <td>0</td>\n",
              "      <td>1</td>\n",
              "      <td>2</td>\n",
              "      <td>What is the step by step guide to invest in sh...</td>\n",
              "      <td>What is the step by step guide to invest in sh...</td>\n",
              "      <td>0</td>\n",
              "    </tr>\n",
              "    <tr>\n",
              "      <th>1</th>\n",
              "      <td>1</td>\n",
              "      <td>3</td>\n",
              "      <td>4</td>\n",
              "      <td>What is the story of Kohinoor (Koh-i-Noor) Dia...</td>\n",
              "      <td>What would happen if the Indian government sto...</td>\n",
              "      <td>0</td>\n",
              "    </tr>\n",
              "    <tr>\n",
              "      <th>2</th>\n",
              "      <td>2</td>\n",
              "      <td>5</td>\n",
              "      <td>6</td>\n",
              "      <td>How can I increase the speed of my internet co...</td>\n",
              "      <td>How can Internet speed be increased by hacking...</td>\n",
              "      <td>0</td>\n",
              "    </tr>\n",
              "    <tr>\n",
              "      <th>3</th>\n",
              "      <td>3</td>\n",
              "      <td>7</td>\n",
              "      <td>8</td>\n",
              "      <td>Why am I mentally very lonely? How can I solve...</td>\n",
              "      <td>Find the remainder when [math]23^{24}[/math] i...</td>\n",
              "      <td>0</td>\n",
              "    </tr>\n",
              "    <tr>\n",
              "      <th>4</th>\n",
              "      <td>4</td>\n",
              "      <td>9</td>\n",
              "      <td>10</td>\n",
              "      <td>Which one dissolve in water quikly sugar, salt...</td>\n",
              "      <td>Which fish would survive in salt water?</td>\n",
              "      <td>0</td>\n",
              "    </tr>\n",
              "  </tbody>\n",
              "</table>\n",
              "</div>"
            ],
            "text/plain": [
              "   id  qid1  ...                                          question2 is_duplicate\n",
              "0   0     1  ...  What is the step by step guide to invest in sh...            0\n",
              "1   1     3  ...  What would happen if the Indian government sto...            0\n",
              "2   2     5  ...  How can Internet speed be increased by hacking...            0\n",
              "3   3     7  ...  Find the remainder when [math]23^{24}[/math] i...            0\n",
              "4   4     9  ...            Which fish would survive in salt water?            0\n",
              "\n",
              "[5 rows x 6 columns]"
            ]
          },
          "metadata": {},
          "execution_count": 63
        }
      ]
    },
    {
      "cell_type": "code",
      "metadata": {
        "colab": {
          "base_uri": "https://localhost:8080/"
        },
        "id": "tGG9EZumMyW9",
        "outputId": "3a94b10c-f900-4322-a9a6-fcd3a324be7f"
      },
      "source": [
        "df.info()"
      ],
      "execution_count": null,
      "outputs": [
        {
          "output_type": "stream",
          "name": "stdout",
          "text": [
            "<class 'pandas.core.frame.DataFrame'>\n",
            "RangeIndex: 404290 entries, 0 to 404289\n",
            "Data columns (total 6 columns):\n",
            " #   Column        Non-Null Count   Dtype \n",
            "---  ------        --------------   ----- \n",
            " 0   id            404290 non-null  int64 \n",
            " 1   qid1          404290 non-null  int64 \n",
            " 2   qid2          404290 non-null  int64 \n",
            " 3   question1     404289 non-null  object\n",
            " 4   question2     404288 non-null  object\n",
            " 5   is_duplicate  404290 non-null  int64 \n",
            "dtypes: int64(4), object(2)\n",
            "memory usage: 18.5+ MB\n"
          ]
        }
      ]
    },
    {
      "cell_type": "code",
      "metadata": {
        "colab": {
          "base_uri": "https://localhost:8080/",
          "height": 142
        },
        "id": "FfMgpRBwGkQT",
        "outputId": "6f238d45-96e1-42ed-c5be-93db762db663"
      },
      "source": [
        "grouped = df.groupby(\"is_duplicate\").count()\n",
        "grouped"
      ],
      "execution_count": null,
      "outputs": [
        {
          "output_type": "execute_result",
          "data": {
            "text/html": [
              "<div>\n",
              "<style scoped>\n",
              "    .dataframe tbody tr th:only-of-type {\n",
              "        vertical-align: middle;\n",
              "    }\n",
              "\n",
              "    .dataframe tbody tr th {\n",
              "        vertical-align: top;\n",
              "    }\n",
              "\n",
              "    .dataframe thead th {\n",
              "        text-align: right;\n",
              "    }\n",
              "</style>\n",
              "<table border=\"1\" class=\"dataframe\">\n",
              "  <thead>\n",
              "    <tr style=\"text-align: right;\">\n",
              "      <th></th>\n",
              "      <th>id</th>\n",
              "      <th>qid1</th>\n",
              "      <th>qid2</th>\n",
              "      <th>question1</th>\n",
              "      <th>question2</th>\n",
              "    </tr>\n",
              "    <tr>\n",
              "      <th>is_duplicate</th>\n",
              "      <th></th>\n",
              "      <th></th>\n",
              "      <th></th>\n",
              "      <th></th>\n",
              "      <th></th>\n",
              "    </tr>\n",
              "  </thead>\n",
              "  <tbody>\n",
              "    <tr>\n",
              "      <th>0</th>\n",
              "      <td>255027</td>\n",
              "      <td>255027</td>\n",
              "      <td>255027</td>\n",
              "      <td>255026</td>\n",
              "      <td>255025</td>\n",
              "    </tr>\n",
              "    <tr>\n",
              "      <th>1</th>\n",
              "      <td>149263</td>\n",
              "      <td>149263</td>\n",
              "      <td>149263</td>\n",
              "      <td>149263</td>\n",
              "      <td>149263</td>\n",
              "    </tr>\n",
              "  </tbody>\n",
              "</table>\n",
              "</div>"
            ],
            "text/plain": [
              "                  id    qid1    qid2  question1  question2\n",
              "is_duplicate                                              \n",
              "0             255027  255027  255027     255026     255025\n",
              "1             149263  149263  149263     149263     149263"
            ]
          },
          "metadata": {},
          "execution_count": 65
        }
      ]
    },
    {
      "cell_type": "code",
      "metadata": {
        "id": "0wQQEo15I16e"
      },
      "source": [
        "# Process the data file\n",
        "def process_pairs(line):\n",
        "#    line = ' '.join(line)\n",
        "    line = str(line).lower().strip()\n",
        "    line = normalize('NFD' , line).encode('ascii' , 'ignore')\n",
        "    line = line.decode('UTF-8')\n",
        "    line = re.sub(r\"([?.!,¿])\", r\" \\1 \", line)\n",
        "    line = re.sub(r'[\" \"]+', \" \", line)\n",
        "    line = re.sub(r\"[^a-zA-Z?.!,¿]+\", \" \",line)\n",
        "    line = line.strip()\n",
        "    return line"
      ],
      "execution_count": null,
      "outputs": []
    },
    {
      "cell_type": "code",
      "metadata": {
        "id": "hb51ZW9BKlQz"
      },
      "source": [
        "question1 = [process_pairs(sente) for sente in df['question1']]\n",
        "question2 = [process_pairs(sente) for sente in df['question2']]\n",
        "y = np.array(df['is_duplicate'])"
      ],
      "execution_count": null,
      "outputs": []
    },
    {
      "cell_type": "code",
      "metadata": {
        "colab": {
          "base_uri": "https://localhost:8080/",
          "height": 265
        },
        "id": "tM5UXHXuNmBS",
        "outputId": "ea916d45-729c-4094-d1ea-477ae985a52f"
      },
      "source": [
        "plt.hist([len(s) for s in question1],log=True, bins=100)\n",
        "plt.show()"
      ],
      "execution_count": null,
      "outputs": [
        {
          "output_type": "display_data",
          "data": {
            "image/png": "[encoded data removed]",
            "text/plain": [
              "<Figure size 432x288 with 1 Axes>"
            ]
          },
          "metadata": {
            "needs_background": "light"
          }
        }
      ]
    },
    {
      "cell_type": "code",
      "metadata": {
        "colab": {
          "base_uri": "https://localhost:8080/",
          "height": 265
        },
        "id": "uRVMSRVdNuQi",
        "outputId": "642b00f2-bb7e-4875-b9f1-bebc8cabb244"
      },
      "source": [
        "plt.hist([len(s) for s in question2],log=True, bins=100)\n",
        "plt.show()"
      ],
      "execution_count": null,
      "outputs": [
        {
          "output_type": "display_data",
          "data": {
            "image/png": "[encoded data removed]",
            "text/plain": [
              "<Figure size 432x288 with 1 Axes>"
            ]
          },
          "metadata": {
            "needs_background": "light"
          }
        }
      ]
    },
    {
      "cell_type": "code",
      "metadata": {
        "colab": {
          "base_uri": "https://localhost:8080/"
        },
        "id": "nsvjhn7YNckp",
        "outputId": "77ff1ce2-e59b-4455-9e0e-e0d891c39f19"
      },
      "source": [
        "max_sent_len = max([len(line) for line in np.concatenate((question1,question2))])\n",
        "print('max sentence length: {}'.format(max_sent_len))\n",
        "max_sent_len = 200"
      ],
      "execution_count": null,
      "outputs": [
        {
          "output_type": "stream",
          "name": "stdout",
          "text": [
            "max sentence length: 1181\n"
          ]
        }
      ]
    },
    {
      "cell_type": "code",
      "metadata": {
        "id": "af7acuxvM1cQ"
      },
      "source": [
        "def tokenize(question1, question2):\n",
        "    combined = question1+question2\n",
        "    lang_tokenizer = tf.keras.preprocessing.text.Tokenizer(filters='')\n",
        "    lang_tokenizer.fit_on_texts(combined)\n",
        "    print(len(lang_tokenizer.word_index))\n",
        "\n",
        "    question1_tensor = lang_tokenizer.texts_to_sequences(question1)\n",
        "    question1_padded = tf.keras.preprocessing.sequence.pad_sequences(question1_tensor, padding='post', maxlen = max_sent_len)\n",
        "\n",
        "    question2_tensor = lang_tokenizer.texts_to_sequences(question2)\n",
        "    question2_padded = tf.keras.preprocessing.sequence.pad_sequences(question2_tensor, padding='post', maxlen = max_sent_len)\n",
        "    return question1_padded, question2_padded, lang_tokenizer"
      ],
      "execution_count": null,
      "outputs": []
    },
    {
      "cell_type": "code",
      "metadata": {
        "colab": {
          "base_uri": "https://localhost:8080/"
        },
        "id": "BPLtfDzQNBaK",
        "outputId": "52f8b204-1db3-4232-935b-977b751b4a1a"
      },
      "source": [
        "question1_padded, question2_padded, lang_tokenizer = tokenize(question1, question2)"
      ],
      "execution_count": null,
      "outputs": [
        {
          "output_type": "stream",
          "name": "stdout",
          "text": [
            "79556\n"
          ]
        }
      ]
    },
    {
      "cell_type": "code",
      "metadata": {
        "colab": {
          "base_uri": "https://localhost:8080/"
        },
        "id": "nBRY_qtLVDTp",
        "outputId": "bbae01e0-7de5-4a68-c738-12ef76d413a8"
      },
      "source": [
        "max_length_targ, max_length_inp = question1_padded.shape[1], question2_padded.shape[1]\n",
        "max_length_targ, max_length_inp"
      ],
      "execution_count": null,
      "outputs": [
        {
          "output_type": "execute_result",
          "data": {
            "text/plain": [
              "(200, 200)"
            ]
          },
          "metadata": {},
          "execution_count": 73
        }
      ]
    },
    {
      "cell_type": "code",
      "metadata": {
        "id": "ae0YSEiYTl0t"
      },
      "source": [
        "vocab_size = len(lang_tokenizer.word_index)+1"
      ],
      "execution_count": null,
      "outputs": []
    },
    {
      "cell_type": "code",
      "metadata": {
        "colab": {
          "base_uri": "https://localhost:8080/"
        },
        "id": "GUwfD66HVwA3",
        "outputId": "db757e4f-b7ac-47fa-b4a5-9156146f6930"
      },
      "source": [
        "train_x1, test_x1, train_x2, test_x2, train_y, test_y = train_test_split(question1_padded, question2_padded, y, test_size=0.8)\n",
        "train_x1.shape, test_x1.shape, train_x2.shape, test_x2.shape, train_y.shape, test_y.shape"
      ],
      "execution_count": null,
      "outputs": [
        {
          "output_type": "execute_result",
          "data": {
            "text/plain": [
              "((80858, 200), (323432, 200), (80858, 200), (323432, 200), (80858,), (323432,))"
            ]
          },
          "metadata": {},
          "execution_count": 75
        }
      ]
    },
    {
      "cell_type": "code",
      "metadata": {
        "colab": {
          "base_uri": "https://localhost:8080/",
          "height": 374
        },
        "id": "nVgQzgyYxrJs",
        "outputId": "8425f57b-9bed-4b90-bee1-5fe125d956ac"
      },
      "source": [
        "import collections\n",
        "y_trainx =np.reshape(train_y, (train_y.shape[0]))\n",
        "np.unique(y_trainx)\n",
        "elements_count = collections.Counter(y_trainx.tolist())\n",
        "plt.figure(figsize =(15, 6))\n",
        "plt.bar(elements_count.keys(),elements_count.values(), color = 'b', width = 0.7, alpha =0.4)\n",
        "plt.show()"
      ],
      "execution_count": null,
      "outputs": [
        {
          "output_type": "display_data",
          "data": {
            "image/png": "[encoded data removed]",
            "text/plain": [
              "<Figure size 1080x432 with 1 Axes>"
            ]
          },
          "metadata": {
            "needs_background": "light"
          }
        }
      ]
    },
    {
      "cell_type": "code",
      "metadata": {
        "id": "w9eIRnCJePp7"
      },
      "source": [
        "BUFFER_SIZE = train_x1.shape[0]\n",
        "BATCH_SIZE = 128\n",
        "dataset = tf.data.Dataset.from_tensor_slices((train_x1, train_x2, train_y)).shuffle(BUFFER_SIZE)\n",
        "dataset = dataset.batch(BATCH_SIZE, drop_remainder=False)\n",
        "\n",
        "BUFFER_SIZE_TEST = test_x1.shape[0]\n",
        "dataset_test = tf.data.Dataset.from_tensor_slices((test_x1, test_x2, test_y)).shuffle(BUFFER_SIZE_TEST)\n",
        "dataset_test = dataset_test.batch(BATCH_SIZE, drop_remainder=False)"
      ],
      "execution_count": null,
      "outputs": []
    },
    {
      "cell_type": "code",
      "metadata": {
        "id": "WoKTDUzIW7rI"
      },
      "source": [
        "class SelfAttention(tf.keras.layers.Layer):\n",
        "    def __init__(self, embed_size, heads):\n",
        "        super(SelfAttention, self).__init__()\n",
        "        self.embed_size = embed_size\n",
        "        self.heads = heads\n",
        "        self.head_dim = embed_size // heads\n",
        "\n",
        "        assert (\n",
        "            self.head_dim * heads == embed_size\n",
        "        ), \"Embedding size needs to be divisible by heads\"\n",
        "\n",
        "        self.wq = tf.keras.layers.Dense(self.head_dim)\n",
        "        self.wk = tf.keras.layers.Dense(self.head_dim)\n",
        "        self.wv = tf.keras.layers.Dense(self.head_dim)\n",
        "        self.dense = tf.keras.layers.Dense(self.embed_size)\n",
        "\n",
        "\n",
        "    def call(self, v, k, q, mask):\n",
        "        # Get number of training examples\n",
        "        batch_size = q.shape[0]\n",
        "\n",
        "        seq_len_v, seq_len_k, seq_len_q = v.shape[1], k.shape[1], q.shape[1]\n",
        "\n",
        "\n",
        "        # Split the embedding into self.heads different pieces\n",
        "        v = tf.reshape(v,(batch_size,seq_len_v, self.heads, self.head_dim))\n",
        "        k = tf.reshape(k,(batch_size,seq_len_k, self.heads, self.head_dim))\n",
        "        q = tf.reshape(q,(batch_size,seq_len_q, self.heads, self.head_dim))\n",
        "\n",
        "\n",
        "        values = self.wv(v)  # (batch_size, value_len, heads, head_dim)\n",
        "        keys = self.wk(k)  # (batch_size, key_len, heads, head_dim)\n",
        "        queries = self.wq(q)  # (batch_size, query_len, heads, heads_dim)\n",
        "\n",
        "        # Einsum does matrix mult. for query*keys for each training example\n",
        "\n",
        "        attention = tf.einsum(\"nqhd,nkhd->nhqk\", queries, keys)\n",
        "        # queries shape: (batch_size, seq_len_q, heads, heads_dim),\n",
        "        # keys shape: (batch_size, seq_len_k, heads, heads_dim)\n",
        "        # attention: (batch_size, heads, seq_len_q, seq_len_k)\n",
        "\n",
        "         # scale matmul_qk\n",
        "        dk = tf.cast(tf.shape(keys)[1], tf.float32)\n",
        "        scaled_attention_logits = attention / tf.math.sqrt(dk)\n",
        "\n",
        "        # Mask padded indices so their weights become 0\n",
        "\n",
        "        if mask is not None:\n",
        "            scaled_attention_logits += (mask * -1e9)\n",
        "\n",
        "        # Normalize energy values similarly to seq2seq + attention\n",
        "        # so that they sum to 1. Also divide by scaling factor for\n",
        "        # better stability\n",
        "        attention_weights = tf.nn.softmax(scaled_attention_logits, axis=-1)\n",
        "        # attention shape: (batch_size, heads, seq_len_q, seq_len_k)\n",
        "\n",
        "\n",
        "\n",
        "        out = tf.einsum(\"nhql,nlhd->nqhd\", attention_weights, values)\n",
        "        out = tf.reshape(out, (batch_size, seq_len_q, -1))\n",
        "        # attention shape: (batch_size, heads, seq_len_q, key_len)\n",
        "        # values shape: (batch_size, seq_len_v, heads, heads_dim)\n",
        "        # out after matrix multiply: (batch_size, seq_len_q, heads, head_dim), then\n",
        "        # we reshape and flatten the last two dimensions.\n",
        "\n",
        "        out = self.dense(out)\n",
        "        # Linear layer doesn't modify the shape, final shape will be\n",
        "        # (N, query_len, embed_size)\n",
        "\n",
        "        return out, attention_weights\n",
        "\n",
        "class EncoderLayer(tf.keras.layers.Layer):\n",
        "  def __init__(self, embed_size, heads, forward_expansion, rate=0.1):\n",
        "    super(EncoderLayer, self).__init__()\n",
        "\n",
        "    self.self_attens= SelfAttention(embed_size, heads)\n",
        "    self.ffn = tf.keras.Sequential([\n",
        "      tf.keras.layers.Dense(forward_expansion, activation='relu'),  # (batch_size, seq_len, forward_expansion)\n",
        "      tf.keras.layers.Dense(embed_size)  # (batch_size, seq_len, d_model)\n",
        "       ])\n",
        "\n",
        "    self.layernorm1 = tf.keras.layers.LayerNormalization(epsilon=1e-6)\n",
        "    self.layernorm2 = tf.keras.layers.LayerNormalization(epsilon=1e-6)\n",
        "\n",
        "    self.dropout1 = tf.keras.layers.Dropout(rate)\n",
        "    self.dropout2 = tf.keras.layers.Dropout(rate)\n",
        "\n",
        "  def call(self, x, training, mask):\n",
        "\n",
        "    attn_output, _ = self.self_attens(x, x, x, mask)  # (batch_size, input_seq_len, d_model)\n",
        "    attn_output = self.dropout1(attn_output, training=training)\n",
        "    out1 = self.layernorm1(x + attn_output)  # (batch_size, input_seq_len, d_model)\n",
        "\n",
        "    ffn_output = self.ffn(out1)  # (batch_size, input_seq_len, d_model)\n",
        "    ffn_output = self.dropout2(ffn_output, training=training)\n",
        "    out2 = self.layernorm2(out1 + ffn_output)  # (batch_size, input_seq_len, d_model)\n",
        "\n",
        "    return out2\n",
        "\n",
        "class Encoder(tf.keras.layers.Layer):\n",
        "    def __init__(self, num_layers, embed_size,  heads, forward_expansion, input_vocab_size, max_length, rate=0.1):\n",
        "        super(Encoder, self).__init__()\n",
        "        self.embed_size = embed_size\n",
        "        self.num_layers = num_layers\n",
        "        self.max_length = max_length\n",
        "        self.embedding = tf.keras.layers.Embedding(input_vocab_size, embed_size)\n",
        "\n",
        "        self.Layerss =[EncoderLayer(embed_size, heads, forward_expansion, rate)\n",
        "                       for _ in range(self.num_layers)]\n",
        "                      \n",
        "\n",
        "        self.dropout = tf.keras.layers.Dropout(rate)\n",
        "\n",
        "    def positional_encoding(self):\n",
        "\n",
        "        pos = np.arange(self.max_length)[:, np.newaxis]\n",
        "        i = np.arange(self.embed_size)[np.newaxis, :]\n",
        "        angle_rates = 1 / np.power(10000, (2 * (i//2)) / np.float32(self.embed_size))\n",
        "\n",
        "        angle_rads = pos * angle_rates\n",
        "\n",
        "        # apply sin to even indices in the array; 2i\n",
        "        angle_rads[:, 0::2] = np.sin(angle_rads[:, 0::2])\n",
        "\n",
        "        # apply cos to odd indices in the array; 2i+1\n",
        "        angle_rads[:, 1::2] = np.cos(angle_rads[:, 1::2])\n",
        "\n",
        "        pos_encoding = angle_rads[np.newaxis, ...]\n",
        "\n",
        "        return tf.cast(pos_encoding, dtype=tf.float32)\n",
        "\n",
        "    def call(self, x, training, mask):\n",
        "\n",
        "        seq_len = tf.shape(x)[1]\n",
        "                                                         \n",
        "        x = self.embedding(x)  # (batch_size, input_seq_len, d_model)\n",
        "        x *= tf.math.sqrt(tf.cast(self.embed_size, tf.float32))\n",
        "        x += self.positional_encoding()[:, :seq_len, :]\n",
        "\n",
        "\n",
        "        x = self.dropout(x, training=training)\n",
        "        for i in range(self.num_layers):\n",
        "           x = self.Layerss[i](x, training, mask)\n",
        "\n",
        "        return x  # (batch_size, input_seq_len, d_model)"
      ],
      "execution_count": null,
      "outputs": []
    },
    {
      "cell_type": "code",
      "metadata": {
        "id": "r_4uesgaXX2f"
      },
      "source": [
        "def create_padding_mask(seq):\n",
        "  seq = tf.cast(tf.math.equal(seq, 0), tf.float32)\n",
        "\n",
        "  return seq[:, tf.newaxis, tf.newaxis, :]  # (batch_size, 1, 1, seq_len)"
      ],
      "execution_count": null,
      "outputs": []
    },
    {
      "cell_type": "code",
      "metadata": {
        "id": "zGScZYRzXaGY"
      },
      "source": [
        "class Similarity(tf.keras.Model):\n",
        "    def __init__(self, num_layers, embed_size, heads, forward_expansion, input_vocab_size, max_length, rate):\n",
        "        super(Similarity, self).__init__()\n",
        "        self.encoder = Encoder(num_layers, embed_size, heads, forward_expansion,input_vocab_size, max_length, rate)\n",
        "        self.last_layer = tf.keras.Sequential([\n",
        "#          tf.keras.layers.Dense(512, activation='relu'),  # (batch_size, seq_len, forward_expansion)\n",
        "          tf.keras.layers.Dense(256, activation='relu'),  # (batch_size, seq_len, d_model)\n",
        "          tf.keras.layers.Dense(64, activation='relu'),\n",
        "          tf.keras.layers.Dense(2)\n",
        "          ])\n",
        "    def create_masks(self, inp):\n",
        "      # Encoder padding mask\n",
        "        return create_padding_mask(inp)\n",
        "\n",
        "    def call(self, x, training):\n",
        "        x1, x2 = x\n",
        "        mask1 = self.create_masks(x1)\n",
        "        mask2 = self.create_masks(x2)\n",
        "        out_layer1 = self.encoder(x1, training, mask1)\n",
        "        out_layer2 = self.encoder(x2, training, mask2)\n",
        "        out_layer1 = tf.keras.layers.Flatten()(out_layer1)\n",
        "        out_layer2 = tf.keras.layers.Flatten()(out_layer2)\n",
        "        prev = tf.concat([out_layer1, out_layer2], axis=1)\n",
        "        output = self.last_layer(prev)\n",
        "\n",
        "        return output"
      ],
      "execution_count": null,
      "outputs": []
    },
    {
      "cell_type": "code",
      "metadata": {
        "id": "s2omlFZgdJw5"
      },
      "source": [
        "num_layers = 4\n",
        "embed_size = 64\n",
        "heads = 4\n",
        "forward_expansion  = embed_size*2\n",
        "input_vocab_size = vocab_size\n",
        "max_length = 10000 \n",
        "rate = 0.1"
      ],
      "execution_count": null,
      "outputs": []
    },
    {
      "cell_type": "code",
      "metadata": {
        "id": "_s3D_u2vdLtL"
      },
      "source": [
        "model=Similarity(num_layers, embed_size, heads, forward_expansion, input_vocab_size, max_length, rate)"
      ],
      "execution_count": null,
      "outputs": []
    },
    {
      "cell_type": "code",
      "metadata": {
        "colab": {
          "base_uri": "https://localhost:8080/"
        },
        "id": "vN6GAwwDdiG8",
        "outputId": "ac655051-6d46-43c6-b885-367604f90e45"
      },
      "source": [
        "for train_x1, train_x2, _ in dataset:\n",
        "    outputx = model((train_x1, train_x2), training=False)\n",
        "    print(outputx.shape)\n",
        "    break"
      ],
      "execution_count": null,
      "outputs": [
        {
          "output_type": "stream",
          "name": "stdout",
          "text": [
            "(128, 2)\n"
          ]
        }
      ]
    },
    {
      "cell_type": "code",
      "metadata": {
        "id": "cMcxBIPEebK8"
      },
      "source": [
        "loss_object = tf.keras.losses.SparseCategoricalCrossentropy(from_logits=True)\n",
        "optimizer = tf.keras.optimizers.Adam(learning_rate=0.00001)\n",
        "train_accuracy = tf.keras.metrics.SparseCategoricalAccuracy(name='train_accuracy')\n",
        "test_accuracy = tf.keras.metrics.SparseCategoricalAccuracy(name='test_accuracy')"
      ],
      "execution_count": null,
      "outputs": []
    },
    {
      "cell_type": "code",
      "metadata": {
        "id": "G2pfZlHShJed"
      },
      "source": [
        "@tf.function\n",
        "def train_step(inp1, inp2, tar):\n",
        "  with tf.GradientTape() as tape:\n",
        "    logits = model((inp1,inp2), True)\n",
        "    loss = loss_object(tar, logits)\n",
        "  gradients = tape.gradient(loss, model.trainable_variables)\n",
        "  optimizer.apply_gradients(zip(gradients, model.trainable_variables))\n",
        "  train_accuracy.update_state(tar, logits)\n",
        "  return loss"
      ],
      "execution_count": null,
      "outputs": []
    },
    {
      "cell_type": "code",
      "metadata": {
        "colab": {
          "base_uri": "https://localhost:8080/"
        },
        "id": "Fn9oRkoHhiyq",
        "outputId": "1fd15d4d-85f2-4dec-bc6a-02c48cd0e5a0"
      },
      "source": [
        "import time\n",
        "EPOCHS = 100\n",
        "history = {\n",
        "  \"epoch\": [],\n",
        "  \"loss\": [],\n",
        "  \"Accuracy\" :[]\n",
        "}\n",
        "for epoch in range(EPOCHS):\n",
        "  start = time.time()\n",
        "  total_loss = 0\n",
        "  # TRAIN LOOP\n",
        "  for (batch, (inp1, inp2, tar)) in enumerate(dataset):\n",
        "      batch_loss = train_step(inp1, inp2,tar)\n",
        "      total_loss = total_loss + batch_loss\n",
        "\n",
        "  if (epoch+1) % 1 == 0: \n",
        "        history['epoch'].append(epoch)\n",
        "        history['loss'].append(total_loss/(batch+1))\n",
        "        history['Accuracy'].append(train_accuracy.result())\n",
        "        print(f'Epoch {epoch+1}, Loss: {total_loss/(batch+1):.4f}, Accuracy: {train_accuracy.result():.4f}') \n",
        "        print(f'Time taken for 1 epoch: {time.time() - start:.2f} secs\\n')\n",
        "  train_accuracy.reset_states()"
      ],
      "execution_count": null,
      "outputs": [
        {
          "output_type": "stream",
          "name": "stdout",
          "text": [
            "Epoch 1, Loss: 0.6382, Accuracy: 0.6292\n",
            "Time taken for 1 epoch: 81.53 secs\n",
            "\n",
            "Epoch 2, Loss: 0.6163, Accuracy: 0.6458\n",
            "Time taken for 1 epoch: 74.45 secs\n",
            "\n",
            "Epoch 3, Loss: 0.5982, Accuracy: 0.6707\n",
            "Time taken for 1 epoch: 74.45 secs\n",
            "\n",
            "Epoch 4, Loss: 0.5793, Accuracy: 0.6881\n",
            "Time taken for 1 epoch: 74.45 secs\n",
            "\n",
            "Epoch 5, Loss: 0.5657, Accuracy: 0.7000\n",
            "Time taken for 1 epoch: 74.43 secs\n",
            "\n",
            "Epoch 6, Loss: 0.5534, Accuracy: 0.7105\n",
            "Time taken for 1 epoch: 74.43 secs\n",
            "\n",
            "Epoch 7, Loss: 0.5442, Accuracy: 0.7191\n",
            "Time taken for 1 epoch: 74.43 secs\n",
            "\n",
            "Epoch 8, Loss: 0.5385, Accuracy: 0.7231\n",
            "Time taken for 1 epoch: 74.44 secs\n",
            "\n",
            "Epoch 9, Loss: 0.5309, Accuracy: 0.7286\n",
            "Time taken for 1 epoch: 74.44 secs\n",
            "\n",
            "Epoch 10, Loss: 0.5256, Accuracy: 0.7339\n",
            "Time taken for 1 epoch: 74.45 secs\n",
            "\n",
            "Epoch 11, Loss: 0.5179, Accuracy: 0.7384\n",
            "Time taken for 1 epoch: 74.44 secs\n",
            "\n",
            "Epoch 12, Loss: 0.5134, Accuracy: 0.7417\n",
            "Time taken for 1 epoch: 74.46 secs\n",
            "\n",
            "Epoch 13, Loss: 0.5060, Accuracy: 0.7465\n",
            "Time taken for 1 epoch: 74.45 secs\n",
            "\n",
            "Epoch 14, Loss: 0.5020, Accuracy: 0.7511\n",
            "Time taken for 1 epoch: 74.45 secs\n",
            "\n",
            "Epoch 15, Loss: 0.4972, Accuracy: 0.7523\n",
            "Time taken for 1 epoch: 74.46 secs\n",
            "\n",
            "Epoch 16, Loss: 0.4933, Accuracy: 0.7556\n",
            "Time taken for 1 epoch: 74.46 secs\n",
            "\n",
            "Epoch 17, Loss: 0.4894, Accuracy: 0.7587\n",
            "Time taken for 1 epoch: 74.47 secs\n",
            "\n",
            "Epoch 18, Loss: 0.4860, Accuracy: 0.7609\n",
            "Time taken for 1 epoch: 74.43 secs\n",
            "\n",
            "Epoch 19, Loss: 0.4803, Accuracy: 0.7636\n",
            "Time taken for 1 epoch: 74.43 secs\n",
            "\n",
            "Epoch 20, Loss: 0.4767, Accuracy: 0.7659\n",
            "Time taken for 1 epoch: 74.44 secs\n",
            "\n",
            "Epoch 21, Loss: 0.4726, Accuracy: 0.7696\n",
            "Time taken for 1 epoch: 74.45 secs\n",
            "\n",
            "Epoch 22, Loss: 0.4682, Accuracy: 0.7715\n",
            "Time taken for 1 epoch: 74.42 secs\n",
            "\n",
            "Epoch 23, Loss: 0.4660, Accuracy: 0.7722\n",
            "Time taken for 1 epoch: 74.45 secs\n",
            "\n",
            "Epoch 24, Loss: 0.4619, Accuracy: 0.7769\n",
            "Time taken for 1 epoch: 74.45 secs\n",
            "\n",
            "Epoch 25, Loss: 0.4572, Accuracy: 0.7769\n",
            "Time taken for 1 epoch: 74.46 secs\n",
            "\n",
            "Epoch 26, Loss: 0.4535, Accuracy: 0.7799\n",
            "Time taken for 1 epoch: 74.42 secs\n",
            "\n",
            "Epoch 27, Loss: 0.4521, Accuracy: 0.7821\n",
            "Time taken for 1 epoch: 74.45 secs\n",
            "\n",
            "Epoch 28, Loss: 0.4472, Accuracy: 0.7840\n",
            "Time taken for 1 epoch: 74.44 secs\n",
            "\n",
            "Epoch 29, Loss: 0.4453, Accuracy: 0.7865\n",
            "Time taken for 1 epoch: 74.45 secs\n",
            "\n",
            "Epoch 30, Loss: 0.4416, Accuracy: 0.7879\n",
            "Time taken for 1 epoch: 74.42 secs\n",
            "\n",
            "Epoch 31, Loss: 0.4380, Accuracy: 0.7894\n",
            "Time taken for 1 epoch: 74.44 secs\n",
            "\n",
            "Epoch 32, Loss: 0.4349, Accuracy: 0.7919\n",
            "Time taken for 1 epoch: 74.42 secs\n",
            "\n",
            "Epoch 33, Loss: 0.4317, Accuracy: 0.7920\n",
            "Time taken for 1 epoch: 74.42 secs\n",
            "\n",
            "Epoch 34, Loss: 0.4281, Accuracy: 0.7948\n",
            "Time taken for 1 epoch: 74.43 secs\n",
            "\n",
            "Epoch 35, Loss: 0.4246, Accuracy: 0.7976\n",
            "Time taken for 1 epoch: 74.44 secs\n",
            "\n",
            "Epoch 36, Loss: 0.4228, Accuracy: 0.7990\n",
            "Time taken for 1 epoch: 74.44 secs\n",
            "\n",
            "Epoch 37, Loss: 0.4195, Accuracy: 0.7993\n",
            "Time taken for 1 epoch: 74.46 secs\n",
            "\n",
            "Epoch 38, Loss: 0.4158, Accuracy: 0.8026\n",
            "Time taken for 1 epoch: 74.43 secs\n",
            "\n",
            "Epoch 39, Loss: 0.4132, Accuracy: 0.8041\n",
            "Time taken for 1 epoch: 74.44 secs\n",
            "\n",
            "Epoch 40, Loss: 0.4106, Accuracy: 0.8037\n",
            "Time taken for 1 epoch: 74.41 secs\n",
            "\n",
            "Epoch 41, Loss: 0.4086, Accuracy: 0.8050\n",
            "Time taken for 1 epoch: 74.43 secs\n",
            "\n",
            "Epoch 42, Loss: 0.4069, Accuracy: 0.8074\n",
            "Time taken for 1 epoch: 74.43 secs\n",
            "\n",
            "Epoch 43, Loss: 0.4016, Accuracy: 0.8105\n",
            "Time taken for 1 epoch: 74.43 secs\n",
            "\n",
            "Epoch 44, Loss: 0.4001, Accuracy: 0.8104\n",
            "Time taken for 1 epoch: 74.43 secs\n",
            "\n",
            "Epoch 45, Loss: 0.3964, Accuracy: 0.8119\n",
            "Time taken for 1 epoch: 74.44 secs\n",
            "\n",
            "Epoch 46, Loss: 0.3952, Accuracy: 0.8130\n",
            "Time taken for 1 epoch: 74.44 secs\n",
            "\n",
            "Epoch 47, Loss: 0.3925, Accuracy: 0.8143\n",
            "Time taken for 1 epoch: 74.43 secs\n",
            "\n",
            "Epoch 48, Loss: 0.3901, Accuracy: 0.8149\n",
            "Time taken for 1 epoch: 74.44 secs\n",
            "\n",
            "Epoch 49, Loss: 0.3866, Accuracy: 0.8168\n",
            "Time taken for 1 epoch: 74.44 secs\n",
            "\n",
            "Epoch 50, Loss: 0.3874, Accuracy: 0.8167\n",
            "Time taken for 1 epoch: 74.44 secs\n",
            "\n",
            "Epoch 51, Loss: 0.3825, Accuracy: 0.8202\n",
            "Time taken for 1 epoch: 74.44 secs\n",
            "\n",
            "Epoch 52, Loss: 0.3804, Accuracy: 0.8209\n",
            "Time taken for 1 epoch: 74.42 secs\n",
            "\n",
            "Epoch 53, Loss: 0.3774, Accuracy: 0.8224\n",
            "Time taken for 1 epoch: 74.40 secs\n",
            "\n",
            "Epoch 54, Loss: 0.3762, Accuracy: 0.8225\n",
            "Time taken for 1 epoch: 74.44 secs\n",
            "\n",
            "Epoch 55, Loss: 0.3732, Accuracy: 0.8242\n",
            "Time taken for 1 epoch: 74.46 secs\n",
            "\n",
            "Epoch 56, Loss: 0.3698, Accuracy: 0.8258\n",
            "Time taken for 1 epoch: 74.44 secs\n",
            "\n",
            "Epoch 57, Loss: 0.3682, Accuracy: 0.8271\n",
            "Time taken for 1 epoch: 74.44 secs\n",
            "\n",
            "Epoch 58, Loss: 0.3675, Accuracy: 0.8278\n",
            "Time taken for 1 epoch: 74.45 secs\n",
            "\n",
            "Epoch 59, Loss: 0.3640, Accuracy: 0.8286\n",
            "Time taken for 1 epoch: 74.43 secs\n",
            "\n",
            "Epoch 60, Loss: 0.3618, Accuracy: 0.8288\n",
            "Time taken for 1 epoch: 74.42 secs\n",
            "\n",
            "Epoch 61, Loss: 0.3622, Accuracy: 0.8290\n",
            "Time taken for 1 epoch: 74.45 secs\n",
            "\n",
            "Epoch 62, Loss: 0.3554, Accuracy: 0.8340\n",
            "Time taken for 1 epoch: 74.45 secs\n",
            "\n",
            "Epoch 63, Loss: 0.3550, Accuracy: 0.8331\n",
            "Time taken for 1 epoch: 74.43 secs\n",
            "\n",
            "Epoch 64, Loss: 0.3523, Accuracy: 0.8343\n",
            "Time taken for 1 epoch: 74.44 secs\n",
            "\n",
            "Epoch 65, Loss: 0.3501, Accuracy: 0.8352\n",
            "Time taken for 1 epoch: 74.43 secs\n",
            "\n",
            "Epoch 66, Loss: 0.3478, Accuracy: 0.8363\n",
            "Time taken for 1 epoch: 74.43 secs\n",
            "\n",
            "Epoch 67, Loss: 0.3462, Accuracy: 0.8380\n",
            "Time taken for 1 epoch: 74.42 secs\n",
            "\n",
            "Epoch 68, Loss: 0.3459, Accuracy: 0.8367\n",
            "Time taken for 1 epoch: 74.44 secs\n",
            "\n",
            "Epoch 69, Loss: 0.3408, Accuracy: 0.8410\n",
            "Time taken for 1 epoch: 74.45 secs\n",
            "\n",
            "Epoch 70, Loss: 0.3392, Accuracy: 0.8421\n",
            "Time taken for 1 epoch: 74.43 secs\n",
            "\n",
            "Epoch 71, Loss: 0.3378, Accuracy: 0.8416\n",
            "Time taken for 1 epoch: 74.41 secs\n",
            "\n",
            "Epoch 72, Loss: 0.3352, Accuracy: 0.8431\n",
            "Time taken for 1 epoch: 74.44 secs\n",
            "\n",
            "Epoch 73, Loss: 0.3336, Accuracy: 0.8444\n",
            "Time taken for 1 epoch: 74.43 secs\n",
            "\n",
            "Epoch 74, Loss: 0.3319, Accuracy: 0.8447\n",
            "Time taken for 1 epoch: 74.43 secs\n",
            "\n",
            "Epoch 75, Loss: 0.3291, Accuracy: 0.8470\n",
            "Time taken for 1 epoch: 74.44 secs\n",
            "\n",
            "Epoch 76, Loss: 0.3273, Accuracy: 0.8481\n",
            "Time taken for 1 epoch: 74.44 secs\n",
            "\n",
            "Epoch 77, Loss: 0.3255, Accuracy: 0.8490\n",
            "Time taken for 1 epoch: 74.44 secs\n",
            "\n",
            "Epoch 78, Loss: 0.3237, Accuracy: 0.8512\n",
            "Time taken for 1 epoch: 74.44 secs\n",
            "\n",
            "Epoch 79, Loss: 0.3211, Accuracy: 0.8492\n",
            "Time taken for 1 epoch: 74.46 secs\n",
            "\n",
            "Epoch 80, Loss: 0.3191, Accuracy: 0.8521\n",
            "Time taken for 1 epoch: 74.45 secs\n",
            "\n",
            "Epoch 81, Loss: 0.3178, Accuracy: 0.8527\n",
            "Time taken for 1 epoch: 74.44 secs\n",
            "\n",
            "Epoch 82, Loss: 0.3171, Accuracy: 0.8527\n",
            "Time taken for 1 epoch: 74.43 secs\n",
            "\n",
            "Epoch 83, Loss: 0.3140, Accuracy: 0.8542\n",
            "Time taken for 1 epoch: 74.44 secs\n",
            "\n",
            "Epoch 84, Loss: 0.3115, Accuracy: 0.8549\n",
            "Time taken for 1 epoch: 74.41 secs\n",
            "\n",
            "Epoch 85, Loss: 0.3123, Accuracy: 0.8550\n",
            "Time taken for 1 epoch: 74.43 secs\n",
            "\n",
            "Epoch 86, Loss: 0.3114, Accuracy: 0.8557\n",
            "Time taken for 1 epoch: 74.42 secs\n",
            "\n",
            "Epoch 87, Loss: 0.3071, Accuracy: 0.8566\n",
            "Time taken for 1 epoch: 74.43 secs\n",
            "\n",
            "Epoch 88, Loss: 0.3056, Accuracy: 0.8584\n",
            "Time taken for 1 epoch: 74.45 secs\n",
            "\n",
            "Epoch 89, Loss: 0.3048, Accuracy: 0.8591\n",
            "Time taken for 1 epoch: 74.44 secs\n",
            "\n",
            "Epoch 90, Loss: 0.3014, Accuracy: 0.8611\n",
            "Time taken for 1 epoch: 74.42 secs\n",
            "\n",
            "Epoch 91, Loss: 0.3013, Accuracy: 0.8605\n",
            "Time taken for 1 epoch: 74.44 secs\n",
            "\n",
            "Epoch 92, Loss: 0.2991, Accuracy: 0.8627\n",
            "Time taken for 1 epoch: 74.44 secs\n",
            "\n",
            "Epoch 93, Loss: 0.2977, Accuracy: 0.8616\n",
            "Time taken for 1 epoch: 74.41 secs\n",
            "\n",
            "Epoch 94, Loss: 0.2951, Accuracy: 0.8640\n",
            "Time taken for 1 epoch: 74.41 secs\n",
            "\n",
            "Epoch 95, Loss: 0.2927, Accuracy: 0.8664\n",
            "Time taken for 1 epoch: 74.43 secs\n",
            "\n",
            "Epoch 96, Loss: 0.2922, Accuracy: 0.8656\n",
            "Time taken for 1 epoch: 74.43 secs\n",
            "\n",
            "Epoch 97, Loss: 0.2893, Accuracy: 0.8667\n",
            "Time taken for 1 epoch: 74.44 secs\n",
            "\n",
            "Epoch 98, Loss: 0.2884, Accuracy: 0.8670\n",
            "Time taken for 1 epoch: 74.44 secs\n",
            "\n",
            "Epoch 99, Loss: 0.2870, Accuracy: 0.8682\n",
            "Time taken for 1 epoch: 74.41 secs\n",
            "\n",
            "Epoch 100, Loss: 0.2843, Accuracy: 0.8695\n",
            "Time taken for 1 epoch: 74.43 secs\n",
            "\n"
          ]
        }
      ]
    },
    {
      "cell_type": "code",
      "metadata": {
        "id": "ASzf7AK6h6II",
        "colab": {
          "base_uri": "https://localhost:8080/",
          "height": 336
        },
        "outputId": "6de580a0-c2a6-4a69-c01a-870c994e8fb4"
      },
      "source": [
        "plt.figure(figsize=(8,5))\n",
        "plt.plot(history[\"epoch\"],history[\"loss\"], label='loss')\n",
        "plt.title('Training loss')\n",
        "plt.legend(loc='best')\n",
        "plt.show()"
      ],
      "execution_count": null,
      "outputs": [
        {
          "output_type": "display_data",
          "data": {
            "image/png": "[encoded data removed]",
            "text/plain": [
              "<Figure size 576x360 with 1 Axes>"
            ]
          },
          "metadata": {
            "needs_background": "light"
          }
        }
      ]
    },
    {
      "cell_type": "code",
      "metadata": {
        "id": "QCWjUOs51u_b",
        "colab": {
          "base_uri": "https://localhost:8080/",
          "height": 336
        },
        "outputId": "c0719f13-e96a-4395-a0b7-8629952a5eb5"
      },
      "source": [
        "plt.figure(figsize=(8,5))\n",
        "plt.plot(history[\"epoch\"],history[\"Accuracy\"], label='Accuracy')\n",
        "plt.title('Training Accuracy')\n",
        "plt.legend(loc='best')\n",
        "plt.show()"
      ],
      "execution_count": null,
      "outputs": [
        {
          "output_type": "display_data",
          "data": {
            "image/png": "[encoded data removed]",
            "text/plain": [
              "<Figure size 576x360 with 1 Axes>"
            ]
          },
          "metadata": {
            "needs_background": "light"
          }
        }
      ]
    },
    {
      "cell_type": "code",
      "metadata": {
        "id": "LwWhGa0X1yKZ"
      },
      "source": [
        "def evaluate(inp1,inp2):\n",
        "    logits = model((inp1,inp2), False)\n",
        "    predicted_id = tf.argmax(logits, axis=-1)\n",
        "    return logits, predicted_id"
      ],
      "execution_count": null,
      "outputs": []
    },
    {
      "cell_type": "code",
      "metadata": {
        "id": "eHIRCfrP12IY",
        "colab": {
          "base_uri": "https://localhost:8080/"
        },
        "outputId": "9b009b49-193b-40cc-8cda-2a2cdb3fe53b"
      },
      "source": [
        "start = time.time()\n",
        "for (batch, (inp1,inp2, tar)) in enumerate(dataset_test):\n",
        "    logits,_ = evaluate(inp1,inp2)\n",
        "    test_accuracy.update_state(tar, logits)\n",
        "print('Accuracy of model on Test : ', test_accuracy.result().numpy())\n",
        "print(f'Time taken for 1 epoch: {time.time() - start:.2f} secs\\n')"
      ],
      "execution_count": null,
      "outputs": [
        {
          "output_type": "stream",
          "name": "stdout",
          "text": [
            "Accuracy of model on Test :  0.7436184\n",
            "Time taken for 1 epoch: 283.53 secs\n",
            "\n"
          ]
        }
      ]
    }
  ]
}