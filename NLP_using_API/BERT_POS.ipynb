{
 "cells": [
  {
   "cell_type": "code",
   "execution_count": null,
   "metadata": {
    "colab": {
     "base_uri": "https://localhost:8080/"
    },
    "id": "coC2k1xc3HWf",
    "outputId": "92f4e676-1dd0-44ab-8aa1-79782a2892e9"
   },
   "outputs": [
    {
     "name": "stdout",
     "output_type": "stream",
     "text": [
      "Requirement already satisfied: transformers in /usr/local/lib/python3.7/dist-packages (4.12.5)\n",
      "Requirement already satisfied: pyyaml>=5.1 in /usr/local/lib/python3.7/dist-packages (from transformers) (6.0)\n",
      "Requirement already satisfied: tokenizers<0.11,>=0.10.1 in /usr/local/lib/python3.7/dist-packages (from transformers) (0.10.3)\n",
      "Requirement already satisfied: packaging>=20.0 in /usr/local/lib/python3.7/dist-packages (from transformers) (21.3)\n",
      "Requirement already satisfied: requests in /usr/local/lib/python3.7/dist-packages (from transformers) (2.23.0)\n",
      "Requirement already satisfied: sacremoses in /usr/local/lib/python3.7/dist-packages (from transformers) (0.0.46)\n",
      "Requirement already satisfied: numpy>=1.17 in /usr/local/lib/python3.7/dist-packages (from transformers) (1.19.5)\n",
      "Requirement already satisfied: tqdm>=4.27 in /usr/local/lib/python3.7/dist-packages (from transformers) (4.62.3)\n",
      "Requirement already satisfied: filelock in /usr/local/lib/python3.7/dist-packages (from transformers) (3.4.0)\n",
      "Requirement already satisfied: regex!=2019.12.17 in /usr/local/lib/python3.7/dist-packages (from transformers) (2019.12.20)\n",
      "Requirement already satisfied: huggingface-hub<1.0,>=0.1.0 in /usr/local/lib/python3.7/dist-packages (from transformers) (0.1.2)\n",
      "Requirement already satisfied: importlib-metadata in /usr/local/lib/python3.7/dist-packages (from transformers) (4.8.2)\n",
      "Requirement already satisfied: typing-extensions>=3.7.4.3 in /usr/local/lib/python3.7/dist-packages (from huggingface-hub<1.0,>=0.1.0->transformers) (3.10.0.2)\n",
      "Requirement already satisfied: pyparsing!=3.0.5,>=2.0.2 in /usr/local/lib/python3.7/dist-packages (from packaging>=20.0->transformers) (3.0.6)\n",
      "Requirement already satisfied: zipp>=0.5 in /usr/local/lib/python3.7/dist-packages (from importlib-metadata->transformers) (3.6.0)\n",
      "Requirement already satisfied: urllib3!=1.25.0,!=1.25.1,<1.26,>=1.21.1 in /usr/local/lib/python3.7/dist-packages (from requests->transformers) (1.24.3)\n",
      "Requirement already satisfied: certifi>=2017.4.17 in /usr/local/lib/python3.7/dist-packages (from requests->transformers) (2021.10.8)\n",
      "Requirement already satisfied: idna<3,>=2.5 in /usr/local/lib/python3.7/dist-packages (from requests->transformers) (2.10)\n",
      "Requirement already satisfied: chardet<4,>=3.0.2 in /usr/local/lib/python3.7/dist-packages (from requests->transformers) (3.0.4)\n",
      "Requirement already satisfied: six in /usr/local/lib/python3.7/dist-packages (from sacremoses->transformers) (1.15.0)\n",
      "Requirement already satisfied: click in /usr/local/lib/python3.7/dist-packages (from sacremoses->transformers) (7.1.2)\n",
      "Requirement already satisfied: joblib in /usr/local/lib/python3.7/dist-packages (from sacremoses->transformers) (1.1.0)\n"
     ]
    }
   ],
   "source": [
    "!pip install transformers"
   ]
  },
  {
   "cell_type": "code",
   "execution_count": null,
   "metadata": {
    "id": "oLK7Y1jiNXDa"
   },
   "outputs": [],
   "source": [
    "import tensorflow as tf\n",
    "import matplotlib.pyplot as plt\n",
    "import pandas as pd\n",
    "import numpy as np"
   ]
  },
  {
   "cell_type": "code",
   "execution_count": null,
   "metadata": {
    "colab": {
     "base_uri": "https://localhost:8080/"
    },
    "id": "nBWYr-hwJQ4i",
    "outputId": "b6039eac-507c-4021-dedf-b3d9994f6a70"
   },
   "outputs": [
    {
     "name": "stdout",
     "output_type": "stream",
     "text": [
      "Drive already mounted at /content/drive; to attempt to forcibly remount, call drive.mount(\"/content/drive\", force_remount=True).\n"
     ]
    }
   ],
   "source": [
    "from google.colab import drive\n",
    "drive.mount(\"/content/drive\")"
   ]
  },
  {
   "cell_type": "code",
   "execution_count": null,
   "metadata": {
    "id": "wE1AUu7ZJhRm"
   },
   "outputs": [],
   "source": [
    "path_data = '/ner_dataset.csv'\n",
    "path = '/Bert_Base_Cased'"
   ]
  },
  {
   "cell_type": "markdown",
   "metadata": {
    "id": "dvSTWFm7Ukji"
   },
   "source": [
    "# Load Data"
   ]
  },
  {
   "cell_type": "code",
   "execution_count": null,
   "metadata": {
    "colab": {
     "base_uri": "https://localhost:8080/",
     "height": 677
    },
    "id": "mCKmz4SAbI_m",
    "outputId": "4fbbdace-3323-4638-d7af-a8d688655c6a"
   },
   "outputs": [
    {
     "data": {
      "text/html": [
       "<div>\n",
       "<style scoped>\n",
       "    .dataframe tbody tr th:only-of-type {\n",
       "        vertical-align: middle;\n",
       "    }\n",
       "\n",
       "    .dataframe tbody tr th {\n",
       "        vertical-align: top;\n",
       "    }\n",
       "\n",
       "    .dataframe thead th {\n",
       "        text-align: right;\n",
       "    }\n",
       "</style>\n",
       "<table border=\"1\" class=\"dataframe\">\n",
       "  <thead>\n",
       "    <tr style=\"text-align: right;\">\n",
       "      <th></th>\n",
       "      <th>Sentence #</th>\n",
       "      <th>Word</th>\n",
       "      <th>POS</th>\n",
       "      <th>Tag</th>\n",
       "    </tr>\n",
       "  </thead>\n",
       "  <tbody>\n",
       "    <tr>\n",
       "      <th>0</th>\n",
       "      <td>Sentence: 1</td>\n",
       "      <td>Thousands</td>\n",
       "      <td>NNS</td>\n",
       "      <td>O</td>\n",
       "    </tr>\n",
       "    <tr>\n",
       "      <th>1</th>\n",
       "      <td>Sentence: 1</td>\n",
       "      <td>of</td>\n",
       "      <td>IN</td>\n",
       "      <td>O</td>\n",
       "    </tr>\n",
       "    <tr>\n",
       "      <th>2</th>\n",
       "      <td>Sentence: 1</td>\n",
       "      <td>demonstrators</td>\n",
       "      <td>NNS</td>\n",
       "      <td>O</td>\n",
       "    </tr>\n",
       "    <tr>\n",
       "      <th>3</th>\n",
       "      <td>Sentence: 1</td>\n",
       "      <td>have</td>\n",
       "      <td>VBP</td>\n",
       "      <td>O</td>\n",
       "    </tr>\n",
       "    <tr>\n",
       "      <th>4</th>\n",
       "      <td>Sentence: 1</td>\n",
       "      <td>marched</td>\n",
       "      <td>VBN</td>\n",
       "      <td>O</td>\n",
       "    </tr>\n",
       "    <tr>\n",
       "      <th>5</th>\n",
       "      <td>Sentence: 1</td>\n",
       "      <td>through</td>\n",
       "      <td>IN</td>\n",
       "      <td>O</td>\n",
       "    </tr>\n",
       "    <tr>\n",
       "      <th>6</th>\n",
       "      <td>Sentence: 1</td>\n",
       "      <td>London</td>\n",
       "      <td>NNP</td>\n",
       "      <td>B-geo</td>\n",
       "    </tr>\n",
       "    <tr>\n",
       "      <th>7</th>\n",
       "      <td>Sentence: 1</td>\n",
       "      <td>to</td>\n",
       "      <td>TO</td>\n",
       "      <td>O</td>\n",
       "    </tr>\n",
       "    <tr>\n",
       "      <th>8</th>\n",
       "      <td>Sentence: 1</td>\n",
       "      <td>protest</td>\n",
       "      <td>VB</td>\n",
       "      <td>O</td>\n",
       "    </tr>\n",
       "    <tr>\n",
       "      <th>9</th>\n",
       "      <td>Sentence: 1</td>\n",
       "      <td>the</td>\n",
       "      <td>DT</td>\n",
       "      <td>O</td>\n",
       "    </tr>\n",
       "    <tr>\n",
       "      <th>10</th>\n",
       "      <td>Sentence: 1</td>\n",
       "      <td>war</td>\n",
       "      <td>NN</td>\n",
       "      <td>O</td>\n",
       "    </tr>\n",
       "    <tr>\n",
       "      <th>11</th>\n",
       "      <td>Sentence: 1</td>\n",
       "      <td>in</td>\n",
       "      <td>IN</td>\n",
       "      <td>O</td>\n",
       "    </tr>\n",
       "    <tr>\n",
       "      <th>12</th>\n",
       "      <td>Sentence: 1</td>\n",
       "      <td>Iraq</td>\n",
       "      <td>NNP</td>\n",
       "      <td>B-geo</td>\n",
       "    </tr>\n",
       "    <tr>\n",
       "      <th>13</th>\n",
       "      <td>Sentence: 1</td>\n",
       "      <td>and</td>\n",
       "      <td>CC</td>\n",
       "      <td>O</td>\n",
       "    </tr>\n",
       "    <tr>\n",
       "      <th>14</th>\n",
       "      <td>Sentence: 1</td>\n",
       "      <td>demand</td>\n",
       "      <td>VB</td>\n",
       "      <td>O</td>\n",
       "    </tr>\n",
       "    <tr>\n",
       "      <th>15</th>\n",
       "      <td>Sentence: 1</td>\n",
       "      <td>the</td>\n",
       "      <td>DT</td>\n",
       "      <td>O</td>\n",
       "    </tr>\n",
       "    <tr>\n",
       "      <th>16</th>\n",
       "      <td>Sentence: 1</td>\n",
       "      <td>withdrawal</td>\n",
       "      <td>NN</td>\n",
       "      <td>O</td>\n",
       "    </tr>\n",
       "    <tr>\n",
       "      <th>17</th>\n",
       "      <td>Sentence: 1</td>\n",
       "      <td>of</td>\n",
       "      <td>IN</td>\n",
       "      <td>O</td>\n",
       "    </tr>\n",
       "    <tr>\n",
       "      <th>18</th>\n",
       "      <td>Sentence: 1</td>\n",
       "      <td>British</td>\n",
       "      <td>JJ</td>\n",
       "      <td>B-gpe</td>\n",
       "    </tr>\n",
       "    <tr>\n",
       "      <th>19</th>\n",
       "      <td>Sentence: 1</td>\n",
       "      <td>troops</td>\n",
       "      <td>NNS</td>\n",
       "      <td>O</td>\n",
       "    </tr>\n",
       "  </tbody>\n",
       "</table>\n",
       "</div>"
      ],
      "text/plain": [
       "     Sentence #           Word  POS    Tag\n",
       "0   Sentence: 1      Thousands  NNS      O\n",
       "1   Sentence: 1             of   IN      O\n",
       "2   Sentence: 1  demonstrators  NNS      O\n",
       "3   Sentence: 1           have  VBP      O\n",
       "4   Sentence: 1        marched  VBN      O\n",
       "5   Sentence: 1        through   IN      O\n",
       "6   Sentence: 1         London  NNP  B-geo\n",
       "7   Sentence: 1             to   TO      O\n",
       "8   Sentence: 1        protest   VB      O\n",
       "9   Sentence: 1            the   DT      O\n",
       "10  Sentence: 1            war   NN      O\n",
       "11  Sentence: 1             in   IN      O\n",
       "12  Sentence: 1           Iraq  NNP  B-geo\n",
       "13  Sentence: 1            and   CC      O\n",
       "14  Sentence: 1         demand   VB      O\n",
       "15  Sentence: 1            the   DT      O\n",
       "16  Sentence: 1     withdrawal   NN      O\n",
       "17  Sentence: 1             of   IN      O\n",
       "18  Sentence: 1        British   JJ  B-gpe\n",
       "19  Sentence: 1         troops  NNS      O"
      ]
     },
     "execution_count": 92,
     "metadata": {},
     "output_type": "execute_result"
    }
   ],
   "source": [
    "data = pd.read_csv(path_data, encoding=\"latin1\")\n",
    "data = data.fillna(method=\"ffill\")\n",
    "data.head(20)"
   ]
  },
  {
   "cell_type": "code",
   "execution_count": null,
   "metadata": {
    "colab": {
     "base_uri": "https://localhost:8080/"
    },
    "id": "riOztP-8NXHT",
    "outputId": "4e9294ae-28c2-4585-829d-7d6746e34f28"
   },
   "outputs": [
    {
     "name": "stdout",
     "output_type": "stream",
     "text": [
      "Unique words in corpus: 35178\n",
      "Unique tags in corpus: 42\n"
     ]
    }
   ],
   "source": [
    "print(\"Unique words in corpus:\", data['Word'].nunique())\n",
    "print(\"Unique tags in corpus:\", data['POS'].nunique())"
   ]
  },
  {
   "cell_type": "code",
   "execution_count": null,
   "metadata": {
    "colab": {
     "base_uri": "https://localhost:8080/"
    },
    "id": "1SRWHM0MJFH_",
    "outputId": "3a6fcc7a-3010-4c6a-b6bb-a7941c6bf451"
   },
   "outputs": [
    {
     "data": {
      "text/plain": [
       "42"
      ]
     },
     "execution_count": 94,
     "metadata": {},
     "output_type": "execute_result"
    }
   ],
   "source": [
    "tags = list(set(data[\"POS\"].values))\n",
    "num_tags = len(tags)\n",
    "num_tags"
   ]
  },
  {
   "cell_type": "markdown",
   "metadata": {
    "id": "M9D9JEzUbdnS"
   },
   "source": [
    "### Task 3: Retrieve Sentences and Corresponsing Tags"
   ]
  },
  {
   "cell_type": "code",
   "execution_count": null,
   "metadata": {
    "id": "VdJst_g5NYY_"
   },
   "outputs": [],
   "source": [
    "class SentenceGetter(object):\n",
    "    def __init__(self, data):\n",
    "        self.n_sent = 1\n",
    "        self.data = data\n",
    "        self.empty = False\n",
    "        agg_func = lambda s: [(w, p, t) for w, p, t in zip(s[\"Word\"].values.tolist(),\n",
    "                                                           s[\"POS\"].values.tolist(),\n",
    "                                                           s[\"Tag\"].values.tolist())]\n",
    "        self.grouped = self.data.groupby(\"Sentence #\").apply(agg_func)\n",
    "        self.sentences = [s for s in self.grouped]\n",
    "    \n",
    "    def get_next(self):\n",
    "        try:\n",
    "            s = self.grouped[\"Sentence: {}\".format(self.n_sent)]\n",
    "            self.n_sent += 1\n",
    "            return s\n",
    "        except:\n",
    "            return None"
   ]
  },
  {
   "cell_type": "code",
   "execution_count": null,
   "metadata": {
    "id": "nMUQLppspkPj"
   },
   "outputs": [],
   "source": [
    "getter = SentenceGetter(data)\n",
    "sentences = getter.sentences"
   ]
  },
  {
   "cell_type": "code",
   "execution_count": null,
   "metadata": {
    "colab": {
     "base_uri": "https://localhost:8080/"
    },
    "id": "GhiSTt2UdzYC",
    "outputId": "892ee1b4-6dc3-4eec-b15e-439383a22723"
   },
   "outputs": [
    {
     "data": {
      "text/plain": [
       "[('Thousands', 'NNS', 'O'),\n",
       " ('of', 'IN', 'O'),\n",
       " ('demonstrators', 'NNS', 'O'),\n",
       " ('have', 'VBP', 'O'),\n",
       " ('marched', 'VBN', 'O'),\n",
       " ('through', 'IN', 'O'),\n",
       " ('London', 'NNP', 'B-geo'),\n",
       " ('to', 'TO', 'O'),\n",
       " ('protest', 'VB', 'O'),\n",
       " ('the', 'DT', 'O'),\n",
       " ('war', 'NN', 'O'),\n",
       " ('in', 'IN', 'O'),\n",
       " ('Iraq', 'NNP', 'B-geo'),\n",
       " ('and', 'CC', 'O'),\n",
       " ('demand', 'VB', 'O'),\n",
       " ('the', 'DT', 'O'),\n",
       " ('withdrawal', 'NN', 'O'),\n",
       " ('of', 'IN', 'O'),\n",
       " ('British', 'JJ', 'B-gpe'),\n",
       " ('troops', 'NNS', 'O'),\n",
       " ('from', 'IN', 'O'),\n",
       " ('that', 'DT', 'O'),\n",
       " ('country', 'NN', 'O'),\n",
       " ('.', '.', 'O')]"
      ]
     },
     "execution_count": 97,
     "metadata": {},
     "output_type": "execute_result"
    }
   ],
   "source": [
    "sentences[0]"
   ]
  },
  {
   "cell_type": "code",
   "execution_count": null,
   "metadata": {
    "id": "SvENHO18pkaQ"
   },
   "outputs": [],
   "source": [
    "tag2idx = {t: i+2 for i, t in enumerate(tags)}\n",
    "tag2idx['[PAD]'] = 0\n",
    "tag2idx['O'] = 1\n",
    "\n",
    "target_vocab = len(tag2idx)"
   ]
  },
  {
   "cell_type": "code",
   "execution_count": null,
   "metadata": {
    "colab": {
     "base_uri": "https://localhost:8080/"
    },
    "id": "KADE5bc2oTHk",
    "outputId": "7c3f9051-5bea-4389-dfe3-b68cac50601c"
   },
   "outputs": [
    {
     "data": {
      "text/plain": [
       "(44,\n",
       " {'$': 12,\n",
       "  ',': 38,\n",
       "  '.': 18,\n",
       "  ':': 17,\n",
       "  ';': 29,\n",
       "  'CC': 16,\n",
       "  'CD': 30,\n",
       "  'DT': 27,\n",
       "  'EX': 5,\n",
       "  'FW': 36,\n",
       "  'IN': 4,\n",
       "  'JJ': 26,\n",
       "  'JJR': 25,\n",
       "  'JJS': 9,\n",
       "  'LRB': 28,\n",
       "  'MD': 22,\n",
       "  'NN': 43,\n",
       "  'NNP': 37,\n",
       "  'NNPS': 10,\n",
       "  'NNS': 20,\n",
       "  'O': 1,\n",
       "  'PDT': 33,\n",
       "  'POS': 42,\n",
       "  'PRP': 40,\n",
       "  'PRP$': 11,\n",
       "  'RB': 6,\n",
       "  'RBR': 7,\n",
       "  'RBS': 35,\n",
       "  'RP': 21,\n",
       "  'RRB': 19,\n",
       "  'TO': 39,\n",
       "  'UH': 14,\n",
       "  'VB': 23,\n",
       "  'VBD': 32,\n",
       "  'VBG': 41,\n",
       "  'VBN': 34,\n",
       "  'VBP': 24,\n",
       "  'VBZ': 2,\n",
       "  'WDT': 15,\n",
       "  'WP': 8,\n",
       "  'WP$': 13,\n",
       "  'WRB': 3,\n",
       "  '[PAD]': 0,\n",
       "  '``': 31})"
      ]
     },
     "execution_count": 99,
     "metadata": {},
     "output_type": "execute_result"
    }
   ],
   "source": [
    "target_vocab, tag2idx"
   ]
  },
  {
   "cell_type": "code",
   "execution_count": null,
   "metadata": {
    "colab": {
     "base_uri": "https://localhost:8080/",
     "height": 265
    },
    "id": "R44g5T7NYp_H",
    "outputId": "6ff75345-b2d8-454f-c103-11b8c6891843"
   },
   "outputs": [
    {
     "data": {
      "image/png": "[encoded data removed]",
      "text/plain": [
       "<Figure size 432x288 with 1 Axes>"
      ]
     },
     "metadata": {
      "needs_background": "light"
     },
     "output_type": "display_data"
    }
   ],
   "source": [
    "plt.hist([len(s) for s in sentences], bins=100) # Length of sentences\n",
    "plt.show()"
   ]
  },
  {
   "cell_type": "code",
   "execution_count": null,
   "metadata": {
    "colab": {
     "base_uri": "https://localhost:8080/"
    },
    "id": "q_WaD3K43hXl",
    "outputId": "d2a512f6-7c26-47e6-d37c-79134d9f5c3f"
   },
   "outputs": [
    {
     "data": {
      "text/plain": [
       "10000"
      ]
     },
     "execution_count": 101,
     "metadata": {},
     "output_type": "execute_result"
    }
   ],
   "source": [
    "training_sentences = [[w[0] for w in s] for s in sentences]\n",
    "training_labels = [[w[1] for w in s] for s in sentences]\n",
    "num_samples = len(training_sentences[:10000])\n",
    "num_samples"
   ]
  },
  {
   "cell_type": "code",
   "execution_count": null,
   "metadata": {
    "id": "_wSKYfdwwcWX"
   },
   "outputs": [],
   "source": [
    "training_sentences = training_sentences[:num_samples]\n",
    "training_labels = training_labels[:num_samples]"
   ]
  },
  {
   "cell_type": "code",
   "execution_count": null,
   "metadata": {
    "id": "lxKici438Zf_"
   },
   "outputs": [],
   "source": [
    "from transformers import BertTokenizer, TFBertForTokenClassification\n",
    "\n",
    "# initialize tokenizer\n",
    "tokenizer = BertTokenizer.from_pretrained('bert-base-cased', cache_dir=path)\n"
   ]
  },
  {
   "cell_type": "code",
   "execution_count": null,
   "metadata": {
    "id": "ST-wrIH6Mm7D"
   },
   "outputs": [],
   "source": [
    "def tokenize_and_preserve_labels(sentence, text_labels):\n",
    "      tokenized_sentence = ['[CLS]']\n",
    "      labels = ['O']\n",
    "      for word, label in zip(sentence, text_labels):\n",
    "    # Tokenize the word and count # of subwords the word is broken into\n",
    "        tokenized_word = tokenizer.tokenize(word)\n",
    "        n_subwords = len(tokenized_word)\n",
    "    # Add the tokenized word to the final tokenized word list\n",
    "        tokenized_sentence.extend(tokenized_word)\n",
    "    # Add the same label to the new list of labels `n_subwords` times\n",
    "        labels.extend([label] * n_subwords)\n",
    "      tokenized_sentence.append('[SEP]')\n",
    "      labels.append('O')\n",
    "      return tokenized_sentence, labels"
   ]
  },
  {
   "cell_type": "code",
   "execution_count": null,
   "metadata": {
    "id": "ro8-ZDg1CriV"
   },
   "outputs": [],
   "source": [
    "tokenized_texts_and_labels = [tokenize_and_preserve_labels(sent, labs) for sent, labs in zip(training_sentences, training_labels)]"
   ]
  },
  {
   "cell_type": "code",
   "execution_count": null,
   "metadata": {
    "id": "mOF4HPuOA26K"
   },
   "outputs": [],
   "source": [
    "tokenized_texts = [token_label_pair[0] for token_label_pair in tokenized_texts_and_labels]\n",
    "labels = [token_label_pair[1] for token_label_pair in tokenized_texts_and_labels]"
   ]
  },
  {
   "cell_type": "code",
   "execution_count": null,
   "metadata": {
    "colab": {
     "base_uri": "https://localhost:8080/"
    },
    "id": "T9Zp-A6m5tI2",
    "outputId": "607b729c-c815-423b-f125-4f3bcc32b286"
   },
   "outputs": [
    {
     "data": {
      "text/plain": [
       "['O',\n",
       " 'NNS',\n",
       " 'IN',\n",
       " 'NNS',\n",
       " 'NNS',\n",
       " 'NNS',\n",
       " 'VBP',\n",
       " 'VBN',\n",
       " 'IN',\n",
       " 'NNP',\n",
       " 'TO',\n",
       " 'VB',\n",
       " 'DT',\n",
       " 'NN',\n",
       " 'IN',\n",
       " 'NNP',\n",
       " 'CC',\n",
       " 'VB',\n",
       " 'DT',\n",
       " 'NN',\n",
       " 'IN',\n",
       " 'JJ',\n",
       " 'NNS',\n",
       " 'IN',\n",
       " 'DT',\n",
       " 'NN',\n",
       " '.',\n",
       " 'O']"
      ]
     },
     "execution_count": 108,
     "metadata": {},
     "output_type": "execute_result"
    }
   ],
   "source": [
    "labels[0]"
   ]
  },
  {
   "cell_type": "code",
   "execution_count": null,
   "metadata": {
    "id": "qCCJU5D8U_hZ"
   },
   "outputs": [],
   "source": [
    "from keras.preprocessing.sequence import pad_sequences\n",
    "MAX_LEN =64\n",
    "X = pad_sequences([tokenizer.convert_tokens_to_ids(txt) for txt in tokenized_texts],\n",
    "                          maxlen=MAX_LEN, dtype=\"long\", value=0.0,\n",
    "                          truncating=\"post\", padding=\"post\")\n",
    "y = pad_sequences([[tag2idx.get(l) for l in lab] for lab in labels],\n",
    "                     maxlen=MAX_LEN, value=tag2idx[\"[PAD]\"], padding=\"post\",\n",
    "                     dtype=\"long\", truncating=\"post\")\n",
    "attention_masks = [[int(i != 0.0) for i in j] for j in X]"
   ]
  },
  {
   "cell_type": "code",
   "execution_count": null,
   "metadata": {
    "colab": {
     "base_uri": "https://localhost:8080/"
    },
    "id": "p_E1km6j8T4G",
    "outputId": "4969c7f3-c028-4c08-d3ca-64d38d340f46"
   },
   "outputs": [
    {
     "data": {
      "text/plain": [
       "{0: '[PAD]',\n",
       " 1: 'O',\n",
       " 2: 'VBZ',\n",
       " 3: 'WRB',\n",
       " 4: 'IN',\n",
       " 5: 'EX',\n",
       " 6: 'RB',\n",
       " 7: 'RBR',\n",
       " 8: 'WP',\n",
       " 9: 'JJS',\n",
       " 10: 'NNPS',\n",
       " 11: 'PRP$',\n",
       " 12: '$',\n",
       " 13: 'WP$',\n",
       " 14: 'UH',\n",
       " 15: 'WDT',\n",
       " 16: 'CC',\n",
       " 17: ':',\n",
       " 18: '.',\n",
       " 19: 'RRB',\n",
       " 20: 'NNS',\n",
       " 21: 'RP',\n",
       " 22: 'MD',\n",
       " 23: 'VB',\n",
       " 24: 'VBP',\n",
       " 25: 'JJR',\n",
       " 26: 'JJ',\n",
       " 27: 'DT',\n",
       " 28: 'LRB',\n",
       " 29: ';',\n",
       " 30: 'CD',\n",
       " 31: '``',\n",
       " 32: 'VBD',\n",
       " 33: 'PDT',\n",
       " 34: 'VBN',\n",
       " 35: 'RBS',\n",
       " 36: 'FW',\n",
       " 37: 'NNP',\n",
       " 38: ',',\n",
       " 39: 'TO',\n",
       " 40: 'PRP',\n",
       " 41: 'VBG',\n",
       " 42: 'POS',\n",
       " 43: 'NN'}"
      ]
     },
     "execution_count": 110,
     "metadata": {},
     "output_type": "execute_result"
    }
   ],
   "source": [
    "indxtotag = {t: i for i, t in tag2idx.items()}\n",
    "indxtotag"
   ]
  },
  {
   "cell_type": "markdown",
   "metadata": {
    "id": "L9SCQ1OTUEnb"
   },
   "source": [
    "# Load Model"
   ]
  },
  {
   "cell_type": "code",
   "execution_count": null,
   "metadata": {
    "id": "DRKFp3i8ma3U"
   },
   "outputs": [],
   "source": [
    "BUFFER_SIZE = len(X)\n",
    "BATCH_SIZE = 64\n",
    "\n",
    "data = tf.data.Dataset.from_tensor_slices((X, attention_masks, y)).shuffle(BUFFER_SIZE)\n",
    "data = data.batch(BATCH_SIZE, drop_remainder=False)"
   ]
  },
  {
   "cell_type": "code",
   "execution_count": null,
   "metadata": {
    "colab": {
     "base_uri": "https://localhost:8080/"
    },
    "id": "1HgSxtUnpBih",
    "outputId": "924166be-6d2b-4c62-c4b7-4d6a0986e249"
   },
   "outputs": [
    {
     "name": "stdout",
     "output_type": "stream",
     "text": [
      "(64, 64) (64, 64) (64, 64)\n"
     ]
    }
   ],
   "source": [
    "for x,y,z in data:\n",
    "    print(x.shape, y.shape, z.shape)\n",
    "    break"
   ]
  },
  {
   "cell_type": "code",
   "execution_count": null,
   "metadata": {
    "colab": {
     "base_uri": "https://localhost:8080/"
    },
    "id": "pPOpIaUWu9AZ",
    "outputId": "d4722f8e-b234-4433-a09a-9e86ae1e914d"
   },
   "outputs": [
    {
     "data": {
      "text/plain": [
       "9000.0"
      ]
     },
     "execution_count": 113,
     "metadata": {},
     "output_type": "execute_result"
    }
   ],
   "source": [
    "SIZE = num_samples/BATCH_SIZE\n",
    "SPLIT = 0.9\n",
    "SIZE*SPLIT*BATCH_SIZE"
   ]
  },
  {
   "cell_type": "code",
   "execution_count": null,
   "metadata": {
    "id": "2YHfIYGcmi7q"
   },
   "outputs": [],
   "source": [
    "def map_func(input_ids, masks, labels):\n",
    "    return {'input_ids': input_ids, 'attention_mask': masks}, labels\n",
    "  \n",
    "data = data.map(map_func)\n",
    "\n",
    "train = data.take(int(SIZE*SPLIT))\n",
    "val = data.skip(int(SIZE*SPLIT))\n",
    "\n",
    "del data"
   ]
  },
  {
   "cell_type": "code",
   "execution_count": null,
   "metadata": {
    "colab": {
     "base_uri": "https://localhost:8080/"
    },
    "id": "XT7OrBxrCbZj",
    "outputId": "fbef22f2-28a4-47b1-ecde-2c53354d564e"
   },
   "outputs": [
    {
     "name": "stderr",
     "output_type": "stream",
     "text": [
      "All model checkpoint layers were used when initializing TFBertForTokenClassification.\n",
      "\n",
      "Some layers of TFBertForTokenClassification were not initialized from the model checkpoint at bert-base-cased and are newly initialized: ['classifier']\n",
      "You should probably TRAIN this model on a down-stream task to be able to use it for predictions and inference.\n"
     ]
    }
   ],
   "source": [
    "model = TFBertForTokenClassification.from_pretrained(\n",
    "\"bert-base-cased\",\n",
    "num_labels=len(tag2idx),\n",
    "output_attentions = False,\n",
    "output_hidden_states = False\n",
    ")"
   ]
  },
  {
   "cell_type": "code",
   "execution_count": null,
   "metadata": {
    "id": "yc9JexC1MKFP"
   },
   "outputs": [],
   "source": [
    "loss_object = tf.keras.losses.SparseCategoricalCrossentropy(from_logits=True)\n",
    "optimizer = tf.keras.optimizers.Adam(learning_rate=0.00001)\n",
    "train_accuracy = tf.keras.metrics.SparseCategoricalAccuracy(name='train_accuracy')\n",
    "test_accuracy = tf.keras.metrics.SparseCategoricalAccuracy(name='test_accuracy')"
   ]
  },
  {
   "cell_type": "code",
   "execution_count": null,
   "metadata": {
    "id": "WmE1QilqLINW"
   },
   "outputs": [],
   "source": [
    "@tf.function\n",
    "def train_step(inp, tar):\n",
    "  with tf.GradientTape() as tape:\n",
    "    logits = model(inp['input_ids'], token_type_ids=None, attention_mask=inp['attention_mask']).logits\n",
    "    loss = loss_object(tar, logits)\n",
    "  gradients = tape.gradient(loss, model.trainable_variables)\n",
    "  optimizer.apply_gradients(zip(gradients, model.trainable_variables))\n",
    "  train_accuracy.update_state(tar, logits)\n",
    "  return loss\n",
    "def val_step(inp, tar):\n",
    "  logits = model(inp['input_ids'], token_type_ids=None, attention_mask=inp['attention_mask']).logits\n",
    "  loss = loss_object(tar, logits)\n",
    "  test_accuracy.update_state(tar, logits)\n",
    "  return loss  "
   ]
  },
  {
   "cell_type": "code",
   "execution_count": null,
   "metadata": {
    "colab": {
     "base_uri": "https://localhost:8080/"
    },
    "id": "xGCEniHoDpR4",
    "outputId": "1e563091-792a-45da-8fe0-d042db3d138a"
   },
   "outputs": [
    {
     "name": "stdout",
     "output_type": "stream",
     "text": [
      "Epoch 1, Loss: 1.2053, Accuracy: 0.7345, Val_Loss: 0.2685, Val Accuracy: 0.9498\n",
      "Time taken for 1 epoch: 68.75 secs\n",
      "\n",
      "Epoch 2, Loss: 0.1321, Accuracy: 0.9754, Val_Loss: 0.0726, Val Accuracy: 0.9858\n",
      "Time taken for 1 epoch: 61.11 secs\n",
      "\n",
      "Epoch 3, Loss: 0.0575, Accuracy: 0.9887, Val_Loss: 0.0447, Val Accuracy: 0.9905\n",
      "Time taken for 1 epoch: 61.12 secs\n",
      "\n",
      "Epoch 4, Loss: 0.0390, Accuracy: 0.9919, Val_Loss: 0.0346, Val Accuracy: 0.9931\n",
      "Time taken for 1 epoch: 61.11 secs\n",
      "\n",
      "Epoch 5, Loss: 0.0295, Accuracy: 0.9937, Val_Loss: 0.0266, Val Accuracy: 0.9942\n",
      "Time taken for 1 epoch: 61.12 secs\n",
      "\n"
     ]
    }
   ],
   "source": [
    "import time\n",
    "EPOCHS = 5\n",
    "history = {\n",
    "  \"epoch\": [],\n",
    "  \"loss\": [],\n",
    "  \"Accuracy\" :[],\n",
    "  \"val_loss\" :[],\n",
    "  \"val_Accuracy\" :[]\n",
    "}\n",
    "for epoch in range(EPOCHS):\n",
    "  start = time.time()\n",
    "  total_loss = 0\n",
    "  val_loss = 0\n",
    "  # TRAIN LOOP\n",
    "  for (batch, (inp, tar)) in enumerate(train):\n",
    "      batch_loss = train_step(inp,tar)\n",
    "      total_loss = total_loss + batch_loss\n",
    "  history['epoch'].append(epoch)\n",
    "  history['loss'].append(total_loss/(batch+1))\n",
    "  history['Accuracy'].append(train_accuracy.result())  \n",
    "  for (batc, (inp, tar)) in enumerate(val):\n",
    "      batch_loss = val_step(inp,tar)\n",
    "      val_loss += batch_loss\n",
    "  history['val_loss'].append(val_loss/(batc+1))\n",
    "  history['val_Accuracy'].append(test_accuracy.result())  \n",
    "  if (epoch+1) % 1 == 0: \n",
    "        print(f'Epoch {epoch+1}, Loss: {total_loss/(batch+1):.4f}, Accuracy: {train_accuracy.result():.4f}, Val_Loss: {val_loss/(batc+1):.4f}, Val Accuracy: {test_accuracy.result():.4f}') \n",
    "        print(f'Time taken for 1 epoch: {time.time() - start:.2f} secs\\n')\n",
    "  train_accuracy.reset_states()\n",
    "  test_accuracy.reset_states()"
   ]
  },
  {
   "cell_type": "code",
   "execution_count": null,
   "metadata": {
    "id": "TeL49AOPMDl2"
   },
   "outputs": [],
   "source": [
    "def evaluate(inp):\n",
    "    logits = model(inp['input_ids'], token_type_ids=None, attention_mask=inp['attention_mask']).logits\n",
    "    predicted_id = tf.argmax(logits, axis=-1)\n",
    "    return logits, predicted_id"
   ]
  },
  {
   "cell_type": "code",
   "execution_count": null,
   "metadata": {
    "colab": {
     "base_uri": "https://localhost:8080/"
    },
    "id": "MSJQ7V4-pIXJ",
    "outputId": "56387ed1-fb40-4463-ac2b-86d7aa0d2d18"
   },
   "outputs": [
    {
     "name": "stdout",
     "output_type": "stream",
     "text": [
      "Accuracy of model on Test :  0.9955529\n",
      "Time taken for 1 epoch: 2.50 secs\n",
      "\n"
     ]
    }
   ],
   "source": [
    "start = time.time()\n",
    "for (batch, (inp, tar)) in enumerate(val):\n",
    "    x_test = inp\n",
    "    y_test = tar\n",
    "    logits,prob = evaluate(inp)\n",
    "    test_accuracy.update_state(tar, logits)\n",
    "print('Accuracy of model on Test : ', test_accuracy.result().numpy())\n",
    "print(f'Time taken for 1 epoch: {time.time() - start:.2f} secs\\n')"
   ]
  },
  {
   "cell_type": "code",
   "execution_count": null,
   "metadata": {
    "colab": {
     "base_uri": "https://localhost:8080/"
    },
    "id": "ltGg_QmppfYn",
    "outputId": "7943c270-a2d3-4e0f-8945-cfa266b21715"
   },
   "outputs": [
    {
     "name": "stdout",
     "output_type": "stream",
     "text": [
      "Word           True \t Pred\n",
      "\n",
      "------------------------------\n",
      "[CLS] The latest quake, of 6. 1 magnitude, struck deep under the waters of Tomini Bay off northern Sulawesi's Gorontalo province Sunday. [SEP] [PAD] [PAD] [PAD] [PAD] [PAD] [PAD] [PAD] [PAD] [PAD] [PAD] [PAD] [PAD] [PAD] [PAD] [PAD] [PAD] [PAD] [PAD] [PAD] [PAD] [PAD] [PAD] [PAD] [PAD] [PAD] [PAD] [PAD]\n",
      "[CLS]          O\tO\n",
      "The            DT\tDT\n",
      "latest         JJS\tJJS\n",
      "q              NN\tNN\n",
      "##ua           NN\tNN\n",
      "##ke           NN\tNN\n",
      ",              ,\t,\n",
      "of             IN\tIN\n",
      "6              CD\tCD\n",
      ".              CD\tCD\n",
      "1              CD\tCD\n",
      "magnitude      NN\tNN\n",
      ",              ,\t,\n",
      "struck         VBD\tVBD\n",
      "deep           JJ\tRB\n",
      "under          IN\tIN\n",
      "the            DT\tDT\n",
      "waters         NNS\tNNS\n",
      "of             IN\tIN\n",
      "Tom            NNP\tNNP\n",
      "##ini          NNP\tNNP\n",
      "Bay            NNP\tNNP\n",
      "off            IN\tIN\n",
      "northern       JJ\tJJ\n",
      "Sul            NNP\tNNP\n",
      "##aw           NNP\tNNP\n",
      "##esi          NNP\tNNP\n",
      "'              POS\tPOS\n",
      "s              POS\tPOS\n",
      "Go             NNP\tNNP\n",
      "##ron          NNP\tNNP\n",
      "##tal          NNP\tNNP\n",
      "##o            NNP\tNNP\n",
      "province       NN\tNN\n",
      "Sunday         NNP\tNNP\n",
      ".              .\t.\n",
      "[SEP]          O\tO\n"
     ]
    }
   ],
   "source": [
    "i = np.random.randint(0, x_test['input_ids'].shape[0]) #659\n",
    "p = prob[i]\n",
    "y_true = y_test[i]\n",
    "print(\"{:15}{:5}\\t {}\\n\".format(\"Word\", \"True\", \"Pred\"))\n",
    "print(\"-\" *30)\n",
    "test = tokenizer.convert_ids_to_tokens(x_test['input_ids'][i])\n",
    "for w, true, pred in zip(test, y_true, p):\n",
    "    print(\"{:15}{}\\t{}\".format(w, indxtotag[true.numpy()], indxtotag[pred.numpy()]))\n",
    "    if w == '[SEP]':\n",
    "      break"
   ]
  },
  {
   "cell_type": "code",
   "execution_count": null,
   "metadata": {
    "id": "NzoCereEr8E7"
   },
   "outputs": [],
   "source": []
  }
 ],
 "metadata": {
  "accelerator": "GPU",
  "colab": {
   "collapsed_sections": [],
   "machine_shape": "hm",
   "name": "POS_BERT.ipynb",
   "provenance": []
  },
  "kernelspec": {
   "display_name": "Python 3",
   "language": "python",
   "name": "python3"
  },
  "language_info": {
   "codemirror_mode": {
    "name": "ipython",
    "version": 3
   },
   "file_extension": ".py",
   "mimetype": "text/x-python",
   "name": "python",
   "nbconvert_exporter": "python",
   "pygments_lexer": "ipython3",
   "version": "3.6.9"
  }
 },
 "nbformat": 4,
 "nbformat_minor": 4
}
