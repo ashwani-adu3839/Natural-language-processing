{
  "nbformat": 4,
  "nbformat_minor": 0,
  "metadata": {
    "colab": {
      "name": "Mask_Fill_transformer",
      "provenance": [],
      "collapsed_sections": [],
      "machine_shape": "hm"
    },
    "kernelspec": {
      "display_name": "Python 3",
      "language": "python",
      "name": "python3"
    },
    "language_info": {
      "codemirror_mode": {
        "name": "ipython",
        "version": 3
      },
      "file_extension": ".py",
      "mimetype": "text/x-python",
      "name": "python",
      "nbconvert_exporter": "python",
      "pygments_lexer": "ipython3",
      "version": "3.7.0"
    },
    "accelerator": "GPU"
  },
  "cells": [
    {
      "cell_type": "code",
      "metadata": {
        "id": "vlBH21VLU0b-"
      },
      "source": [
        "!pip install tensorflow_text"
      ],
      "execution_count": null,
      "outputs": []
    },
    {
      "cell_type": "code",
      "metadata": {
        "id": "IYR-Ia3w4Bc5"
      },
      "source": [
        "import tensorflow_datasets as tfds\n",
        "import tensorflow as tf\n",
        "from unicodedata import normalize\n",
        "import tensorflow_text as tf_text\n",
        "from dataclasses import dataclass\n",
        "import pandas as pd\n",
        "import numpy as np\n",
        "import glob\n",
        "import re\n",
        "import time\n",
        "from sklearn.model_selection import train_test_split\n",
        "import matplotlib.pyplot as plt "
      ],
      "execution_count": null,
      "outputs": []
    },
    {
      "cell_type": "code",
      "metadata": {
        "id": "MjFzP59L4Bc9"
      },
      "source": [
        "dataset, info = tfds.load('imdb_reviews', with_info=True,   as_supervised=True)\n",
        "\n",
        "train_dataset, test_dataset = dataset['train'], dataset['test']"
      ],
      "execution_count": null,
      "outputs": []
    },
    {
      "cell_type": "code",
      "metadata": {
        "id": "kojKAr6U4Bc-"
      },
      "source": [
        "# Process the data file\n",
        "def process_pairs(line):\n",
        "    line = tf.strings.lower(line)\n",
        "    line = tf_text.normalize_utf8(line, 'NFKD')\n",
        "    line = tf.strings.regex_replace(line, \"[%s]\" % re.escape(\"!#$%&'()*+,-./:;<=>?@\\^_`{|}~\"), \"\")\n",
        "    return line"
      ],
      "execution_count": null,
      "outputs": []
    },
    {
      "cell_type": "code",
      "metadata": {
        "id": "Hs91pzAdVunj"
      },
      "source": [
        "dataset_train = train_dataset.map(lambda x, y: (process_pairs(x)))\n",
        "dataset_test = test_dataset.map(lambda x, y: (process_pairs(x)))"
      ],
      "execution_count": null,
      "outputs": []
    },
    {
      "cell_type": "code",
      "metadata": {
        "colab": {
          "base_uri": "https://localhost:8080/"
        },
        "id": "NxR--eHFcxUx",
        "outputId": "fe3dba5e-e82d-4947-fe18-fc344c4fdc10"
      },
      "source": [
        "for x in dataset_train:\n",
        "   print(x)\n",
        "   break"
      ],
      "execution_count": null,
      "outputs": [
        {
          "output_type": "stream",
          "name": "stdout",
          "text": [
            "tf.Tensor(b'this was an absolutely terrible movie dont be lured in by christopher walken or michael ironside both are great actors but this must simply be their worst role in history even their great acting could not redeem this movies ridiculous storyline this movie is an early nineties us propaganda piece the most pathetic scenes were those when the columbian rebels were making their cases for revolutions maria conchita alonso appeared phony and her pseudolove affair with walken was nothing but a pathetic emotional plug in a movie that was devoid of any real meaning i am disappointed that there are movies like this ruining actors like christopher walkens good name i could barely sit through it', shape=(), dtype=string)\n"
          ]
        }
      ]
    },
    {
      "cell_type": "code",
      "metadata": {
        "colab": {
          "base_uri": "https://localhost:8080/",
          "height": 265
        },
        "id": "fRhSReOxlr7y",
        "outputId": "1c70406b-6843-477c-a14d-7df2d658b723"
      },
      "source": [
        "plt.hist([len(s.numpy()) for s in dataset_train],log=True, bins=100)\n",
        "plt.show()"
      ],
      "execution_count": null,
      "outputs": [
        {
          "output_type": "display_data",
          "data": {
            "image/png": "[encoded data removed]",
            "text/plain": [
              "<Figure size 432x288 with 1 Axes>"
            ]
          },
          "metadata": {
            "needs_background": "light"
          }
        }
      ]
    },
    {
      "cell_type": "code",
      "metadata": {
        "id": "lmZNv4mSu7ix"
      },
      "source": [
        "def custom_standardization(input_data):\n",
        "    lowercase = tf.strings.lower(input_data)\n",
        "    stripped_html = tf.strings.regex_replace(lowercase, \"<br />\", \" \")\n",
        "    return tf.strings.regex_replace(\n",
        "        stripped_html, \"[%s]\" % re.escape(\"!#$%&'()*+,-./:;<=>?@\\^_`{|}~\"), \"\"\n",
        "    )"
      ],
      "execution_count": null,
      "outputs": []
    },
    {
      "cell_type": "code",
      "metadata": {
        "colab": {
          "base_uri": "https://localhost:8080/"
        },
        "id": "nGt34QOE3Dd9",
        "outputId": "5348bc0f-e0dc-4e5c-d800-d8ac2ae40aeb"
      },
      "source": [
        "custom_standardization('I have watched this [mask] and it was good')"
      ],
      "execution_count": null,
      "outputs": [
        {
          "output_type": "execute_result",
          "data": {
            "text/plain": [
              "<tf.Tensor: shape=(), dtype=string, numpy=b'i have watched this [mask] and it was good'>"
            ]
          },
          "metadata": {},
          "execution_count": 52
        }
      ]
    },
    {
      "cell_type": "code",
      "metadata": {
        "id": "quTmhO2cmvgX"
      },
      "source": [
        "max_length_word = 250\n",
        "vocab_size = 30000\n",
        "\n",
        "lang_tokenizer = tf.keras.layers.TextVectorization(max_tokens=vocab_size, output_mode=\"int\", \n",
        "                                                   output_sequence_length=max_length_word, standardize=custom_standardization)\n",
        "lang_tokenizer.adapt(dataset_train)\n",
        "vocab = lang_tokenizer.get_vocabulary()"
      ],
      "execution_count": null,
      "outputs": []
    },
    {
      "cell_type": "code",
      "metadata": {
        "id": "gYLOauJdtkuK"
      },
      "source": [
        "vocab = vocab[2 : vocab_size - 1] + [\"[mask]\"]\n",
        "lang_tokenizer.set_vocabulary(vocab)\n",
        "\n",
        "train_padded = dataset_train.map(lang_tokenizer)\n",
        "testing_padded = dataset_test.map(lang_tokenizer)"
      ],
      "execution_count": null,
      "outputs": []
    },
    {
      "cell_type": "code",
      "metadata": {
        "id": "qt-19g1TtnA8"
      },
      "source": [
        "id2token = dict(enumerate(lang_tokenizer.get_vocabulary()))\n",
        "token2id = {y: x for x, y in id2token.items()}"
      ],
      "execution_count": null,
      "outputs": []
    },
    {
      "cell_type": "code",
      "metadata": {
        "colab": {
          "base_uri": "https://localhost:8080/"
        },
        "id": "HS6bOvt105kb",
        "outputId": "7415f352-6c39-473b-af71-39fba4e898ba"
      },
      "source": [
        "mask_index = token2id[\"[mask]\"]\n",
        "mask_index"
      ],
      "execution_count": null,
      "outputs": [
        {
          "output_type": "execute_result",
          "data": {
            "text/plain": [
              "29999"
            ]
          },
          "metadata": {},
          "execution_count": 57
        }
      ]
    },
    {
      "cell_type": "code",
      "metadata": {
        "id": "LCRU2GZttWK1"
      },
      "source": [
        "# Mask the words in data\n",
        "def masking_word(train_padded):\n",
        "\n",
        "    inp_mask = tf.experimental.numpy.random.randn(max_length_word) < 0.15\n",
        "    mask = inp_mask & (np.random.rand(max_length_word) < 0.15)#    mask = np.random.randn(train_padded.shape[0]) < 1\n",
        "    y_l = tf.where(train_padded > 1,tf.cast(mask, tf.int64), train_padded)\n",
        "    y_train = train_padded-y_l*train_padded+y_l*mask_index\n",
        "    return y_train\n",
        "   "
      ],
      "execution_count": null,
      "outputs": []
    },
    {
      "cell_type": "code",
      "metadata": {
        "id": "s9RUnaeRu9Hr"
      },
      "source": [
        "y_train = train_padded.map(lambda x: (masking_word(x)))"
      ],
      "execution_count": null,
      "outputs": []
    },
    {
      "cell_type": "code",
      "metadata": {
        "id": "az-q-jH6t_wb"
      },
      "source": [
        "y_test = testing_padded.map(lambda x: (masking_word(x)))"
      ],
      "execution_count": null,
      "outputs": []
    },
    {
      "cell_type": "code",
      "metadata": {
        "id": "18xYUGpELb7f"
      },
      "source": [
        "def data_to_numpy(data, label):\n",
        "    sentences = []\n",
        "    labels = []\n",
        "    \n",
        "    for sentence, y_label in zip(data, label):\n",
        "\n",
        "        sentences.append(sentence.numpy())\n",
        "        labels.append(y_label.numpy())\n",
        "\n",
        "    labels_np = np.array(labels)\n",
        "    sentences = np.array(sentences)\n",
        "    return sentences, labels_np\n",
        "training_sentences, train_mask = data_to_numpy(train_padded, y_train)\n",
        "testing_sentences, testing_mask = data_to_numpy(testing_padded, y_test)"
      ],
      "execution_count": null,
      "outputs": []
    },
    {
      "cell_type": "code",
      "metadata": {
        "colab": {
          "base_uri": "https://localhost:8080/"
        },
        "id": "QKk1rvsNLzz_",
        "outputId": "18c6009b-10bb-4e08-98b6-a5ae7adfa8ab"
      },
      "source": [
        "testing_sentences, val_sentences, testing_mask, val_mask = train_test_split(testing_sentences, testing_mask, test_size=5000, random_state=42)\n",
        "len(testing_sentences), len(val_sentences)"
      ],
      "execution_count": null,
      "outputs": [
        {
          "output_type": "execute_result",
          "data": {
            "text/plain": [
              "(20000, 5000)"
            ]
          },
          "metadata": {},
          "execution_count": 62
        }
      ]
    },
    {
      "cell_type": "code",
      "metadata": {
        "id": "g8HetgfBvzZJ"
      },
      "source": [
        "BUFFER_SIZE = len(training_sentences)\n",
        "BATCH_SIZE = 16\n",
        "input_vocab_size = vocab_size\n",
        "\n",
        "dataset = tf.data.Dataset.from_tensor_slices((training_sentences, train_mask)).shuffle(BUFFER_SIZE)\n",
        "dataset = dataset.batch(BATCH_SIZE, drop_remainder=False)"
      ],
      "execution_count": null,
      "outputs": []
    },
    {
      "cell_type": "code",
      "metadata": {
        "id": "hRU21V6pwK84"
      },
      "source": [
        "BUFFER_SIZE_TEST = len(testing_sentences)\n",
        "dataset_test = tf.data.Dataset.from_tensor_slices((testing_sentences, testing_mask)).shuffle(BUFFER_SIZE_TEST)\n",
        "dataset_test = dataset_test.batch(BATCH_SIZE, drop_remainder=False)"
      ],
      "execution_count": null,
      "outputs": []
    },
    {
      "cell_type": "code",
      "metadata": {
        "id": "a4JFCIcgwM0W"
      },
      "source": [
        "BUFFER_SIZE_VAL = len(val_sentences)\n",
        "dataset_val = tf.data.Dataset.from_tensor_slices((val_sentences, val_mask)).shuffle(BUFFER_SIZE_VAL)\n",
        "dataset_val = dataset_val.batch(BATCH_SIZE, drop_remainder=False)"
      ],
      "execution_count": null,
      "outputs": []
    },
    {
      "cell_type": "code",
      "metadata": {
        "id": "l7YZZZKXwY34"
      },
      "source": [
        "class SelfAttention(tf.keras.layers.Layer):\n",
        "    def __init__(self, embed_size, heads):\n",
        "        super(SelfAttention, self).__init__()\n",
        "        self.embed_size = embed_size\n",
        "        self.heads = heads\n",
        "        self.head_dim = embed_size // heads\n",
        "\n",
        "        assert (\n",
        "            self.head_dim * heads == embed_size\n",
        "        ), \"Embedding size needs to be divisible by heads\"\n",
        "\n",
        "        self.wq = tf.keras.layers.Dense(self.head_dim)\n",
        "        self.wk = tf.keras.layers.Dense(self.head_dim)\n",
        "        self.wv = tf.keras.layers.Dense(self.head_dim)\n",
        "        self.dense = tf.keras.layers.Dense(self.embed_size)\n",
        "\n",
        "\n",
        "    def call(self, v, k, q, mask):\n",
        "        # Get number of training examples\n",
        "        batch_size = q.shape[0]\n",
        "\n",
        "        seq_len_v, seq_len_k, seq_len_q = v.shape[1], k.shape[1], q.shape[1]\n",
        "\n",
        "\n",
        "        # Split the embedding into self.heads different pieces\n",
        "        v = tf.reshape(v,(batch_size,seq_len_v, self.heads, self.head_dim))\n",
        "        k = tf.reshape(k,(batch_size,seq_len_k, self.heads, self.head_dim))\n",
        "        q = tf.reshape(q,(batch_size,seq_len_q, self.heads, self.head_dim))\n",
        "\n",
        "\n",
        "        values = self.wv(v)  # (batch_size, value_len, heads, head_dim)\n",
        "        keys = self.wk(k)  # (batch_size, key_len, heads, head_dim)\n",
        "        queries = self.wq(q)  # (batch_size, query_len, heads, heads_dim)\n",
        "\n",
        "        # Einsum does matrix mult. for query*keys for each training example\n",
        "\n",
        "        attention = tf.einsum(\"nqhd,nkhd->nhqk\", queries, keys)\n",
        "        # queries shape: (batch_size, seq_len_q, heads, heads_dim),\n",
        "        # keys shape: (batch_size, seq_len_k, heads, heads_dim)\n",
        "        # attention: (batch_size, heads, seq_len_q, seq_len_k)\n",
        "\n",
        "         # scale matmul_qk\n",
        "        dk = tf.cast(tf.shape(keys)[1], tf.float32)\n",
        "        scaled_attention_logits = attention / tf.math.sqrt(dk)\n",
        "\n",
        "        # Mask padded indices so their weights become 0\n",
        "\n",
        "        if mask is not None:\n",
        "            scaled_attention_logits += (mask * -1e9)\n",
        "\n",
        "        # Normalize energy values similarly to seq2seq + attention\n",
        "        # so that they sum to 1. Also divide by scaling factor for\n",
        "        # better stability\n",
        "        attention_weights = tf.nn.softmax(scaled_attention_logits, axis=-1)\n",
        "        # attention shape: (batch_size, heads, seq_len_q, seq_len_k)\n",
        "\n",
        "\n",
        "\n",
        "        out = tf.einsum(\"nhql,nlhd->nqhd\", attention_weights, values)\n",
        "        out = tf.reshape(out, (batch_size, seq_len_q, -1))\n",
        "        # attention shape: (batch_size, heads, seq_len_q, key_len)\n",
        "        # values shape: (batch_size, seq_len_v, heads, heads_dim)\n",
        "        # out after matrix multiply: (batch_size, seq_len_q, heads, head_dim), then\n",
        "        # we reshape and flatten the last two dimensions.\n",
        "\n",
        "        out = self.dense(out)\n",
        "        # Linear layer doesn't modify the shape, final shape will be\n",
        "        # (N, query_len, embed_size)\n",
        "\n",
        "        return out, attention_weights\n",
        "\n",
        "class EncoderLayer(tf.keras.layers.Layer):\n",
        "  def __init__(self, embed_size, heads, forward_expansion, rate=0.1):\n",
        "    super(EncoderLayer, self).__init__()\n",
        "\n",
        "    self.self_attens= SelfAttention(embed_size, heads)\n",
        "    self.ffn = tf.keras.Sequential([\n",
        "      tf.keras.layers.Dense(forward_expansion, activation='relu'),  # (batch_size, seq_len, forward_expansion)\n",
        "      tf.keras.layers.Dense(embed_size)  # (batch_size, seq_len, d_model)\n",
        "       ])\n",
        "\n",
        "    self.layernorm1 = tf.keras.layers.LayerNormalization(epsilon=1e-6)\n",
        "    self.layernorm2 = tf.keras.layers.LayerNormalization(epsilon=1e-6)\n",
        "\n",
        "    self.dropout1 = tf.keras.layers.Dropout(rate)\n",
        "    self.dropout2 = tf.keras.layers.Dropout(rate)\n",
        "\n",
        "  def call(self, x, training, mask):\n",
        "\n",
        "    attn_output, _ = self.self_attens(x, x, x, mask)  # (batch_size, input_seq_len, d_model)\n",
        "    attn_output = self.dropout1(attn_output, training=training)\n",
        "    out1 = self.layernorm1(x + attn_output)  # (batch_size, input_seq_len, d_model)\n",
        "\n",
        "    ffn_output = self.ffn(out1)  # (batch_size, input_seq_len, d_model)\n",
        "    ffn_output = self.dropout2(ffn_output, training=training)\n",
        "    out2 = self.layernorm2(out1 + ffn_output)  # (batch_size, input_seq_len, d_model)\n",
        "\n",
        "    return out2\n",
        "\n",
        "class Encoder(tf.keras.Model):\n",
        "    def __init__(self, num_layers, embed_size,  heads, forward_expansion, input_vocab_size, max_length, rate=0.1):\n",
        "        super(Encoder, self).__init__()\n",
        "        self.embed_size = embed_size\n",
        "        self.num_layers = num_layers\n",
        "        self.max_length = max_length\n",
        "        self.embedding = tf.keras.layers.Embedding(input_vocab_size, embed_size)\n",
        "\n",
        "        self.Layerss =[EncoderLayer(embed_size, heads, forward_expansion, rate)\n",
        "                       for _ in range(self.num_layers)]\n",
        "                      \n",
        "\n",
        "        self.dropout = tf.keras.layers.Dropout(rate)\n",
        "        self.last_layer = tf.keras.layers.Dense(input_vocab_size, activation = 'softmax')\n",
        "\n",
        "    def positional_encoding(self):\n",
        "\n",
        "        pos = np.arange(self.max_length)[:, np.newaxis]\n",
        "        i = np.arange(self.embed_size)[np.newaxis, :]\n",
        "        angle_rates = 1 / np.power(10000, (2 * (i//2)) / np.float32(self.embed_size))\n",
        "\n",
        "        angle_rads = pos * angle_rates\n",
        "\n",
        "        # apply sin to even indices in the array; 2i\n",
        "        angle_rads[:, 0::2] = np.sin(angle_rads[:, 0::2])\n",
        "\n",
        "        # apply cos to odd indices in the array; 2i+1\n",
        "        angle_rads[:, 1::2] = np.cos(angle_rads[:, 1::2])\n",
        "\n",
        "        pos_encoding = angle_rads[np.newaxis, ...]\n",
        "\n",
        "        return tf.cast(pos_encoding, dtype=tf.float32)\n",
        "\n",
        "    def call(self, x, training, mask):\n",
        "\n",
        "        seq_len = tf.shape(x)[1]\n",
        "                                                         \n",
        "        x = self.embedding(x)  # (batch_size, input_seq_len, d_model)\n",
        "        x *= tf.math.sqrt(tf.cast(self.embed_size, tf.float32))\n",
        "        x += self.positional_encoding()[:, :seq_len, :]\n",
        "\n",
        "\n",
        "        x = self.dropout(x, training=training)\n",
        "        for i in range(self.num_layers):\n",
        "           x = self.Layerss[i](x, training, mask)\n",
        "        x = self.last_layer(x)\n",
        "        return x  # (batch_size, input_seq_len, vocab_size)"
      ],
      "execution_count": null,
      "outputs": []
    },
    {
      "cell_type": "code",
      "metadata": {
        "id": "J7_ebrpkw76C"
      },
      "source": [
        "num_layers = 4\n",
        "embed_size = 64\n",
        "heads = 4\n",
        "forward_expansion  = embed_size*2\n",
        "input_vocab_size = vocab_size\n",
        "max_length = 1000 \n",
        "rate = 0.1\n",
        "model = Encoder(num_layers,  embed_size, heads, forward_expansion,input_vocab_size, max_length, rate=rate)"
      ],
      "execution_count": null,
      "outputs": []
    },
    {
      "cell_type": "code",
      "metadata": {
        "id": "kfrXC7NR3XYB"
      },
      "source": [
        "def create_padding_mask(seq):\n",
        "  seq = tf.cast(tf.math.equal(seq, 0), tf.float32)\n",
        "  return seq[:, tf.newaxis, tf.newaxis, :]  # (batch_size, 1, 1, seq_len)"
      ],
      "execution_count": null,
      "outputs": []
    },
    {
      "cell_type": "code",
      "metadata": {
        "colab": {
          "base_uri": "https://localhost:8080/"
        },
        "id": "Whu_j8GmyZJz",
        "outputId": "7abbfb92-153c-4b7e-a03a-8b9a15563bcd"
      },
      "source": [
        "for x, y in dataset:\n",
        "    mask = create_padding_mask(x)\n",
        "    outputx = model(x, training=True, mask=mask)\n",
        "    print(outputx.shape)\n",
        "    break"
      ],
      "execution_count": null,
      "outputs": [
        {
          "output_type": "stream",
          "name": "stdout",
          "text": [
            "(16, 250, 30000)\n"
          ]
        }
      ]
    },
    {
      "cell_type": "code",
      "metadata": {
        "id": "U8l-yGCNzRF4"
      },
      "source": [
        "loss_object = tf.keras.losses.SparseCategoricalCrossentropy()\n",
        "optimizer = tf.keras.optimizers.Adam(learning_rate=0.0001)\n",
        "train_accuracy = tf.keras.metrics.SparseCategoricalAccuracy(name='train_accuracy')\n",
        "val_accuracy = tf.keras.metrics.SparseCategoricalAccuracy(name='val_accuracy')"
      ],
      "execution_count": null,
      "outputs": []
    },
    {
      "cell_type": "code",
      "metadata": {
        "id": "M4xQQaoTzYUb"
      },
      "source": [
        "@tf.function\n",
        "def train_step(inp, tar):\n",
        "    enc_padding_mask = create_padding_mask(inp)\n",
        "\n",
        "    with tf.GradientTape() as tape:\n",
        "      logits = model(inp,training = True, mask = enc_padding_mask)\n",
        "      loss = loss_object(tar, logits)\n",
        "\n",
        "    gradients = tape.gradient(loss, model.trainable_variables)\n",
        "    optimizer.apply_gradients(zip(gradients, model.trainable_variables))\n",
        "    train_accuracy.update_state(tar, logits)\n",
        "    return loss\n",
        "def val_step(inp, tar):\n",
        "    enc_padding_mask = create_padding_mask(inp)\n",
        "    logits = model(inp, False, enc_padding_mask)\n",
        "    loss = loss_object(tar, logits)\n",
        "    val_accuracy.update_state(tar, logits)\n",
        "    return loss"
      ],
      "execution_count": null,
      "outputs": []
    },
    {
      "cell_type": "code",
      "metadata": {
        "colab": {
          "base_uri": "https://localhost:8080/"
        },
        "id": "C9mLMB0pzpYA",
        "outputId": "3e5cd5fb-a56c-4531-a528-bb192232010b"
      },
      "source": [
        "EPOCHS =10\n",
        "history = {\n",
        "  \"epoch\": [],\n",
        "  \"loss\": [],\n",
        "  \"Accuracy\" :[],\n",
        "  \"Val_loss\": [],\n",
        "  \"Val_Accuracy\":[]  \n",
        "}\n",
        "for epoch in range(EPOCHS):\n",
        "  start = time.time()\n",
        "  total_loss = 0\n",
        "  val_loss = 0\n",
        "#  train_loss.reset_states()\n",
        "  for (batch, (inp, tar)) in enumerate(dataset):\n",
        "    batch_loss = train_step(inp, tar)\n",
        "    total_loss = total_loss+batch_loss\n",
        "  history['epoch'].append(epoch)\n",
        "  history['loss'].append(total_loss/(batch+1))\n",
        "  history['Accuracy'].append(train_accuracy.result())\n",
        "\n",
        "  # TEST LOOP\n",
        "  for (batch, (inp, tar)) in enumerate(dataset_val):\n",
        "    batch_loss = val_step(inp, tar)\n",
        "    val_loss = val_loss+batch_loss\n",
        "  history['Val_loss'].append(val_loss/(batch+1))\n",
        "  history['Val_Accuracy'].append(val_accuracy.result())\n",
        "\n",
        "  if (epoch+1) % 1 == 0:    \n",
        "        print(f'Epoch {epoch+1}, Loss: {total_loss/(batch+1):.4f}, Accuracy: {train_accuracy.result():.4f}, Validation Loss: {val_loss/(batch+1):.4f} Validation Accuracy: {val_accuracy.result():.4f}') \n",
        "        print(f'Time taken for 1 epoch: {time.time() - start:.2f} secs\\n')\n",
        "  train_accuracy.reset_states()\n",
        "  val_accuracy.reset_states()"
      ],
      "execution_count": null,
      "outputs": [
        {
          "output_type": "stream",
          "name": "stdout",
          "text": [
            "Epoch 1, Loss: 29.5543, Accuracy: 0.3197, Validation Loss: 3.4473 Validation Accuracy: 0.5574\n",
            "Time taken for 1 epoch: 189.62 secs\n",
            "\n",
            "Epoch 2, Loss: 12.2878, Accuracy: 0.6893, Validation Loss: 1.7344 Validation Accuracy: 0.7726\n",
            "Time taken for 1 epoch: 190.24 secs\n",
            "\n",
            "Epoch 3, Loss: 7.1662, Accuracy: 0.8069, Validation Loss: 1.2506 Validation Accuracy: 0.8267\n",
            "Time taken for 1 epoch: 191.63 secs\n",
            "\n",
            "Epoch 4, Loss: 5.0411, Accuracy: 0.8548, Validation Loss: 1.0089 Validation Accuracy: 0.8573\n",
            "Time taken for 1 epoch: 191.55 secs\n",
            "\n",
            "Epoch 5, Loss: 3.7932, Accuracy: 0.8838, Validation Loss: 0.8646 Validation Accuracy: 0.8770\n",
            "Time taken for 1 epoch: 191.79 secs\n",
            "\n",
            "Epoch 6, Loss: 2.9448, Accuracy: 0.9037, Validation Loss: 0.7757 Validation Accuracy: 0.8934\n",
            "Time taken for 1 epoch: 191.81 secs\n",
            "\n",
            "Epoch 7, Loss: 2.3334, Accuracy: 0.9182, Validation Loss: 0.7257 Validation Accuracy: 0.9014\n",
            "Time taken for 1 epoch: 191.64 secs\n",
            "\n",
            "Epoch 8, Loss: 1.8778, Accuracy: 0.9291, Validation Loss: 0.6938 Validation Accuracy: 0.9134\n",
            "Time taken for 1 epoch: 191.78 secs\n",
            "\n",
            "Epoch 9, Loss: 1.5310, Accuracy: 0.9373, Validation Loss: 0.6980 Validation Accuracy: 0.9153\n",
            "Time taken for 1 epoch: 191.80 secs\n",
            "\n",
            "Epoch 10, Loss: 1.2595, Accuracy: 0.9440, Validation Loss: 0.6894 Validation Accuracy: 0.9251\n",
            "Time taken for 1 epoch: 191.68 secs\n",
            "\n"
          ]
        }
      ]
    },
    {
      "cell_type": "code",
      "metadata": {
        "colab": {
          "base_uri": "https://localhost:8080/",
          "height": 336
        },
        "id": "OGbQJnhrfDA4",
        "outputId": "7135f118-399d-4edd-91f6-261506e9b0f9"
      },
      "source": [
        "plt.figure(figsize=(8,5))\n",
        "plt.plot(history[\"epoch\"],history[\"loss\"], label='loss')\n",
        "plt.title('Training loss')\n",
        "plt.legend(loc='best')\n",
        "plt.show()"
      ],
      "execution_count": null,
      "outputs": [
        {
          "output_type": "display_data",
          "data": {
            "image/png": "[encoded data removed]",
            "text/plain": [
              "<Figure size 576x360 with 1 Axes>"
            ]
          },
          "metadata": {
            "needs_background": "light"
          }
        }
      ]
    },
    {
      "cell_type": "code",
      "metadata": {
        "id": "BgTnHd3_9yDN"
      },
      "source": [
        "def masked_sentence(sentenceX):\n",
        "    sentence = process_pairs(sentenceX)\n",
        "    sentence = sentence.numpy()\n",
        "    print(sentence)\n",
        "    inputs = lang_tokenizer([sentence])#tf.keras.preprocessing.sequence.pad_sequences([inputs], maxlen=max_length_word, padding='post')\n",
        "    enc_padding_mask = create_padding_mask(inputs)\n",
        "    logits = model(inputs, False, enc_padding_mask)\n",
        "    prob = tf.argmax(logits, axis=-1).numpy()\n",
        "    print(logits.shape)\n",
        "    result = ''\n",
        "    for p in prob[0]:\n",
        "      if p==0:\n",
        "        break\n",
        "      result += id2token[p] + ' ' \n",
        "    print(result)\n"
      ],
      "execution_count": null,
      "outputs": []
    },
    {
      "cell_type": "code",
      "metadata": {
        "colab": {
          "base_uri": "https://localhost:8080/"
        },
        "id": "ihO61btf_CwG",
        "outputId": "3437e112-da94-4fc3-9aa7-bbd5b6b61f9e"
      },
      "source": [
        "masked_sentence(u'I have watched this [mask] and he was [mask]')"
      ],
      "execution_count": null,
      "outputs": [
        {
          "output_type": "stream",
          "name": "stdout",
          "text": [
            "b'i have watched this [mask] and he was [mask]'\n",
            "i have watched this astronaut and he was monitors \n"
          ]
        }
      ]
    },
    {
      "cell_type": "code",
      "metadata": {
        "id": "hUMXx7cRA8V8"
      },
      "source": [
        "test_accuracy = tf.keras.metrics.SparseCategoricalAccuracy(name='test_accuracy')"
      ],
      "execution_count": null,
      "outputs": []
    },
    {
      "cell_type": "code",
      "metadata": {
        "id": "yK7NyOW4fJi0"
      },
      "source": [
        "\n",
        "@tf.function\n",
        "def test_step(inp, tar):\n",
        "    enc_padding_mask = create_padding_mask(inp)\n",
        "    logits = model(inp, False, enc_padding_mask)\n",
        "    loss = loss_object(tar, logits)\n",
        "    test_accuracy.update_state(tar, logits)\n",
        "    return loss"
      ],
      "execution_count": null,
      "outputs": []
    },
    {
      "cell_type": "code",
      "metadata": {
        "id": "vP00QLum_eIX",
        "colab": {
          "base_uri": "https://localhost:8080/"
        },
        "outputId": "9b7d07cb-c8a7-431d-8b07-94f88a60c286"
      },
      "source": [
        "start = time.time()\n",
        "test_loss = 0\n",
        "for (batch, (inp, tar)) in enumerate(dataset_test):\n",
        "   batch_loss = test_step(inp, tar)\n",
        "   test_loss = test_loss+batch_loss\n",
        "print('Accuracy of model on Test : ', test_accuracy.result().numpy())\n",
        "print(f'Loss of model on Test : {test_loss.numpy()/(batch+1):.4f}')\n",
        "print(f'Time taken for epoch: {time.time() - start:.2f} secs\\n')\n",
        "test_accuracy.reset_states()"
      ],
      "execution_count": null,
      "outputs": [
        {
          "output_type": "stream",
          "name": "stdout",
          "text": [
            "Accuracy of model on Test :  0.925187\n",
            "Loss of model on Test : 0.6904\n",
            "Time taken for 1 epoch: 89.39 secs\n",
            "\n"
          ]
        }
      ]
    }
  ]
}